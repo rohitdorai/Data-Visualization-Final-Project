{
 "cells": [
  {
   "cell_type": "code",
   "execution_count": null,
   "id": "2b6e6728",
   "metadata": {
    "colab": {
     "base_uri": "https://localhost:8080/",
     "height": 1000
    },
    "id": "2b6e6728",
    "outputId": "77255ca5-8852-466d-d698-41b90245317a"
   },
   "outputs": [],
   "source": [
    "!pip install geopandas\n",
    "!pip install contextily\n",
    "!pip install seaborn as sns\n",
    "!pip install folium\n",
    "!pip install sodapy\n",
    "!pip install ipywidgets\n",
    "!pip install dabl\n"
   ]
  },
  {
   "cell_type": "code",
   "execution_count": null,
   "id": "Ue7M5rVfa9Cd",
   "metadata": {
    "id": "Ue7M5rVfa9Cd"
   },
   "outputs": [],
   "source": [
    "import zipfile\n",
    "import geopandas as gpd\n",
    "import contextily as ctx\n",
    "from shapely.geometry import Point\n",
    "import pandas as pd\n",
    "import folium\n",
    "import numpy as np\n",
    "import matplotlib.pyplot as plt\n",
    "import datetime\n",
    "import matplotlib.dates as mdates\n",
    "import seaborn as sns\n",
    "import plotly.express as px\n",
    "import pandas as pd\n",
    "from sodapy import Socrata\n",
    "import string\n",
    "import ipywidgets as widgets\n",
    "from dabl.plot import mosaic_plot"
   ]
  },
  {
   "cell_type": "code",
   "execution_count": null,
   "id": "4bead58d",
   "metadata": {
    "colab": {
     "base_uri": "https://localhost:8080/"
    },
    "id": "4bead58d",
    "outputId": "d095f081-7c80-497b-b72f-0a35163f2778"
   },
   "outputs": [],
   "source": [
    "#!/usr/bin/env python\n",
    "\n",
    "# Unauthenticated client only works with public data sets. Note 'None'\n",
    "# in place of application token, and no username or password:\n",
    "client = Socrata(\"data.sfgov.org\", None)\n",
    "\n",
    "results = client.get(\"wg3w-h783\", limit=1000000)\n",
    "\n",
    "# Convert to pandas DataFrame\n",
    "df1 = pd.DataFrame.from_records(results)\n",
    "df = df1"
   ]
  },
  {
   "cell_type": "code",
   "execution_count": null,
   "id": "7f293a9b",
   "metadata": {
    "id": "7f293a9b"
   },
   "outputs": [],
   "source": [
    "df = df1"
   ]
  },
  {
   "cell_type": "code",
   "execution_count": null,
   "id": "11272565",
   "metadata": {
    "colab": {
     "base_uri": "https://localhost:8080/"
    },
    "id": "11272565",
    "outputId": "c1aaa738-7ef3-4a06-c288-ae7d3febccb2"
   },
   "outputs": [],
   "source": [
    "df.columns"
   ]
  },
  {
   "cell_type": "code",
   "execution_count": null,
   "id": "efb5d530",
   "metadata": {
    "id": "efb5d530"
   },
   "outputs": [],
   "source": [
    "df.drop(columns=[':@computed_region_jwn9_ihcz', ':@computed_region_26cr_cadq', ':@computed_region_qgnn_b9vv',\n",
    "                ':@computed_region_nqbw_i6c3', ':@computed_region_h4ep_8xdi',':@computed_region_n4xg_c4py',\n",
    "                ':@computed_region_jg9y_a9du', 'point'], inplace = True)"
   ]
  },
  {
   "cell_type": "code",
   "execution_count": null,
   "id": "48bda722",
   "metadata": {
    "id": "48bda722"
   },
   "outputs": [],
   "source": [
    "df['incident_datetime']=pd.to_datetime(df['incident_datetime'], errors = 'coerce')\n",
    "df['incident_year']=pd.to_datetime(df['incident_year'], errors = 'coerce')\n",
    "df['incident_date']=pd.to_datetime(df['incident_date'], errors = 'coerce')\n",
    "df['report_datetime']=pd.to_datetime(df['report_datetime'], errors = 'coerce')"
   ]
  },
  {
   "cell_type": "code",
   "execution_count": null,
   "id": "8d2cd938",
   "metadata": {
    "colab": {
     "base_uri": "https://localhost:8080/"
    },
    "id": "8d2cd938",
    "outputId": "270ddcb3-4e9f-45d5-a4eb-d642da78a691"
   },
   "outputs": [],
   "source": [
    "df.dtypes"
   ]
  },
  {
   "cell_type": "code",
   "execution_count": null,
   "id": "3ac11f4e",
   "metadata": {
    "id": "3ac11f4e"
   },
   "outputs": [],
   "source": [
    "def o_str(value):\n",
    "    return str(value)"
   ]
  },
  {
   "cell_type": "code",
   "execution_count": null,
   "id": "a95d148e",
   "metadata": {
    "id": "a95d148e"
   },
   "outputs": [],
   "source": [
    "def o_date(value):\n",
    "    return str(value)"
   ]
  },
  {
   "cell_type": "code",
   "execution_count": null,
   "id": "b6fc6212",
   "metadata": {
    "id": "b6fc6212"
   },
   "outputs": [],
   "source": [
    "def o_numeric(value):\n",
    "    return float(value)"
   ]
  },
  {
   "cell_type": "code",
   "execution_count": null,
   "id": "4228ff27",
   "metadata": {
    "id": "4228ff27"
   },
   "outputs": [],
   "source": [
    "df['incident_id']=df['incident_id'].apply(o_numeric)\n",
    "df['row_id']=df['row_id'].apply(o_numeric)\n",
    "df['incident_code']=df['incident_code'].apply(o_numeric)\n",
    "df['incident_number']=df['incident_number'].apply(o_numeric)\n",
    "df['cad_number']=df['cad_number'].apply(o_numeric)\n",
    "df['cnn']=df['cnn'].apply(o_numeric)\n",
    "\n",
    "df['report_type_description']=df['report_type_description'].apply(o_str)\n",
    "df['incident_category']=df['incident_category'].apply(o_str)\n",
    "df['incident_subcategory']=df['incident_subcategory'].apply(o_str)\n",
    "df['resolution']=df['resolution'].apply(o_str)\n",
    "df['police_district']=df['police_district'].apply(o_str)\n",
    "df['analysis_neighborhood']=df['analysis_neighborhood'].apply(o_str)\n",
    "\n",
    "df['latitude']=df['latitude'].apply(o_numeric)\n",
    "df['longitude']=df['longitude'].apply(o_numeric)"
   ]
  },
  {
   "cell_type": "code",
   "execution_count": null,
   "id": "05a2750d",
   "metadata": {
    "colab": {
     "base_uri": "https://localhost:8080/"
    },
    "id": "05a2750d",
    "outputId": "c0652de0-ae5e-4616-bd3f-5c48d98a1982"
   },
   "outputs": [],
   "source": [
    "df.resolution.unique()"
   ]
  },
  {
   "cell_type": "code",
   "execution_count": null,
   "id": "37be30d1",
   "metadata": {
    "colab": {
     "base_uri": "https://localhost:8080/"
    },
    "id": "37be30d1",
    "outputId": "573b959e-f502-4c63-eb63-30752f4849be"
   },
   "outputs": [],
   "source": [
    "df.police_district.unique()"
   ]
  },
  {
   "cell_type": "code",
   "execution_count": null,
   "id": "640d0c1f",
   "metadata": {
    "colab": {
     "base_uri": "https://localhost:8080/"
    },
    "id": "640d0c1f",
    "outputId": "6acb511d-2cd8-4a57-8974-c7195c659506"
   },
   "outputs": [],
   "source": [
    "df.report_type_description.unique()"
   ]
  },
  {
   "cell_type": "code",
   "execution_count": null,
   "id": "ebef9dad",
   "metadata": {
    "colab": {
     "base_uri": "https://localhost:8080/"
    },
    "id": "ebef9dad",
    "outputId": "ae8edbe7-c4a4-4f01-f624-7784d3429aa0"
   },
   "outputs": [],
   "source": [
    "df.analysis_neighborhood.unique()"
   ]
  },
  {
   "cell_type": "code",
   "execution_count": null,
   "id": "af0df636",
   "metadata": {
    "id": "af0df636"
   },
   "outputs": [],
   "source": [
    "#Filling in the NA values with In Person, as specified on the website, any row which does not have Filled Online it is assumed that the complaint was filed in person\n",
    "df['filed_online'].fillna('In Person',inplace = True)"
   ]
  },
  {
   "cell_type": "code",
   "execution_count": null,
   "id": "524a4197",
   "metadata": {
    "colab": {
     "base_uri": "https://localhost:8080/"
    },
    "id": "524a4197",
    "outputId": "d0780d42-a4d4-4b24-d34c-6d449abf35c9"
   },
   "outputs": [],
   "source": [
    "df.dtypes"
   ]
  },
  {
   "cell_type": "code",
   "execution_count": null,
   "id": "eaebc913",
   "metadata": {
    "colab": {
     "base_uri": "https://localhost:8080/"
    },
    "id": "eaebc913",
    "outputId": "e68c5834-2600-41cb-86b5-f27de142319e"
   },
   "outputs": [],
   "source": [
    "#Checking null values for each column\n",
    "df.isnull().sum()"
   ]
  },
  {
   "cell_type": "code",
   "execution_count": null,
   "id": "fc9fa85e",
   "metadata": {
    "id": "fc9fa85e"
   },
   "outputs": [],
   "source": [
    "#Since over 70% of the data is null drop this columns\n",
    "# df.drop(columns = ['incident_day_of_week'], inplace=True)\n",
    "df.cad_number.fillna('0', inplace = True)\n",
    "df.intersection.fillna('0', inplace = True)\n",
    "df.cnn.fillna('0', inplace = True)\n",
    "df.supervisor_district.fillna('0', inplace = True)\n",
    "\n",
    "\n",
    "df['latitude'].fillna(float(df['latitude'].mean()), inplace=True)\n",
    "df['longitude'].fillna(float(df['longitude'].mean()), inplace=True)\n",
    "\n",
    "df.analysis_neighborhood.fillna('0', inplace = True)"
   ]
  },
  {
   "cell_type": "code",
   "execution_count": null,
   "id": "d4c5b383",
   "metadata": {
    "colab": {
     "base_uri": "https://localhost:8080/"
    },
    "id": "d4c5b383",
    "outputId": "ba445c49-bdba-45bd-996f-f5e4644cbb8c"
   },
   "outputs": [],
   "source": [
    "#Reindexing and finding shape of dataframe\n",
    "df.iloc[:].reindex()\n",
    "df.shape"
   ]
  },
  {
   "cell_type": "code",
   "execution_count": null,
   "id": "GjjF0yuFR9wq",
   "metadata": {
    "id": "GjjF0yuFR9wq"
   },
   "outputs": [],
   "source": [
    "df.rename(columns={'incident_category': 'Incident Category'}, inplace = True)"
   ]
  },
  {
   "cell_type": "code",
   "execution_count": null,
   "id": "ubSfVEzB91Ax",
   "metadata": {
    "colab": {
     "base_uri": "https://localhost:8080/",
     "height": 820
    },
    "id": "ubSfVEzB91Ax",
    "outputId": "da7d606f-261c-420c-f641-fe3aedc48ce4"
   },
   "outputs": [],
   "source": [
    "# Barplot showing major crimes in San Francisco\n",
    "\n",
    "plt.rcParams['figure.figsize'] = (20, 9)\n",
    "plt.style.use('fast')\n",
    "sns.countplot(df['Incident Category'], palette = 'hot')\n",
    "\n",
    "plt.title('Major Crimes in San Francisco', fontweight = 20, fontsize = 20)\n",
    "plt.xticks(rotation = 90)\n",
    "plt.show()"
   ]
  },
  {
   "cell_type": "markdown",
   "id": "TTLwUeDmWmsI",
   "metadata": {
    "id": "TTLwUeDmWmsI"
   },
   "source": [
    "This graph shows us the Count for Number of Crimes occuring in the SFO region based on Days"
   ]
  },
  {
   "cell_type": "code",
   "execution_count": null,
   "id": "4gjkOE9ap-Bg",
   "metadata": {
    "colab": {
     "base_uri": "https://localhost:8080/",
     "height": 610
    },
    "id": "4gjkOE9ap-Bg",
    "outputId": "1100b56c-d270-4d2b-91a8-3edad2275575"
   },
   "outputs": [],
   "source": [
    "# Distribution of crimes in San Francisco as per days of week\n",
    "\n",
    "df['incident_day_of_week'].value_counts().plot.pie(figsize = (10, 20), explode = (0.1, 0.1, 0.1, 0.1, 0.1, 0.1, 0.1), autopct='%1.1f%%')\n",
    "plt.axis('off')\n",
    "plt.title('Crime count on each day',fontsize = 20)\n",
    "centre_circle = plt.Circle((0,0),0.6,fc='white')\n",
    "fig = plt.gcf()\n",
    "fig.gca().add_artist(centre_circle)\n",
    "plt.xticks(rotation = 90)\n",
    "plt.show()"
   ]
  },
  {
   "cell_type": "code",
   "execution_count": null,
   "id": "CfTzQcQKVQKH",
   "metadata": {
    "colab": {
     "base_uri": "https://localhost:8080/",
     "height": 917
    },
    "id": "CfTzQcQKVQKH",
    "outputId": "57f7ea38-a0e7-47d9-ebd2-c3a476cbc874"
   },
   "outputs": [],
   "source": [
    "df['incident_year'] = pd.to_datetime(df['incident_year'])\n",
    "df['year'] = df['incident_year'].dt.strftime('%Y-%m-%d').astype(str)\n",
    "df.head()\n",
    "\n",
    "fig = px.histogram(data_frame = df, color = 'year', x='Incident Category', animation_frame='police_district',\n",
    "             barmode='overlay', marginal='box', height = 900, width=900, title = 'Distribution of Crimes in San Francisco over the Years')\n",
    "fig.show()"
   ]
  },
  {
   "cell_type": "markdown",
   "id": "l1X9DfvEbfi3",
   "metadata": {
    "id": "l1X9DfvEbfi3"
   },
   "source": [
    "The above graph shows various tyoes of crimes over the years in different regions of the city\n"
   ]
  },
  {
   "cell_type": "code",
   "execution_count": null,
   "id": "sZsWc4T4vbC_",
   "metadata": {
    "colab": {
     "base_uri": "https://localhost:8080/",
     "height": 394
    },
    "id": "sZsWc4T4vbC_",
    "outputId": "693ee95b-5e39-4783-80d4-a6a9816aa412"
   },
   "outputs": [],
   "source": [
    "\n",
    "# Get a count of the crimes by neighborhood, returns a series\n",
    "crime_neighbourhood = df.police_district.value_counts()\n",
    "# Stick it into a data frame.\n",
    "neighbour_df = pd.DataFrame(crime_neighbourhood)\n",
    "\n",
    "# Set up the data frame with the required structure.\n",
    "neighbour_df.index.name = 'Neighborhood'\n",
    "neighbour_df.reset_index(inplace=True)\n",
    "neighbour_df.rename(columns={'police_district': 'No of Crimes'}, inplace=True)\n",
    "neighbour_df"
   ]
  },
  {
   "cell_type": "code",
   "execution_count": null,
   "id": "UbSKmk91ENOy",
   "metadata": {
    "colab": {
     "base_uri": "https://localhost:8080/",
     "height": 424
    },
    "id": "UbSKmk91ENOy",
    "outputId": "64670c52-f3be-4042-bf48-cbffc053ce7e"
   },
   "outputs": [],
   "source": [
    "x = df.groupby(['Incident Category', 'incident_year'])[['incident_year']].count()\n",
    "x.rename(columns={\"incident_year\":\"count\"}, inplace=True)\n",
    "crime_by_years = x.reset_index()\n",
    "crime_by_years"
   ]
  },
  {
   "cell_type": "code",
   "execution_count": null,
   "id": "sMsKsgqBG2t-",
   "metadata": {
    "id": "sMsKsgqBG2t-"
   },
   "outputs": [],
   "source": [
    "df['Incident Category'] = df['Incident Category'].replace(['Motor Vehicle Theft?', 'Other Miscellaneous', 'Other Offenses', 'Weapons Offence'], \n",
    "                                                          ['Motor Vehicle Theft', 'Other', 'Other', 'Weapons Offense'])\n",
    "\n",
    "df['incident_subcategory'] = df['incident_subcategory'].replace(['Motor Vehicle Theft?', 'Other Miscellaneous', 'Other Offenses', 'Weapons Offence'], \n",
    "                                                          ['Motor Vehicle Theft', 'Other', 'Other', 'Weapons Offense'])"
   ]
  },
  {
   "cell_type": "markdown",
   "id": "YAkuMi4mWx7a",
   "metadata": {
    "id": "YAkuMi4mWx7a"
   },
   "source": [
    "This graph talks about the distribution of Number of Crimes that has occured over the period of last 4 years"
   ]
  },
  {
   "cell_type": "code",
   "execution_count": null,
   "id": "FJGAiVoNG5NS",
   "metadata": {
    "colab": {
     "base_uri": "https://localhost:8080/",
     "height": 542
    },
    "id": "FJGAiVoNG5NS",
    "outputId": "9224917a-b4f6-444c-d33e-797808a00290"
   },
   "outputs": [],
   "source": [
    "fig = px.bar(crime_by_years, x='incident_year', y='count', color='Incident Category', \n",
    "            title=\"Counts of crimes according to categories grouped over the years\",\n",
    "            labels={'incident_year':'Year', 'count':'Count of crimes'})\n",
    "fig.show()"
   ]
  },
  {
   "cell_type": "code",
   "execution_count": null,
   "id": "lNkT9mPKHBKV",
   "metadata": {
    "colab": {
     "base_uri": "https://localhost:8080/",
     "height": 424
    },
    "id": "lNkT9mPKHBKV",
    "outputId": "1db10c0d-9f0e-4b17-c1db-b13dacdd5ed2"
   },
   "outputs": [],
   "source": [
    "#Code for Line Chart:\n",
    "\n",
    "df['time_difference'] = round(((df['report_datetime'] - df['incident_datetime']).dt.total_seconds() / 60 / 60 / 24),0)\n",
    "df[['time_difference']]"
   ]
  },
  {
   "cell_type": "code",
   "execution_count": null,
   "id": "SoArftp1HY_i",
   "metadata": {
    "colab": {
     "base_uri": "https://localhost:8080/",
     "height": 206
    },
    "id": "SoArftp1HY_i",
    "outputId": "a9af4bef-0d01-4c40-a15e-1c745791f7b5"
   },
   "outputs": [],
   "source": [
    "x = df.groupby(['incident_year'])['time_difference'].mean()\n",
    "time_diff_by_year = x.reset_index()\n",
    "time_diff_by_year"
   ]
  },
  {
   "cell_type": "markdown",
   "id": "yvKoXdhrXBVd",
   "metadata": {
    "id": "yvKoXdhrXBVd"
   },
   "source": [
    "We wanted to see what is the average delay time between the Incident happening and the time it takes to get report which is what the graph is conveying"
   ]
  },
  {
   "cell_type": "code",
   "execution_count": null,
   "id": "M0JdWajTHb_n",
   "metadata": {
    "colab": {
     "base_uri": "https://localhost:8080/",
     "height": 542
    },
    "id": "M0JdWajTHb_n",
    "outputId": "1393f85f-8cd6-494e-8409-7faecd747e13"
   },
   "outputs": [],
   "source": [
    "fig = px.line(time_diff_by_year, x='incident_year', y='time_difference',\n",
    "              title=\"Average Time difference between incident and report time in days over the years\",\n",
    "              labels={'incident_year':'Year', 'time_difference':'Time difference in days'})\n",
    "fig.show()"
   ]
  },
  {
   "cell_type": "code",
   "execution_count": null,
   "id": "N-F1Vl9hHX3S",
   "metadata": {
    "id": "N-F1Vl9hHX3S"
   },
   "outputs": [],
   "source": [
    "# Bargraph showing distribution of incidences as per the time of its occurance\n",
    "\n",
    "df['incident_time']=df['incident_time'].astype('string')\n"
   ]
  },
  {
   "cell_type": "code",
   "execution_count": null,
   "id": "6ooX7KzO_RKB",
   "metadata": {
    "id": "6ooX7KzO_RKB"
   },
   "outputs": [],
   "source": [
    "df['incident_time']=df['incident_time'].str.split(':',expand=True)[0]\n",
    "df['incident_time']=df['incident_time'].astype(int)"
   ]
  },
  {
   "cell_type": "code",
   "execution_count": null,
   "id": "RYi44n6LyPAC",
   "metadata": {
    "colab": {
     "base_uri": "https://localhost:8080/"
    },
    "id": "RYi44n6LyPAC",
    "outputId": "47c35b2a-29bd-4fcd-c784-777c695efb42"
   },
   "outputs": [],
   "source": [
    "df['incident_time_category']='null'\n",
    "df['incident_time_category'].dtypes"
   ]
  },
  {
   "cell_type": "code",
   "execution_count": null,
   "id": "aErVrVED2Q0z",
   "metadata": {
    "id": "aErVrVED2Q0z"
   },
   "outputs": [],
   "source": [
    "# 00.00 - 06.00 : Early Morning, 6.01 - 12.00 : Morning, 12.01 - 18.00 : Evening, 18.01 - 24.00 : Night"
   ]
  },
  {
   "cell_type": "code",
   "execution_count": null,
   "id": "1vCbzc_KqWLu",
   "metadata": {
    "id": "1vCbzc_KqWLu"
   },
   "outputs": [],
   "source": [
    "def category(x):\n",
    "    \n",
    "      if 0<=x<=6:\n",
    "          return 'Early Morning'\n",
    "      elif 6<x<=12:\n",
    "          return 'Morning'\n",
    "      elif 12<x<=18:\n",
    "          return 'Evening'\n",
    "      elif 18<x<24:\n",
    "          return 'Night'"
   ]
  },
  {
   "cell_type": "code",
   "execution_count": null,
   "id": "VM91V8yEqWaP",
   "metadata": {
    "id": "VM91V8yEqWaP"
   },
   "outputs": [],
   "source": [
    "df['incident_time_category'] = df['incident_time'].apply(category)"
   ]
  },
  {
   "cell_type": "code",
   "execution_count": null,
   "id": "7hFo8ovvqdZM",
   "metadata": {
    "colab": {
     "base_uri": "https://localhost:8080/",
     "height": 299
    },
    "id": "7hFo8ovvqdZM",
    "outputId": "0ac0b8d5-86e6-41c2-c77a-138f2078131c"
   },
   "outputs": [],
   "source": [
    "df_count = df.groupby(['incident_time_category']).count()\n",
    "df_count"
   ]
  },
  {
   "cell_type": "markdown",
   "id": "HtE58-JIXQz4",
   "metadata": {
    "id": "HtE58-JIXQz4"
   },
   "source": [
    "This is a Bar Plot to visualize the Number of Crimes which happens at different times of the day"
   ]
  },
  {
   "cell_type": "code",
   "execution_count": null,
   "id": "SlKguJJtqdiB",
   "metadata": {
    "colab": {
     "base_uri": "https://localhost:8080/",
     "height": 559
    },
    "id": "SlKguJJtqdiB",
    "outputId": "19159178-254b-4089-c5fe-7526ec710c1b"
   },
   "outputs": [],
   "source": [
    "df_count = df.groupby(['incident_time_category']).count()\n",
    "df_num=pd.DataFrame(df_count)\n",
    "df_num.reset_index(inplace=True)\n",
    "\n",
    "fig = plt.figure(figsize = (10, 7))\n",
    "fig = px.bar(df_num.sort_values( 'incident_time',ascending = False), \n",
    "            x='incident_time_category', \n",
    "            y='incident_time',\n",
    "            labels = {\"incident_time_category\":\"Time when the incident occured\", \"incident_time\":\"Number of incidences\" }, \n",
    "            title = \"Distribution of incidences as per the time of its occurance\",\n",
    "            color='incident_time_category', \n",
    "            color_discrete_map={'Evening': 'red','Night': 'blue','Morning': 'green','Early Morning': 'orange'})\n",
    "\n",
    "fig.show()\n",
    "\n"
   ]
  },
  {
   "cell_type": "markdown",
   "id": "tfKHFu0MX5rL",
   "metadata": {
    "id": "tfKHFu0MX5rL"
   },
   "source": [
    "Most of the incidents take place in the evening (between 12.01 to 18.00 hours) followed by night (between 18.01 to 24.00 hours), morning (between 06.01 to 12.00 hours) and early morning (between 00.00 to 06.00 hours)."
   ]
  },
  {
   "cell_type": "code",
   "execution_count": null,
   "id": "h8DBTzznllUk",
   "metadata": {
    "colab": {
     "base_uri": "https://localhost:8080/",
     "height": 557
    },
    "id": "h8DBTzznllUk",
    "outputId": "e77e89dd-f402-465b-c547-ef4c0760307d"
   },
   "outputs": [],
   "source": [
    "df2 = df.groupby(['Incident Category','incident_subcategory']).count().reset_index()\n",
    "df2.rename(columns = {'incident_id':'count'}, inplace = True)\n",
    "df2"
   ]
  },
  {
   "cell_type": "markdown",
   "id": "VW8m7HtsXbU8",
   "metadata": {
    "id": "VW8m7HtsXbU8"
   },
   "source": [
    "Heat Map to understand which category has the most number of crimes in the city of SFO"
   ]
  },
  {
   "cell_type": "code",
   "execution_count": null,
   "id": "PuI-KCAOmACK",
   "metadata": {
    "colab": {
     "base_uri": "https://localhost:8080/",
     "height": 542
    },
    "id": "PuI-KCAOmACK",
    "outputId": "303f7518-0ea8-4c38-b3ed-433ee72bb748"
   },
   "outputs": [],
   "source": [
    "fig = px.treemap(df2, path=[px.Constant(\"all\"), 'Incident Category', 'incident_subcategory'], values='count', title = ' Tree Map for Crime Cateogries')\n",
    "fig.update_traces(root_color=\"lightgrey\")\n",
    "fig.update_layout(margin = dict(t=50, l=25, r=25, b=25))\n",
    "fig.show()\n"
   ]
  },
  {
   "cell_type": "code",
   "execution_count": null,
   "id": "D0fPWQD4mCwo",
   "metadata": {
    "id": "D0fPWQD4mCwo"
   },
   "outputs": [],
   "source": [
    "#TREE MAP"
   ]
  },
  {
   "cell_type": "code",
   "execution_count": null,
   "id": "WMd2rA7UmfPv",
   "metadata": {
    "colab": {
     "base_uri": "https://localhost:8080/",
     "height": 394
    },
    "id": "WMd2rA7UmfPv",
    "outputId": "b536e4bd-439c-4206-ee36-1873be34fc33"
   },
   "outputs": [],
   "source": [
    "# Get a count of the crimes by neighborhood, returns a series\n",
    "crime_neighbourhood = df.police_district.value_counts()\n",
    "# Stick it into a data frame.\n",
    "neighbour_df = pd.DataFrame(crime_neighbourhood)\n",
    "\n",
    "# Set up the data frame with the required structure.\n",
    "neighbour_df.index.name = 'neighborhood'\n",
    "neighbour_df.reset_index(inplace=True)\n",
    "neighbour_df.rename(columns={'police_district': 'No of Crimes'}, inplace=True)\n",
    "neighbour_df"
   ]
  },
  {
   "cell_type": "code",
   "execution_count": null,
   "id": "pcEM7nU-KXY2",
   "metadata": {
    "id": "pcEM7nU-KXY2"
   },
   "outputs": [],
   "source": [
    "df_temp = df.loc[df['analysis_neighborhood'] != 'nan']"
   ]
  },
  {
   "cell_type": "code",
   "execution_count": null,
   "id": "r_LMKRh4Pxns",
   "metadata": {
    "colab": {
     "base_uri": "https://localhost:8080/",
     "height": 1000,
     "referenced_widgets": [
      "635ab7cd097649818eb2c3db23abce89",
      "0bcb9d9630864049b23760408d092463",
      "b29f91f61da64c2199a8444be7a6b8e1",
      "105e02b9be49437f88f1de0a2dae23b9",
      "63090f28b27243cb8e07e28bb27271fd",
      "cfba263b59f24bb4bcf70c15e3af9243",
      "be706e548e094ad2840662681adaae16",
      "261f28caaf6f45d7aeb68000c96199b4",
      "cee6a2c7ed924eeda81d4ce44eba180c",
      "8e4fe9c6555c415fa1be778e14c98b7a"
     ]
    },
    "id": "r_LMKRh4Pxns",
    "outputId": "1467649b-f026-4b8b-cc7b-b15c8fd096bb"
   },
   "outputs": [],
   "source": [
    "def plot_by_crime_neighbourhood_type(Neighbourhood, Type):\n",
    "\n",
    "    temp = df_temp.loc[(df_temp['analysis_neighborhood'] == Neighbourhood) & (df_temp['Incident Category'] == Type)] \n",
    "    fig = px.scatter_geo(temp, 'latitude', 'longitude',\n",
    "                    title='Crime Hotspots based on Analysis Neighbourhood and Types',\n",
    "                    height=1000, width=1000, \n",
    "                    color = temp['incident_subcategory'])\n",
    "    \n",
    "    fig.update_geos(lonaxis_range = [-122.575, -122.325], lataxis_range = [37.69, 37.85], \n",
    "                      scope = 'north america', showocean=True, showland=True)\n",
    "    \n",
    "    fig.show()\n",
    "\n",
    "widgets.interact(plot_by_crime_neighbourhood_type, \n",
    "                 Neighbourhood = list(df_temp['analysis_neighborhood'].unique()),\n",
    "                 Type = list(df_temp['Incident Category'].unique()))"
   ]
  },
  {
   "cell_type": "code",
   "execution_count": null,
   "id": "9jAM4THfPdRP",
   "metadata": {
    "id": "9jAM4THfPdRP"
   },
   "outputs": [],
   "source": [
    "df['Year'] = df['incident_year'].astype(str).str[0:4]\n",
    "df['Year'] = df['Year'].astype(int)"
   ]
  },
  {
   "cell_type": "code",
   "execution_count": null,
   "id": "7Gc_tXGfQ1dr",
   "metadata": {
    "colab": {
     "base_uri": "https://localhost:8080/",
     "height": 1000,
     "referenced_widgets": [
      "2e22296a51ba4043a6870e4223123376",
      "758a9c1968c044e8942839424757ccb6",
      "0e8e34c1169047e6a506d8a6d45f0847",
      "3f4c62d581274342a0d4201b0eb0f65d",
      "4f2daac7ce624d35a3abe0d5ff475b3e",
      "7a08e11f81ff4143bb01b86f629aa36d",
      "e72a6cde1b3e4e7080b3c8b38b3d9d07",
      "45063095efdd4152ab6063bdc0496517",
      "910b1afa19a04128a02c12b77408cec3",
      "2b6cc93a3f274e868b1b78097c5b9fa4",
      "66ddfc8ab1ce4aeab78798f95b78d586",
      "fca88834e13d47ddbe339a9c55ceeeae",
      "c28f3bb75b954b2c907d6572ef3c6592"
     ]
    },
    "id": "7Gc_tXGfQ1dr",
    "outputId": "983200a8-9fbc-405a-ef31-bda32d83ae32"
   },
   "outputs": [],
   "source": [
    "def plot_by_year_day_time(Year, Day, Time):\n",
    "\n",
    "    temp = df.loc[(df['incident_day_of_week'] == Day) & (df['incident_time_category'] == Time) & (df['Year'] == Year)] \n",
    "    fig = px.scatter_geo(temp, 'latitude', 'longitude',\n",
    "                    title='Crime Hotspots based on Year, Day and Time',\n",
    "                    height=1000, width=1000,\n",
    "                    color=temp['Incident Category'])\n",
    "    \n",
    "    fig.update_geos(lonaxis_range = [-122.575, -122.325], lataxis_range = [37.69, 37.85], \n",
    "                      scope = 'north america', showocean=True, showland=True, showcountries=True)\n",
    "    \n",
    "    fig.show()\n",
    "\n",
    "Year_list = list(df['Year'].unique())\n",
    "Year_list.sort(reverse=True)\n",
    "Day_list = list(df['incident_day_of_week'].unique())\n",
    "Day_list.sort(reverse=True)\n",
    "Time_list = list(df['incident_time_category'].unique())\n",
    "Time_list.sort(reverse=True)\n",
    "\n",
    "widgets.interact(plot_by_year_day_time, \n",
    "                 Year = Year_list,\n",
    "                 Day = Day_list,\n",
    "                 Time = Time_list)"
   ]
  },
  {
   "cell_type": "code",
   "execution_count": null,
   "id": "dt2xNfp2LTw-",
   "metadata": {
    "colab": {
     "base_uri": "https://localhost:8080/",
     "height": 528
    },
    "id": "dt2xNfp2LTw-",
    "outputId": "f7914ba1-de7a-4e44-f220-8d77711e65f2"
   },
   "outputs": [],
   "source": [
    "mosaic_plot(df, 'report_type_description', 'resolution')\n",
    "plt.title(\"Mosaic Plot showing the Resolution Techniques and Report Type Descriptions\", fontsize=20)\n",
    "plt.xlabel(\"Resolution Techniques\", fontsize=15)\n",
    "plt.ylabel(\"Report Type Description\", fontsize=15)\n",
    "plt.show()"
   ]
  },
  {
   "cell_type": "markdown",
   "id": "EImun9w-Nwh0",
   "metadata": {
    "id": "EImun9w-Nwh0"
   },
   "source": [
    "References\n",
    "\n",
    "https://stackoverflow.com/questions/70471888/text-as-tooltip-popup-or-labels-in-folium-choropleth-geojson-polygons\n",
    "\n",
    "https://stackoverflow.com/questions/46223224/matplotlib-plot-countplot-for-two-or-more-column-on-single-plot\n",
    "\n",
    "https://matplotlib.org/stable/tutorials/introductory/customizing.html\n",
    "\n",
    "https://medium.com/@kvnamiparaa-better-visualisation-of-pie-charts-by-matplotlib-935b7667d77f\n",
    "\n",
    "https://dabl.github.io/dev/auto_examples/plot/plot_mosaic.html\n",
    "\n",
    "https://www.geeksforgeeks.org/histogram-using-plotly-in-python/\n",
    "\n",
    "https://www.geeksforgeeks.org/treemap-using-plotly-in-python/"
   ]
  },
  {
   "cell_type": "code",
   "execution_count": null,
   "id": "9722FiT-RLvH",
   "metadata": {
    "id": "9722FiT-RLvH"
   },
   "outputs": [],
   "source": []
  }
 ],
 "metadata": {
  "colab": {
   "provenance": []
  },
  "kernelspec": {
   "display_name": "Python 3 (ipykernel)",
   "language": "python",
   "name": "python3"
  },
  "language_info": {
   "codemirror_mode": {
    "name": "ipython",
    "version": 3
   },
   "file_extension": ".py",
   "mimetype": "text/x-python",
   "name": "python",
   "nbconvert_exporter": "python",
   "pygments_lexer": "ipython3",
   "version": "3.9.13"
  },
  "widgets": {
   "application/vnd.jupyter.widget-state+json": {
    "0bcb9d9630864049b23760408d092463": {
     "model_module": "@jupyter-widgets/controls",
     "model_module_version": "1.5.0",
     "model_name": "DropdownModel",
     "state": {
      "_dom_classes": [],
      "_model_module": "@jupyter-widgets/controls",
      "_model_module_version": "1.5.0",
      "_model_name": "DropdownModel",
      "_options_labels": [
       "Excelsior",
       "Russian Hill",
       "Lone Mountain/USF",
       "Pacific Heights",
       "Bayview Hunters Point",
       "Glen Park",
       "Mission",
       "Tenderloin",
       "Hayes Valley",
       "Western Addition",
       "Outer Mission",
       "Marina",
       "South of Market",
       "Japantown",
       "McLaren Park",
       "Presidio Heights",
       "Mission Bay",
       "Nob Hill",
       "North Beach",
       "Financial District/South Beach",
       "West of Twin Peaks",
       "Chinatown",
       "Haight Ashbury",
       "Castro/Upper Market",
       "Sunset/Parkside",
       "Potrero Hill",
       "Lakeshore",
       "Outer Richmond",
       "Inner Sunset",
       "Twin Peaks",
       "Oceanview/Merced/Ingleside",
       "Portola",
       "Presidio",
       "Bernal Heights",
       "Golden Gate Park",
       "Noe Valley",
       "Visitacion Valley",
       "Inner Richmond",
       "Treasure Island",
       "Lincoln Park",
       "Seacliff",
       "null"
      ],
      "_view_count": null,
      "_view_module": "@jupyter-widgets/controls",
      "_view_module_version": "1.5.0",
      "_view_name": "DropdownView",
      "description": "Neighbourhood",
      "description_tooltip": null,
      "disabled": false,
      "index": 0,
      "layout": "IPY_MODEL_cfba263b59f24bb4bcf70c15e3af9243",
      "style": "IPY_MODEL_be706e548e094ad2840662681adaae16"
     }
    },
    "0e8e34c1169047e6a506d8a6d45f0847": {
     "model_module": "@jupyter-widgets/controls",
     "model_module_version": "1.5.0",
     "model_name": "DropdownModel",
     "state": {
      "_dom_classes": [],
      "_model_module": "@jupyter-widgets/controls",
      "_model_module_version": "1.5.0",
      "_model_name": "DropdownModel",
      "_options_labels": [
       "Wednesday",
       "Tuesday",
       "Thursday",
       "Sunday",
       "Saturday",
       "Monday",
       "Friday"
      ],
      "_view_count": null,
      "_view_module": "@jupyter-widgets/controls",
      "_view_module_version": "1.5.0",
      "_view_name": "DropdownView",
      "description": "Day",
      "description_tooltip": null,
      "disabled": false,
      "index": 0,
      "layout": "IPY_MODEL_910b1afa19a04128a02c12b77408cec3",
      "style": "IPY_MODEL_2b6cc93a3f274e868b1b78097c5b9fa4"
     }
    },
    "105e02b9be49437f88f1de0a2dae23b9": {
     "model_module": "@jupyter-widgets/output",
     "model_module_version": "1.0.0",
     "model_name": "OutputModel",
     "state": {
      "_dom_classes": [],
      "_model_module": "@jupyter-widgets/output",
      "_model_module_version": "1.0.0",
      "_model_name": "OutputModel",
      "_view_count": null,
      "_view_module": "@jupyter-widgets/output",
      "_view_module_version": "1.0.0",
      "_view_name": "OutputView",
      "layout": "IPY_MODEL_8e4fe9c6555c415fa1be778e14c98b7a",
      "msg_id": "",
      "outputs": [
       {
        "data": {
         "text/html": "<html>\n<head><meta charset=\"utf-8\" /></head>\n<body>\n    <div>            <script src=\"https://cdnjs.cloudflare.com/ajax/libs/mathjax/2.7.5/MathJax.js?config=TeX-AMS-MML_SVG\"></script><script type=\"text/javascript\">if (window.MathJax) {MathJax.Hub.Config({SVG: {font: \"STIX-Web\"}});}</script>                <script type=\"text/javascript\">window.PlotlyConfig = {MathJaxConfig: 'local'};</script>\n        <script src=\"https://cdn.plot.ly/plotly-2.8.3.min.js\"></script>                <div id=\"8f4ad9bb-2099-4ae7-a459-91571f78421d\" class=\"plotly-graph-div\" style=\"height:1000px; width:1000px;\"></div>            <script type=\"text/javascript\">                                    window.PLOTLYENV=window.PLOTLYENV || {};                                    if (document.getElementById(\"8f4ad9bb-2099-4ae7-a459-91571f78421d\")) {                    Plotly.newPlot(                        \"8f4ad9bb-2099-4ae7-a459-91571f78421d\",                        [{\"geo\":\"geo\",\"hovertemplate\":\"incident_subcategory=Missing Person<br>latitude=%{lat}<br>longitude=%{lon}<extra></extra>\",\"lat\":[37.72623624315635,37.72993058715464,37.720062804711205,37.724725122049584,37.71222915075722,37.72668549769104,37.724343336092694,37.71968063621634,37.723167238602805,37.71968063621634,37.717244618148314,37.71468932301076,37.71457523595153,37.722397870557415,37.72830165631449,37.719298461387545,37.727310672739875,37.71733613516429,37.72116354747668,37.72278422040074,37.72125761874312,37.72282560233111,37.72707628241798,37.719649699514136,37.72856630132468,37.72830165631449,37.716459544514585,37.72116354747668,37.72116354747668,37.72872954740928,37.716459544514585,37.722763730018876,37.725151043041315,37.72856630132468,37.713928188286225,37.72532256101852,37.716038818883085,37.720090313212864,37.71027056259526,37.71027056259526,37.712110383966014,37.714209482735754,37.72587091387491,37.722763730018876,37.72856630132468,37.7274574828607,37.73088141261523,37.72116354747668,37.72393243702637,37.729310978379516,37.71456719746707,37.7274574828607,37.72125761874312,37.722763730018876,37.71736010593896,37.722763730018876,37.722763730018876,37.722763730018876,37.71314315701555,37.717244618148314,37.71811888080042,37.73013562652082,37.722763730018876,37.722763730018876,37.722397870557415,37.722763730018876,37.71103928234531,37.72856630132468,37.71027056259526,37.72659711465119,37.72654377709943,37.724725122049584,37.71853019955997,37.70972316975024,37.71930210629127,37.722763730018876,37.71812520439796,37.71776171883061,37.725945407090116,37.72865760338169,37.72116354747668,37.72928367096209,37.7114047751124,37.722763730018876,37.721575000353845,37.724343336092694,37.71930210629127,37.722763730018876,37.722763730018876,37.72853443174584,37.725945407090116,37.722763730018876,37.72853443174584,37.722763730018876,37.71853019955997,37.711573981161024,37.73013562652082,37.7150382180632,37.72548807624668,37.727177550016364,37.709412740651715,37.724343336092694,37.720444910347176,37.717379533467806,37.72086792236934,37.722763730018876,37.71347594663674,37.72393243702637,37.722763730018876,37.72123725508115,37.719298461387545,37.72872954740928,37.7290464439128,37.72928367096209,37.716958530279314,37.721634672027925,37.72872954740928,37.71930210629127,37.71027056259526,37.72548807624668,37.712264398866324,37.71366308072168,37.71314315701555,37.716459544514585,37.709106871154226,37.712264398866324,37.72312996239932,37.72707628241798,37.72762661997884,37.720090313212864,37.7223816644898,37.7290464439128,37.71007028653156,37.71281313067706,37.72120940305147,37.717744016592675,37.72928367096209,37.712264398866324,37.71366308072168,37.72393243702637,37.72853443174584,37.710745707398196,37.718916099841906,37.716593605163474,37.7102387270838,37.716038818883085,37.72872954740928,37.71894318707579,37.717744016592675,37.729385170472085,37.71776171883061,37.72830165631449,37.72116354747668,37.720090313212864,37.71894318707579,37.72616854912102,37.72822171105787,37.71121115593977,37.72161876976169,37.72047780132554,37.720090313212864,37.72587091387491,37.72822171105787,37.728398835910575,37.70934710789241,37.728641021161884,37.709641387437976,37.72532256101852,37.722763730018876,37.719298461387545,37.72116354747668,37.71246768047719],\"legendgroup\":\"Missing Person\",\"lon\":[-122.43362359230944,-122.43011091894242,-122.4339851091758,-122.4304531024,-122.43231516353396,-122.41740965555509,-122.4296521266366,-122.43318514434972,-122.43163313557467,-122.43318514434972,-122.44041773893213,-122.44148136617189,-122.43699190436848,-122.4300261514751,-122.42135851558989,-122.43238518772584,-122.43176713576212,-122.43713280987876,-122.43746114104351,-122.43083311183287,-122.4276446487549,-122.4264681529013,-122.42650358374095,-122.43755873456641,-122.42757999174721,-122.42135851558989,-122.44101956350755,-122.43746114104351,-122.43746114104351,-122.43129384491388,-122.44101956350755,-122.43520840231155,-122.426911707231,-122.42757999174721,-122.44334561164396,-122.42554747561172,-122.44025513581519,-122.42959915554684,-122.43303323821146,-122.43303323821146,-122.43343166405883,-122.43617646639477,-122.43285706441762,-122.43520840231155,-122.42757999174721,-122.42730210944559,-122.42614365667414,-122.43746114104351,-122.43323148769753,-122.42144085857487,-122.44266152802234,-122.42730210944559,-122.4276446487549,-122.43520840231155,-122.43275390952348,-122.43520840231155,-122.43520840231155,-122.43520840231155,-122.43370682089248,-122.44041773893213,-122.43877121369543,-122.426084311173,-122.43520840231155,-122.43520840231155,-122.4300261514751,-122.43520840231155,-122.44616813900605,-122.42757999174721,-122.43303323821146,-122.42284047352747,-122.43016970132632,-122.4304531024,-122.43077802544407,-122.4324622998752,-122.42583000733053,-122.43520840231155,-122.43435450033807,-122.4291713622255,-122.42413477891148,-122.4149559525335,-122.43746114104351,-122.42826844907457,-122.43186692622665,-122.43520840231155,-122.43714952548773,-122.4296521266366,-122.42583000733053,-122.43520840231155,-122.43520840231155,-122.42866697146904,-122.42413477891148,-122.43520840231155,-122.42866697146904,-122.43520840231155,-122.43077802544407,-122.42992735294543,-122.426084311173,-122.43232340156683,-122.43205382260868,-122.43291179436463,-122.45088366843997,-122.4296521266366,-122.43478495933782,-122.42837146546957,-122.42683077579494,-122.43520840231155,-122.43454112748964,-122.43323148769753,-122.43520840231155,-122.43200549928414,-122.43238518772584,-122.43129384491388,-122.41948647811891,-122.42826844907457,-122.43964030596055,-122.4284321332757,-122.43129384491388,-122.42583000733053,-122.43303323821146,-122.43205382260868,-122.42969860037697,-122.43689432895559,-122.43370682089248,-122.44101956350755,-122.44090335458226,-122.42969860037697,-122.43597688974761,-122.42650358374095,-122.41890005276089,-122.42959915554684,-122.43440671066068,-122.41948647811891,-122.43867975767627,-122.43499916082575,-122.4363845411447,-122.43355535030396,-122.42826844907457,-122.42969860037697,-122.43689432895559,-122.43323148769753,-122.42866697146904,-122.43699280560267,-122.4315848591524,-122.43115383774915,-122.43497949428722,-122.44025513581519,-122.43129384491388,-122.42719260005414,-122.43355535030396,-122.42056328951432,-122.4291713622255,-122.42135851558989,-122.43746114104351,-122.42959915554684,-122.42719260005414,-122.41938591328649,-122.42890304814803,-122.44113027015311,-122.43280597836706,-122.43041210519918,-122.42959915554684,-122.43285706441762,-122.42890304814803,-122.41594594445013,-122.42607352828963,-122.42596370466042,-122.43128258224374,-122.42554747561172,-122.43520840231155,-122.43238518772584,-122.43746114104351,-122.43422861444174],\"marker\":{\"color\":\"#636efa\",\"symbol\":\"circle\"},\"mode\":\"markers\",\"name\":\"Missing Person\",\"showlegend\":true,\"type\":\"scattergeo\"},{\"geo\":\"geo\",\"hovertemplate\":\"incident_subcategory=Missing Adult<br>latitude=%{lat}<br>longitude=%{lon}<extra></extra>\",\"lat\":[37.71222915075722,37.71366308072168,37.724725122049584,37.71466061824659,37.72668549769104,37.72548807624668,37.724343336092694,37.72395457176283,37.71968063621634,37.71968063621634,37.717244618148314,37.71468932301076,37.722763730018876,37.717244618148314,37.724343336092694,37.724343336092694,37.724343336092694,37.724343336092694,37.71812520439796,37.72867747904134,37.724343336092694,37.724343336092694,37.724343336092694,37.719298461387545,37.72830165631449,37.72278422040074,37.727310672739875,37.72532256101852,37.719298461387545,37.72116354747668,37.721575000353845,37.713412051610796,37.719649699514136,37.72282560233111,37.71894318707579,37.72867747904134,37.7123734197278,37.72830165631449,37.7231998817166,37.716459544514585,37.72872954740928,37.7300213924819,37.7274574828607,37.728875964511126,37.72202599380391,37.71428255473171,37.73088141261523,37.713412051610796,37.711689442375175,37.72393243702637,37.72359110115537,37.717244618148314,37.72587091387491,37.71021713535168,37.722763730018876,37.722763730018876,37.72116354747668,37.719298461387545,37.72532256101852,37.72587091387491,37.714209482735754,37.722397870557415,37.72659711465119,37.722763730018876,37.72116354747668,37.724725122049584,37.72659711465119,37.71812520439796,37.72659711465119,37.7274574828607,37.72654377709943,37.72659711465119,37.710745707398196,37.71103928234531,37.71736010593896,37.72659711465119,37.72125761874312,37.722763730018876,37.714209482735754,37.72659711465119,37.72865760338169,37.72393243702637,37.72659711465119,37.72853443174584,37.72659711465119,37.724343336092694,37.7274574828607,37.722397870557415,37.728875964511126,37.722763730018876,37.724343336092694,37.72928367096209,37.73013562652082,37.72659711465119,37.72354972334331,37.7114047751124,37.70940240014413,37.720444910347176,37.70940240014413,37.72865760338169,37.72865760338169,37.716958530279314,37.722763730018876,37.709412740651715,37.72548807624668,37.72865760338169,37.71812520439796,37.722763730018876,37.71347594663674,37.717744016592675,37.72853443174584,37.72659711465119,37.72659711465119,37.7123734197278,37.711758169039264,37.710745707398196,37.721634672027925,37.72120940305147,37.72312996239932,37.709106871154226,37.72548807624668,37.72762661997884,37.72393243702637,37.716459544514585,37.719298461387545,37.72123725508115,37.717244618148314,37.719298461387545,37.719298461387545,37.72853443174584,37.72853443174584,37.72393243702637,37.70934710789241,37.72047780132554,37.72830165631449,37.7102387270838,37.70934710789241,37.70934710789241,37.70934710789241,37.729385170472085,37.720090313212864,37.72116354747668,37.72312996239932,37.72616854912102,37.72116354747668,37.716459544514585,37.70886720307003,37.70934710789241,37.7102387270838,37.72587091387491,37.71814755784574,37.7102387270838,37.718916099841906,37.720090313212864,37.725395088398606,37.716038818883085,37.72395457176283,37.719298461387545,37.7271123032615,37.71136797802958,37.72872954740928,37.71246768047719],\"legendgroup\":\"Missing Adult\",\"lon\":[-122.43231516353396,-122.43689432895559,-122.4304531024,-122.44256496382049,-122.41740965555509,-122.43205382260868,-122.4296521266366,-122.42883652782936,-122.43318514434972,-122.43318514434972,-122.44041773893213,-122.44148136617189,-122.43520840231155,-122.44041773893213,-122.4296521266366,-122.4296521266366,-122.4296521266366,-122.4296521266366,-122.43435450033807,-122.42528994074074,-122.4296521266366,-122.4296521266366,-122.4296521266366,-122.43238518772584,-122.42135851558989,-122.43083311183287,-122.43176713576212,-122.42554747561172,-122.43238518772584,-122.43746114104351,-122.43714952548773,-122.43633498636716,-122.43755873456641,-122.4264681529013,-122.42719260005414,-122.42528994074074,-122.43748584242341,-122.42135851558989,-122.42725330553833,-122.44101956350755,-122.43129384491388,-122.4283280014735,-122.42730210944559,-122.42159661723846,-122.42924943984079,-122.43827467758503,-122.42614365667414,-122.43633498636716,-122.44409709906594,-122.43323148769753,-122.42807401268902,-122.44041773893213,-122.43285706441762,-122.4395748408267,-122.43520840231155,-122.43520840231155,-122.43746114104351,-122.43238518772584,-122.42554747561172,-122.43285706441762,-122.43617646639477,-122.4300261514751,-122.42284047352747,-122.43520840231155,-122.43746114104351,-122.4304531024,-122.42284047352747,-122.43435450033807,-122.42284047352747,-122.42730210944559,-122.43016970132632,-122.42284047352747,-122.43699280560267,-122.44616813900605,-122.43275390952348,-122.42284047352747,-122.4276446487549,-122.43520840231155,-122.43617646639477,-122.42284047352747,-122.4149559525335,-122.43323148769753,-122.42284047352747,-122.42866697146904,-122.42284047352747,-122.4296521266366,-122.42730210944559,-122.4300261514751,-122.42159661723846,-122.43520840231155,-122.4296521266366,-122.42826844907457,-122.426084311173,-122.42284047352747,-122.4324320622292,-122.43186692622665,-122.44670507471142,-122.43478495933782,-122.44670507471142,-122.4149559525335,-122.4149559525335,-122.43964030596055,-122.43520840231155,-122.45088366843997,-122.43205382260868,-122.4149559525335,-122.43435450033807,-122.43520840231155,-122.43454112748964,-122.43355535030396,-122.42866697146904,-122.42284047352747,-122.42284047352747,-122.43748584242341,-122.43264606841319,-122.43699280560267,-122.4284321332757,-122.4363845411447,-122.43597688974761,-122.44090335458226,-122.43205382260868,-122.41890005276089,-122.43323148769753,-122.44101956350755,-122.43238518772584,-122.43200549928414,-122.44041773893213,-122.43238518772584,-122.43238518772584,-122.42866697146904,-122.42866697146904,-122.43323148769753,-122.42607352828963,-122.43041210519918,-122.42135851558989,-122.43497949428722,-122.42607352828963,-122.42607352828963,-122.42607352828963,-122.42056328951432,-122.42959915554684,-122.43746114104351,-122.43597688974761,-122.41938591328649,-122.43746114104351,-122.44101956350755,-122.42989602358388,-122.42607352828963,-122.43497949428722,-122.43285706441762,-122.42997802743484,-122.43497949428722,-122.4315848591524,-122.42959915554684,-122.42234250868593,-122.44025513581519,-122.42883652782936,-122.43238518772584,-122.42086738004042,-122.4341826949238,-122.43129384491388,-122.43422861444174],\"marker\":{\"color\":\"#EF553B\",\"symbol\":\"circle\"},\"mode\":\"markers\",\"name\":\"Missing Adult\",\"showlegend\":true,\"type\":\"scattergeo\"}],                        {\"template\":{\"data\":{\"bar\":[{\"error_x\":{\"color\":\"#2a3f5f\"},\"error_y\":{\"color\":\"#2a3f5f\"},\"marker\":{\"line\":{\"color\":\"#E5ECF6\",\"width\":0.5},\"pattern\":{\"fillmode\":\"overlay\",\"size\":10,\"solidity\":0.2}},\"type\":\"bar\"}],\"barpolar\":[{\"marker\":{\"line\":{\"color\":\"#E5ECF6\",\"width\":0.5},\"pattern\":{\"fillmode\":\"overlay\",\"size\":10,\"solidity\":0.2}},\"type\":\"barpolar\"}],\"carpet\":[{\"aaxis\":{\"endlinecolor\":\"#2a3f5f\",\"gridcolor\":\"white\",\"linecolor\":\"white\",\"minorgridcolor\":\"white\",\"startlinecolor\":\"#2a3f5f\"},\"baxis\":{\"endlinecolor\":\"#2a3f5f\",\"gridcolor\":\"white\",\"linecolor\":\"white\",\"minorgridcolor\":\"white\",\"startlinecolor\":\"#2a3f5f\"},\"type\":\"carpet\"}],\"choropleth\":[{\"colorbar\":{\"outlinewidth\":0,\"ticks\":\"\"},\"type\":\"choropleth\"}],\"contour\":[{\"colorbar\":{\"outlinewidth\":0,\"ticks\":\"\"},\"colorscale\":[[0.0,\"#0d0887\"],[0.1111111111111111,\"#46039f\"],[0.2222222222222222,\"#7201a8\"],[0.3333333333333333,\"#9c179e\"],[0.4444444444444444,\"#bd3786\"],[0.5555555555555556,\"#d8576b\"],[0.6666666666666666,\"#ed7953\"],[0.7777777777777778,\"#fb9f3a\"],[0.8888888888888888,\"#fdca26\"],[1.0,\"#f0f921\"]],\"type\":\"contour\"}],\"contourcarpet\":[{\"colorbar\":{\"outlinewidth\":0,\"ticks\":\"\"},\"type\":\"contourcarpet\"}],\"heatmap\":[{\"colorbar\":{\"outlinewidth\":0,\"ticks\":\"\"},\"colorscale\":[[0.0,\"#0d0887\"],[0.1111111111111111,\"#46039f\"],[0.2222222222222222,\"#7201a8\"],[0.3333333333333333,\"#9c179e\"],[0.4444444444444444,\"#bd3786\"],[0.5555555555555556,\"#d8576b\"],[0.6666666666666666,\"#ed7953\"],[0.7777777777777778,\"#fb9f3a\"],[0.8888888888888888,\"#fdca26\"],[1.0,\"#f0f921\"]],\"type\":\"heatmap\"}],\"heatmapgl\":[{\"colorbar\":{\"outlinewidth\":0,\"ticks\":\"\"},\"colorscale\":[[0.0,\"#0d0887\"],[0.1111111111111111,\"#46039f\"],[0.2222222222222222,\"#7201a8\"],[0.3333333333333333,\"#9c179e\"],[0.4444444444444444,\"#bd3786\"],[0.5555555555555556,\"#d8576b\"],[0.6666666666666666,\"#ed7953\"],[0.7777777777777778,\"#fb9f3a\"],[0.8888888888888888,\"#fdca26\"],[1.0,\"#f0f921\"]],\"type\":\"heatmapgl\"}],\"histogram\":[{\"marker\":{\"pattern\":{\"fillmode\":\"overlay\",\"size\":10,\"solidity\":0.2}},\"type\":\"histogram\"}],\"histogram2d\":[{\"colorbar\":{\"outlinewidth\":0,\"ticks\":\"\"},\"colorscale\":[[0.0,\"#0d0887\"],[0.1111111111111111,\"#46039f\"],[0.2222222222222222,\"#7201a8\"],[0.3333333333333333,\"#9c179e\"],[0.4444444444444444,\"#bd3786\"],[0.5555555555555556,\"#d8576b\"],[0.6666666666666666,\"#ed7953\"],[0.7777777777777778,\"#fb9f3a\"],[0.8888888888888888,\"#fdca26\"],[1.0,\"#f0f921\"]],\"type\":\"histogram2d\"}],\"histogram2dcontour\":[{\"colorbar\":{\"outlinewidth\":0,\"ticks\":\"\"},\"colorscale\":[[0.0,\"#0d0887\"],[0.1111111111111111,\"#46039f\"],[0.2222222222222222,\"#7201a8\"],[0.3333333333333333,\"#9c179e\"],[0.4444444444444444,\"#bd3786\"],[0.5555555555555556,\"#d8576b\"],[0.6666666666666666,\"#ed7953\"],[0.7777777777777778,\"#fb9f3a\"],[0.8888888888888888,\"#fdca26\"],[1.0,\"#f0f921\"]],\"type\":\"histogram2dcontour\"}],\"mesh3d\":[{\"colorbar\":{\"outlinewidth\":0,\"ticks\":\"\"},\"type\":\"mesh3d\"}],\"parcoords\":[{\"line\":{\"colorbar\":{\"outlinewidth\":0,\"ticks\":\"\"}},\"type\":\"parcoords\"}],\"pie\":[{\"automargin\":true,\"type\":\"pie\"}],\"scatter\":[{\"marker\":{\"colorbar\":{\"outlinewidth\":0,\"ticks\":\"\"}},\"type\":\"scatter\"}],\"scatter3d\":[{\"line\":{\"colorbar\":{\"outlinewidth\":0,\"ticks\":\"\"}},\"marker\":{\"colorbar\":{\"outlinewidth\":0,\"ticks\":\"\"}},\"type\":\"scatter3d\"}],\"scattercarpet\":[{\"marker\":{\"colorbar\":{\"outlinewidth\":0,\"ticks\":\"\"}},\"type\":\"scattercarpet\"}],\"scattergeo\":[{\"marker\":{\"colorbar\":{\"outlinewidth\":0,\"ticks\":\"\"}},\"type\":\"scattergeo\"}],\"scattergl\":[{\"marker\":{\"colorbar\":{\"outlinewidth\":0,\"ticks\":\"\"}},\"type\":\"scattergl\"}],\"scattermapbox\":[{\"marker\":{\"colorbar\":{\"outlinewidth\":0,\"ticks\":\"\"}},\"type\":\"scattermapbox\"}],\"scatterpolar\":[{\"marker\":{\"colorbar\":{\"outlinewidth\":0,\"ticks\":\"\"}},\"type\":\"scatterpolar\"}],\"scatterpolargl\":[{\"marker\":{\"colorbar\":{\"outlinewidth\":0,\"ticks\":\"\"}},\"type\":\"scatterpolargl\"}],\"scatterternary\":[{\"marker\":{\"colorbar\":{\"outlinewidth\":0,\"ticks\":\"\"}},\"type\":\"scatterternary\"}],\"surface\":[{\"colorbar\":{\"outlinewidth\":0,\"ticks\":\"\"},\"colorscale\":[[0.0,\"#0d0887\"],[0.1111111111111111,\"#46039f\"],[0.2222222222222222,\"#7201a8\"],[0.3333333333333333,\"#9c179e\"],[0.4444444444444444,\"#bd3786\"],[0.5555555555555556,\"#d8576b\"],[0.6666666666666666,\"#ed7953\"],[0.7777777777777778,\"#fb9f3a\"],[0.8888888888888888,\"#fdca26\"],[1.0,\"#f0f921\"]],\"type\":\"surface\"}],\"table\":[{\"cells\":{\"fill\":{\"color\":\"#EBF0F8\"},\"line\":{\"color\":\"white\"}},\"header\":{\"fill\":{\"color\":\"#C8D4E3\"},\"line\":{\"color\":\"white\"}},\"type\":\"table\"}]},\"layout\":{\"annotationdefaults\":{\"arrowcolor\":\"#2a3f5f\",\"arrowhead\":0,\"arrowwidth\":1},\"autotypenumbers\":\"strict\",\"coloraxis\":{\"colorbar\":{\"outlinewidth\":0,\"ticks\":\"\"}},\"colorscale\":{\"diverging\":[[0,\"#8e0152\"],[0.1,\"#c51b7d\"],[0.2,\"#de77ae\"],[0.3,\"#f1b6da\"],[0.4,\"#fde0ef\"],[0.5,\"#f7f7f7\"],[0.6,\"#e6f5d0\"],[0.7,\"#b8e186\"],[0.8,\"#7fbc41\"],[0.9,\"#4d9221\"],[1,\"#276419\"]],\"sequential\":[[0.0,\"#0d0887\"],[0.1111111111111111,\"#46039f\"],[0.2222222222222222,\"#7201a8\"],[0.3333333333333333,\"#9c179e\"],[0.4444444444444444,\"#bd3786\"],[0.5555555555555556,\"#d8576b\"],[0.6666666666666666,\"#ed7953\"],[0.7777777777777778,\"#fb9f3a\"],[0.8888888888888888,\"#fdca26\"],[1.0,\"#f0f921\"]],\"sequentialminus\":[[0.0,\"#0d0887\"],[0.1111111111111111,\"#46039f\"],[0.2222222222222222,\"#7201a8\"],[0.3333333333333333,\"#9c179e\"],[0.4444444444444444,\"#bd3786\"],[0.5555555555555556,\"#d8576b\"],[0.6666666666666666,\"#ed7953\"],[0.7777777777777778,\"#fb9f3a\"],[0.8888888888888888,\"#fdca26\"],[1.0,\"#f0f921\"]]},\"colorway\":[\"#636efa\",\"#EF553B\",\"#00cc96\",\"#ab63fa\",\"#FFA15A\",\"#19d3f3\",\"#FF6692\",\"#B6E880\",\"#FF97FF\",\"#FECB52\"],\"font\":{\"color\":\"#2a3f5f\"},\"geo\":{\"bgcolor\":\"white\",\"lakecolor\":\"white\",\"landcolor\":\"#E5ECF6\",\"showlakes\":true,\"showland\":true,\"subunitcolor\":\"white\"},\"hoverlabel\":{\"align\":\"left\"},\"hovermode\":\"closest\",\"mapbox\":{\"style\":\"light\"},\"paper_bgcolor\":\"white\",\"plot_bgcolor\":\"#E5ECF6\",\"polar\":{\"angularaxis\":{\"gridcolor\":\"white\",\"linecolor\":\"white\",\"ticks\":\"\"},\"bgcolor\":\"#E5ECF6\",\"radialaxis\":{\"gridcolor\":\"white\",\"linecolor\":\"white\",\"ticks\":\"\"}},\"scene\":{\"xaxis\":{\"backgroundcolor\":\"#E5ECF6\",\"gridcolor\":\"white\",\"gridwidth\":2,\"linecolor\":\"white\",\"showbackground\":true,\"ticks\":\"\",\"zerolinecolor\":\"white\"},\"yaxis\":{\"backgroundcolor\":\"#E5ECF6\",\"gridcolor\":\"white\",\"gridwidth\":2,\"linecolor\":\"white\",\"showbackground\":true,\"ticks\":\"\",\"zerolinecolor\":\"white\"},\"zaxis\":{\"backgroundcolor\":\"#E5ECF6\",\"gridcolor\":\"white\",\"gridwidth\":2,\"linecolor\":\"white\",\"showbackground\":true,\"ticks\":\"\",\"zerolinecolor\":\"white\"}},\"shapedefaults\":{\"line\":{\"color\":\"#2a3f5f\"}},\"ternary\":{\"aaxis\":{\"gridcolor\":\"white\",\"linecolor\":\"white\",\"ticks\":\"\"},\"baxis\":{\"gridcolor\":\"white\",\"linecolor\":\"white\",\"ticks\":\"\"},\"bgcolor\":\"#E5ECF6\",\"caxis\":{\"gridcolor\":\"white\",\"linecolor\":\"white\",\"ticks\":\"\"}},\"title\":{\"x\":0.05},\"xaxis\":{\"automargin\":true,\"gridcolor\":\"white\",\"linecolor\":\"white\",\"ticks\":\"\",\"title\":{\"standoff\":15},\"zerolinecolor\":\"white\",\"zerolinewidth\":2},\"yaxis\":{\"automargin\":true,\"gridcolor\":\"white\",\"linecolor\":\"white\",\"ticks\":\"\",\"title\":{\"standoff\":15},\"zerolinecolor\":\"white\",\"zerolinewidth\":2}}},\"geo\":{\"domain\":{\"x\":[0.0,1.0],\"y\":[0.0,1.0]},\"center\":{},\"lonaxis\":{\"range\":[-122.575,-122.325]},\"lataxis\":{\"range\":[37.69,37.85]},\"scope\":\"north america\",\"showocean\":true,\"showland\":true},\"legend\":{\"title\":{\"text\":\"incident_subcategory\"},\"tracegroupgap\":0},\"title\":{\"text\":\"Crime Hotspots based on Analysis Neighbourhood and Types\"},\"height\":1000,\"width\":1000},                        {\"responsive\": true}                    ).then(function(){\n                            \nvar gd = document.getElementById('8f4ad9bb-2099-4ae7-a459-91571f78421d');\nvar x = new MutationObserver(function (mutations, observer) {{\n        var display = window.getComputedStyle(gd).display;\n        if (!display || display === 'none') {{\n            console.log([gd, 'removed!']);\n            Plotly.purge(gd);\n            observer.disconnect();\n        }}\n}});\n\n// Listen for the removal of the full notebook cells\nvar notebookContainer = gd.closest('#notebook-container');\nif (notebookContainer) {{\n    x.observe(notebookContainer, {childList: true});\n}}\n\n// Listen for the clearing of the current output cell\nvar outputEl = gd.closest('.output');\nif (outputEl) {{\n    x.observe(outputEl, {childList: true});\n}}\n\n                        })                };                            </script>        </div>\n</body>\n</html>"
        },
        "metadata": {},
        "output_type": "display_data"
       }
      ]
     }
    },
    "261f28caaf6f45d7aeb68000c96199b4": {
     "model_module": "@jupyter-widgets/base",
     "model_module_version": "1.2.0",
     "model_name": "LayoutModel",
     "state": {
      "_model_module": "@jupyter-widgets/base",
      "_model_module_version": "1.2.0",
      "_model_name": "LayoutModel",
      "_view_count": null,
      "_view_module": "@jupyter-widgets/base",
      "_view_module_version": "1.2.0",
      "_view_name": "LayoutView",
      "align_content": null,
      "align_items": null,
      "align_self": null,
      "border": null,
      "bottom": null,
      "display": null,
      "flex": null,
      "flex_flow": null,
      "grid_area": null,
      "grid_auto_columns": null,
      "grid_auto_flow": null,
      "grid_auto_rows": null,
      "grid_column": null,
      "grid_gap": null,
      "grid_row": null,
      "grid_template_areas": null,
      "grid_template_columns": null,
      "grid_template_rows": null,
      "height": null,
      "justify_content": null,
      "justify_items": null,
      "left": null,
      "margin": null,
      "max_height": null,
      "max_width": null,
      "min_height": null,
      "min_width": null,
      "object_fit": null,
      "object_position": null,
      "order": null,
      "overflow": null,
      "overflow_x": null,
      "overflow_y": null,
      "padding": null,
      "right": null,
      "top": null,
      "visibility": null,
      "width": null
     }
    },
    "2b6cc93a3f274e868b1b78097c5b9fa4": {
     "model_module": "@jupyter-widgets/controls",
     "model_module_version": "1.5.0",
     "model_name": "DescriptionStyleModel",
     "state": {
      "_model_module": "@jupyter-widgets/controls",
      "_model_module_version": "1.5.0",
      "_model_name": "DescriptionStyleModel",
      "_view_count": null,
      "_view_module": "@jupyter-widgets/base",
      "_view_module_version": "1.2.0",
      "_view_name": "StyleView",
      "description_width": ""
     }
    },
    "2e22296a51ba4043a6870e4223123376": {
     "model_module": "@jupyter-widgets/controls",
     "model_module_version": "1.5.0",
     "model_name": "VBoxModel",
     "state": {
      "_dom_classes": [
       "widget-interact"
      ],
      "_model_module": "@jupyter-widgets/controls",
      "_model_module_version": "1.5.0",
      "_model_name": "VBoxModel",
      "_view_count": null,
      "_view_module": "@jupyter-widgets/controls",
      "_view_module_version": "1.5.0",
      "_view_name": "VBoxView",
      "box_style": "",
      "children": [
       "IPY_MODEL_758a9c1968c044e8942839424757ccb6",
       "IPY_MODEL_0e8e34c1169047e6a506d8a6d45f0847",
       "IPY_MODEL_3f4c62d581274342a0d4201b0eb0f65d",
       "IPY_MODEL_4f2daac7ce624d35a3abe0d5ff475b3e"
      ],
      "layout": "IPY_MODEL_7a08e11f81ff4143bb01b86f629aa36d"
     }
    },
    "3f4c62d581274342a0d4201b0eb0f65d": {
     "model_module": "@jupyter-widgets/controls",
     "model_module_version": "1.5.0",
     "model_name": "DropdownModel",
     "state": {
      "_dom_classes": [],
      "_model_module": "@jupyter-widgets/controls",
      "_model_module_version": "1.5.0",
      "_model_name": "DropdownModel",
      "_options_labels": [
       "Night",
       "Morning",
       "Evening",
       "Early Morning"
      ],
      "_view_count": null,
      "_view_module": "@jupyter-widgets/controls",
      "_view_module_version": "1.5.0",
      "_view_name": "DropdownView",
      "description": "Time",
      "description_tooltip": null,
      "disabled": false,
      "index": 0,
      "layout": "IPY_MODEL_66ddfc8ab1ce4aeab78798f95b78d586",
      "style": "IPY_MODEL_fca88834e13d47ddbe339a9c55ceeeae"
     }
    },
    "45063095efdd4152ab6063bdc0496517": {
     "model_module": "@jupyter-widgets/controls",
     "model_module_version": "1.5.0",
     "model_name": "DescriptionStyleModel",
     "state": {
      "_model_module": "@jupyter-widgets/controls",
      "_model_module_version": "1.5.0",
      "_model_name": "DescriptionStyleModel",
      "_view_count": null,
      "_view_module": "@jupyter-widgets/base",
      "_view_module_version": "1.2.0",
      "_view_name": "StyleView",
      "description_width": ""
     }
    },
    "4f2daac7ce624d35a3abe0d5ff475b3e": {
     "model_module": "@jupyter-widgets/output",
     "model_module_version": "1.0.0",
     "model_name": "OutputModel",
     "state": {
      "_dom_classes": [],
      "_model_module": "@jupyter-widgets/output",
      "_model_module_version": "1.0.0",
      "_model_name": "OutputModel",
      "_view_count": null,
      "_view_module": "@jupyter-widgets/output",
      "_view_module_version": "1.0.0",
      "_view_name": "OutputView",
      "layout": "IPY_MODEL_c28f3bb75b954b2c907d6572ef3c6592",
      "msg_id": "",
      "outputs": [
       {
        "data": {
         "text/html": "<html>\n<head><meta charset=\"utf-8\" /></head>\n<body>\n    <div>            <script src=\"https://cdnjs.cloudflare.com/ajax/libs/mathjax/2.7.5/MathJax.js?config=TeX-AMS-MML_SVG\"></script><script type=\"text/javascript\">if (window.MathJax) {MathJax.Hub.Config({SVG: {font: \"STIX-Web\"}});}</script>                <script type=\"text/javascript\">window.PlotlyConfig = {MathJaxConfig: 'local'};</script>\n        <script src=\"https://cdn.plot.ly/plotly-2.8.3.min.js\"></script>                <div id=\"c626716a-c5e3-4fd5-a568-558f69b34469\" class=\"plotly-graph-div\" style=\"height:1000px; width:1000px;\"></div>            <script type=\"text/javascript\">                                    window.PLOTLYENV=window.PLOTLYENV || {};                                    if (document.getElementById(\"c626716a-c5e3-4fd5-a568-558f69b34469\")) {                    Plotly.newPlot(                        \"c626716a-c5e3-4fd5-a568-558f69b34469\",                        [{\"geo\":\"geo\",\"hovertemplate\":\"Incident Category=Burglary<br>latitude=%{lat}<br>longitude=%{lon}<extra></extra>\",\"lat\":[37.766161080658335,37.73898304975426,37.754706578836675,37.77066120360661,37.730318019697776,37.78656598262375,37.78883777870189,37.77352485056589,37.797506948421855,37.764722869461266,37.79942531094891,37.74189009374867,37.754706578836675,37.761700908167974,37.766161080658335,37.75663916020415,37.71073194458116,37.74019196645599,37.804072249404626,37.77793965116621,37.765216184713424,37.779458714779906,37.78179876714438,37.780475849410344,37.75373760734968,37.76079187242403,37.734669531072996,37.7573204208495,37.71042609913388,37.759090505996554,37.79792540700026,37.75708151825655,37.769750784511274,37.74403763134634,37.76422483691618,37.76497689783835,37.745238828766574,37.773759750936534,37.754962267453664,37.75759158940101,37.76337309290054,37.760601064473846,37.753689663984126,37.766805241337174,37.78587620820193,37.78587620820193,37.79057825823802,37.77475982065911,37.78350919823345,37.78953373948388,37.765615759506716,37.783826603385315,37.752074816171096,37.78785557247169,37.74382541697991,37.756631381836904,37.800695733525004,37.787663597834545,37.7898915192474,37.785167213738916,37.78313648723007,37.782076637861074,37.77122982666939,37.77905452162008,37.780699048573226,37.782076637861074,37.76924652917891,37.733882851612556,37.79792540700026,37.785967746003806,37.730318019697776,37.781110994733616,37.80696290988273,37.797506948421855,37.765216184713424,37.775787314614526,37.800833809357144,37.778511462690886,37.73550437532811,37.752074434177075,37.78202549388128,37.765216184713424,37.767006679792914,37.72372006985325,37.790973190511274,37.73550437532811,37.73588854334688,37.74388333564679,37.74319072909627,37.77923467876185,37.73766528576765,37.80504328668041,37.7981184444975,37.739311469493096,37.7479629997817,37.784944005025956,37.75550249751555,37.7757638039623,37.802071870743866,37.77973890462704,37.77279045274103,37.738285544389456,37.76634882800007,37.78983697125977,37.75285240350464,37.772222179073,37.746775139448474,37.77352485056589,37.78033468900229,37.74189009374867,37.779244029652205,37.781110994733616,37.76549215364454,37.734669531072996,37.75863256660654,37.7706103582148,37.77466736549491,37.75599844107892,37.75716664165998,37.75793970427954,37.787889612676835,37.778602200278876,37.76242721371097,37.74907462974306,37.738843283983186,37.80547026506451,37.7969685884324,37.738244462036214,37.745717736972985,37.79594540193314,37.727913311805345,37.77408497416307,37.734884484603946,37.79722494733498,37.743565341494985,37.71073194458116,37.762703173160396,37.78431945489844,37.80068373185481,37.829616620601534,37.712577834190306,37.75765111608875,37.742922541515625,37.78441056823969,37.776707686920346,37.746884773941126,37.7750860862052,37.77122982666939,37.722465217346034,37.791591649822166,37.79803346093516,37.77236766272795,37.76176644350888,37.79803346093516,37.77945546701868,37.74637267141344,37.77541686019655,37.78405447972768,37.74659523116863,37.714772706440094,37.77256906100615,37.752506064398666,37.74597422469076,37.743565341494985,37.78943368124484,37.74289733641199,37.7777941886761,37.77542835164442,37.800607119774014,37.79082302302257,37.766130012668775,37.77531730909958,37.78465714011983,37.7816542606277,37.74397399241433,37.78691386952736,37.780699048573226,37.75730094770081,37.79705082096174,37.72408315550561,37.773466920607476,37.75538988423265,37.758830231194835,37.76898207363323,37.77999353897374,37.78014305865286,37.78014305865286,37.77487110192353,37.76032981540315,37.75902814529158,37.77654633704602,37.7582268276792,37.760601064473846,37.727735448116206,37.754761229669455,37.74736104366858,37.748369271646446,37.72324403566466,37.777977086075,37.7751111795051,37.7517712949126,37.7751111795051,37.752074434177075,37.78350775337797,37.74906582026698,37.72694991292525,37.784560141211806,37.78240595374784,37.78983697125977,37.7791598647458,37.79963392902011,37.75020597412777,37.779277452518656,37.767528443706794,37.74936982198442,37.7346255713805,37.7617941434585,37.78693970570657,37.74615712680034],\"legendgroup\":\"Burglary\",\"lon\":[-122.46108954507277,-122.3863989064933,-122.39667535949232,-122.42390570681654,-122.40470639531522,-122.41817885492549,-122.38942894299095,-122.44932587567995,-122.43220428969965,-122.40352703550899,-122.4393366547218,-122.4299474742717,-122.39667535949232,-122.42157840187744,-122.46108954507277,-122.4422195519432,-122.41877184294184,-122.37684733677168,-122.4019734281221,-122.45243111332893,-122.44596265042229,-122.40237749311285,-122.39834110837147,-122.47616919036905,-122.4601566709269,-122.40509718799159,-122.41244733280233,-122.45989897254094,-122.41316181299366,-122.44808012284106,-122.42891397690136,-122.46062382492205,-122.43620418079145,-122.42089366066374,-122.46203054225813,-122.42090127191872,-122.41145159629264,-122.46268379719766,-122.42663400901058,-122.3941071115673,-122.48140883785467,-122.40806412454907,-122.43431665965201,-122.41764545364202,-122.4349176645574,-122.4349176645574,-122.42068738428432,-122.42085915076044,-122.44603302766068,-122.42890531045148,-122.4514028896707,-122.45904455449617,-122.40041559127415,-122.4421095262678,-122.41891172807087,-122.42561221703586,-122.44470426984901,-122.41335396485418,-122.43359474868316,-122.41790141130261,-122.46013720023512,-122.48380372857787,-122.45224177938098,-122.45366859165537,-122.40392088280285,-122.48380372857787,-122.42397157963755,-122.45822975818969,-122.42891397690136,-122.44172632092675,-122.40470639531522,-122.46213927941308,-122.410497554147,-122.43220428969965,-122.44596265042229,-122.39335512646646,-122.42106330054844,-122.4402133357455,-122.45970712706871,-122.42114296980318,-122.4848742588828,-122.44596265042229,-122.44801316201135,-122.47130403787814,-122.41739133606869,-122.45970712706871,-122.43583754419397,-122.38311822134833,-122.47247911950056,-122.4609312697072,-122.47059686256033,-122.43379794514195,-122.40467993579155,-122.41265698685157,-122.43598980630732,-122.4347299934904,-122.417658993747,-122.49625876462662,-122.4263773454864,-122.40715948914875,-122.44749724585684,-122.49900135321823,-122.42520013272777,-122.43402709034117,-122.40818896891844,-122.4183520340224,-122.41912130184564,-122.44932587567995,-122.47938297632868,-122.4299474742717,-122.44205331083748,-122.46213927941308,-122.4449267385573,-122.41244733280233,-122.41905260777229,-122.4143442572656,-122.44787780195188,-122.40943306975508,-122.41671959504018,-122.38831553235394,-122.40104304688674,-122.4749561631184,-122.50284388080615,-122.46633639762888,-122.42394878514354,-122.4372717074476,-122.44394995564436,-122.41212520018152,-122.41723985187014,-122.4217681680622,-122.39352888863367,-122.42240711807445,-122.40155620834187,-122.44569189339374,-122.42888268662789,-122.41877184294184,-122.43154484114152,-122.47537073481517,-122.43729967065362,-122.37317787318324,-122.40523529568735,-122.40865127398199,-122.40937790997236,-122.39085672212423,-122.41410689674207,-122.44224379569725,-122.44459286382713,-122.45224177938098,-122.43646816648592,-122.43438048549993,-122.42050128453936,-122.45078670937328,-122.38868401740454,-122.42050128453936,-122.49866462088951,-122.435840860086,-122.43448332106492,-122.4536534996981,-122.4064956130513,-122.44874245107991,-122.48419420207375,-122.41408603237402,-122.39704283791049,-122.42888268662789,-122.40695698813221,-122.4265941581875,-122.43836550237133,-122.4106107304721,-122.40025046404315,-122.44750149907196,-122.42881914900947,-122.42772404668867,-122.41443019938555,-122.41550518013352,-122.49724818346256,-122.45927952860882,-122.40392088280285,-122.3989388430369,-122.41693116907143,-122.42398347147704,-122.39143433652146,-122.3880011217841,-122.41577929903445,-122.42671322775644,-122.48687804834698,-122.48366195097974,-122.48366195097974,-122.44628367521804,-122.50806756135735,-122.4125009314788,-122.47910635745805,-122.42576680805787,-122.40806412454907,-122.46357779820578,-122.4299616769325,-122.45117877381895,-122.44502166556514,-122.4531071989789,-122.40938700711665,-122.42936586083005,-122.42633288793789,-122.42936586083005,-122.42114296980318,-122.43098925484851,-122.3864279302503,-122.47603947349434,-122.40733704162238,-122.47630655314094,-122.43402709034117,-122.50508957252873,-122.43769470653812,-122.3885077306853,-122.39221065777403,-122.43229924087287,-122.41268719509124,-122.47510247123125,-122.47485493300424,-122.41151576847024,-122.38717421937969],\"marker\":{\"color\":\"#636efa\",\"symbol\":\"circle\"},\"mode\":\"markers\",\"name\":\"Burglary\",\"showlegend\":true,\"type\":\"scattergeo\"},{\"geo\":\"geo\",\"hovertemplate\":\"Incident Category=Other<br>latitude=%{lat}<br>longitude=%{lon}<extra></extra>\",\"lat\":[37.76759524003734,37.7814283707046,37.78752071361771,37.780971182329765,37.780971182329765,37.765867985549704,37.74816568813204,37.73056751232582,37.79323049132005,37.79323049132005,37.78530844745308,37.78589290013101,37.80675808244208,37.748212149468735,37.763429272147256,37.80279069007599,37.77034289571427,37.78775665157557,37.806657732348235,37.71314315701555,37.74118663867511,37.77283099431839,37.77812569661714,37.782569887796356,37.76877049785351,37.785582473554015,37.79057825823802,37.7985887169347,37.71814755784574,37.79815205560301,37.717178947506795,37.79739358570342,37.7276341253869,37.72641514900517,37.78450084289595,37.767274661158645,37.78356778488696,37.7691985467523,37.780005867994824,37.7757638039623,37.7691985467523,37.79006979947905,37.777553408928654,37.7797953807373,37.7797953807373,37.71589586796954,37.766739480211164,37.76499626872751,37.723044468962584,37.723044468962584,37.723044468962584,37.776332975565595,37.785582473554015,37.76491737717617,37.77129635185078,37.75677768735601,37.77745741894575,37.79801695570216,37.76491737717617,37.77311442180407,37.78207306684549,37.78356778488696,37.78350919823345,37.784560141211806,37.80727586975037,37.76924652917891,37.8028475139412,37.78495687872265,37.754165035480035,37.7706601742933,37.7798398329365,37.77189726490146,37.7578258598883,37.746760185557946,37.773466920607476,37.77870384086902,37.75428676962897,37.796272250626885,37.71812520439796,37.71111645109777,37.73237740436003,37.76520982544754,37.77499179106878,37.79900004908356,37.732923621825364,37.752506064398666,37.732923621825364,37.78515093922473,37.76018890923618,37.730015826566984,37.77429439631743,37.78631021732119,37.73482485635367,37.7783268304671,37.7783268304671,37.79323049132005,37.785641708798344,37.760427451635174,37.77311442180407,37.794859532228344,37.78423573864025,37.78423573864025,37.78445272883687,37.71697022073617,37.796302097343386,37.767430775982845,37.73745474169464,37.80354232410081,37.779138611039535,37.78331088878137,37.77804532780479,37.75395723424183,37.781587665481965,37.724975586504776,37.79709205264024,37.740535221002176,37.73387532874152,37.784006612420036,37.77603932032225,37.77603932032225,37.797089000192194,37.804072249404626,37.78049625961115,37.78049625961115,37.78372378203807,37.715740136119706,37.74597422469076,37.75683373380551,37.78616615811754,37.78616615811754,37.79057825823802,37.78589292711297,37.78372378203807,37.78239164108496,37.78682752578904,37.74817939136343,37.77311442180407,37.78682752578904,37.76924652917891,37.78268536745206,37.763848790283404,37.79208770821325,37.77210825726729,37.781863337992526,37.77973890462704,37.78223057378371,37.771641822183554,37.78268536745206,37.79888096617859,37.80518490076636,37.7706103582148,37.77543698128962,37.79544849687888,37.78258503232177,37.75599844107892,37.77921168445851,37.77974694971805,37.76088893209152,37.79149585408994,37.77082024098187,37.78589290013101,37.78589290013101,37.77973890462704,37.78057538107447,37.727859992471934,37.781940323599706,37.72925450421249,37.77541686019655,37.77541686019655,37.72867801184137,37.799369723004254,37.717454736093245,37.7802927384657,37.717454736093245,37.73898204981367,37.77999173926721,37.799160690853675,37.743289168060265,37.76228996810526,37.80518490076636,37.77829955272183,37.78337048750076,37.77812569661714,37.780821047158554,37.73754172390097,37.76979784988983,37.77878537156561,37.70994690217588,37.79217464375832,37.74312266332609,37.78049625961115,37.80089647618971,37.72166576918655,37.80089647618971,37.78279444506034,37.7805353858225,37.77507596005672,37.763187800944834,37.79768974850337,37.78610103879033,37.775997142169274,37.780005867994824,37.785167213738916,37.775997142169274,37.7617814128804,37.74237539724614,37.76667360056878,37.78574398866823,37.78693970570657,37.773769345456756,37.77256906100615,37.80549853211586,37.78651981906591,37.76491737717617,37.78259591133464,37.792638655548835,37.77311442180407,37.82954857858764,37.774276677599765,37.73764890373544,37.774276677599765,37.73764890373544,37.725380391389876,37.75128639357951,37.75955745953906,37.73109037848132,37.762618198934774,37.78616615811754,37.71193343102876,37.740891974182375,37.78922561367261,37.766957909504505,37.782116602343244,37.766957909504505,37.766957909504505,37.766957909504505,37.7783268304671,37.766957909504505,37.75220444116967,37.74019196645599,37.773466920607476,37.80123569763512,37.74219755183286,37.74096192703731,37.78537264618818,37.7758343406229,37.777699658507856,37.77560725599502,37.71165503306195,37.794434006013915,37.78196076502422,37.77850510385514,37.758698271638025,37.78175432665782,37.76924652917891,37.77500333538674,37.71094406772292,37.784106548971366,37.765183133520345,37.79888096617859,37.802628423158055,37.76560583760297,37.78392473449428,37.75235171503818,37.78445272883687,37.73367501603134,37.74015348041543,37.764705299011204,37.780005867994824,37.71631730777967,37.76653957529556,37.74015348041543,37.78337048750076,37.72699065551247,37.71147716832776,37.72312996239932,37.750505825050176,37.780926854425914,37.76049887140056,37.79129813497031,37.763429272147256,37.759829612490556,37.73355034231799,37.77406164547093,37.77175774238835,37.77175774238835,37.708311265041836,37.77872410696556,37.78693970570657,37.78976259679856],\"legendgroup\":\"Other\",\"lon\":[-122.43119112088166,-122.43232898312252,-122.4593235104773,-122.4087086749172,-122.4087086749172,-122.43102547213662,-122.41822117169174,-122.43119165888979,-122.3931813328012,-122.3931813328012,-122.41287203894147,-122.41973873477666,-122.4121414255319,-122.41586279405455,-122.41951273794947,-122.42821030774003,-122.43684894391845,-122.42011607573366,-122.42055996630992,-122.43370682089248,-122.47553978844745,-122.39137353346597,-122.39184052639568,-122.43079788213421,-122.42746205880601,-122.4146172088293,-122.42068738428432,-122.40637260380367,-122.42997802743484,-122.40708292701295,-122.38626501459227,-122.44061007843756,-122.4035928907734,-122.38923775427506,-122.41945454389607,-122.43647824783746,-122.41927343381671,-122.4177829388001,-122.41193341005338,-122.49625876462662,-122.4177829388001,-122.39097101886335,-122.40992265087567,-122.49116704585714,-122.49116704585714,-122.47444642932042,-122.41873445003144,-122.42058060938771,-122.43604007380267,-122.43604007380267,-122.43604007380267,-122.39403506751226,-122.4146172088293,-122.42188644715362,-122.40542473566995,-122.38719454914899,-122.4131576926893,-122.40547307125945,-122.42188644715362,-122.47229734203229,-122.41222073683006,-122.41927343381671,-122.44603302766068,-122.40733704162238,-122.41561643757444,-122.42397157963755,-122.43497257681223,-122.46133639624621,-122.43985521294523,-122.42678076677441,-122.4900965800566,-122.43209230178827,-122.39021008691539,-122.44664836962984,-122.39143433652146,-122.47270848239937,-122.411120125642,-122.42689272970865,-122.43435450033807,-122.44812971990292,-122.43746203675106,-122.48261455726514,-122.41006277137103,-122.44264789818902,-122.4552605153723,-122.41408603237402,-122.4552605153723,-122.43308339913544,-122.41997494764911,-122.3772026141149,-122.42075989402895,-122.41644912401847,-122.4155544035822,-122.39653063923612,-122.39653063923612,-122.3931813328012,-122.41799627043912,-122.41096197259283,-122.47229734203229,-122.40487561154785,-122.4177067508564,-122.4177067508564,-122.40849315881205,-122.44343127005364,-122.40441216196413,-122.40184250506094,-122.47528855602015,-122.41487678623677,-122.46307618146837,-122.41752877437465,-122.4124133449216,-122.48289935733482,-122.40061307317757,-122.40360092039614,-122.39833314914345,-122.45890466563306,-122.43583997184848,-122.40486479517743,-122.40252409795595,-122.40252409795595,-122.43548982808359,-122.4019734281221,-122.43214039079034,-122.43214039079034,-122.41424157409635,-122.48163234744986,-122.39704283791049,-122.40669900268833,-122.42137337495188,-122.42137337495188,-122.42068738428432,-122.41214750780264,-122.41424157409635,-122.44730151526936,-122.41992794913615,-122.41917060471224,-122.47229734203229,-122.41992794913615,-122.42397157963755,-122.42246374465972,-122.4705950866979,-122.41629064994724,-122.43043391908799,-122.41386560526722,-122.40715948914875,-122.41029202788059,-122.42174766641084,-122.42246374465972,-122.39869570327996,-122.40343572658638,-122.4143442572656,-122.4137181543595,-122.40041268582165,-122.41569387441227,-122.40943306975508,-122.41093657493794,-122.49223228977323,-122.4350007026991,-122.42087318515297,-122.40913437034878,-122.41973873477666,-122.41973873477666,-122.40715948914875,-122.47398247146391,-122.38511885228444,-122.43581374227543,-122.37258355600144,-122.43448332106492,-122.43448332106492,-122.38156441612668,-122.43258075381267,-122.45907229101812,-122.44114884546975,-122.45907229101812,-122.41331182373415,-122.41348740024354,-122.4342243855828,-122.47023491618813,-122.40132418490647,-122.40343572658638,-122.4418656420479,-122.42083185184009,-122.39184052639568,-122.42208679403626,-122.3905211016664,-122.44857881825685,-122.41040149389688,-122.41934779895824,-122.42269416444952,-122.42148545138262,-122.43214039079034,-122.39913024364351,-122.46658847881679,-122.39913024364351,-122.41405376568504,-122.40816079455212,-122.51129492624534,-122.40730484858473,-122.44578544273985,-122.41808809883916,-122.42616739374448,-122.41193341005338,-122.41790141130261,-122.42616739374448,-122.44678340468593,-122.42196876280964,-122.41982523539403,-122.4058310124795,-122.41151576847024,-122.41161011784295,-122.48419420207375,-122.44032809977274,-122.41480664938405,-122.42188644715362,-122.39934928749489,-122.40441842894154,-122.47229734203229,-122.37142899749846,-122.4359403291949,-122.47096273082656,-122.4359403291949,-122.47096273082656,-122.44161907684445,-122.50098748984284,-122.43042034086498,-122.4341317732651,-122.43294913831029,-122.42137337495188,-122.41876599574823,-122.46582902531254,-122.40859504581255,-122.38816413828668,-122.45009230346619,-122.38816413828668,-122.38816413828668,-122.38816413828668,-122.39653063923612,-122.38816413828668,-122.4190175437401,-122.37684733677168,-122.39143433652146,-122.43295762803383,-122.42208378590405,-122.4015557018139,-122.43136639807875,-122.43119861059851,-122.40460550711119,-122.4154847516124,-122.41508054719948,-122.39779625740289,-122.420638250988,-122.40561526782413,-122.41796470626194,-122.40969326320398,-122.42397157963755,-122.47190510429122,-122.44215616577816,-122.44134854013959,-122.41748659732667,-122.39869570327996,-122.43669334831304,-122.41048669029503,-122.42777887211062,-122.44598442613956,-122.40849315881205,-122.42639116629013,-122.4358395774638,-122.41525065017504,-122.41193341005338,-122.40110452602805,-122.42204381448558,-122.4358395774638,-122.42083185184009,-122.38025684003502,-122.4401084608259,-122.43597688974761,-122.42050700685434,-122.41367636179726,-122.41484189286116,-122.40732292998459,-122.41951273794947,-122.42592030312977,-122.43414453855247,-122.43761062521642,-122.39359835894405,-122.39359835894405,-122.42008306742426,-122.43855227864373,-122.41151576847024,-122.3975744697393],\"marker\":{\"color\":\"#EF553B\",\"symbol\":\"circle\"},\"mode\":\"markers\",\"name\":\"Other\",\"showlegend\":true,\"type\":\"scattergeo\"},{\"geo\":\"geo\",\"hovertemplate\":\"Incident Category=Motor Vehicle Theft<br>latitude=%{lat}<br>longitude=%{lon}<extra></extra>\",\"lat\":[37.71912234572731,37.76924652917891,37.73898304975426,37.78117721773047,37.776044284872675,37.7578258598883,37.78752071361771,37.75751965679173,37.77066120360661,37.75694890668612,37.762618198934774,37.769042388642006,37.715429678555736,37.717894143594236,37.73981238341194,37.78299789645973,37.766161080658335,37.712110383966014,37.75712085039765,37.77758676678615,37.78414101130419,37.78689867924955,37.7123734197278,37.722752176282405,37.736539888828716,37.73725978865716,37.73832136115452,37.722397870557415,37.76924652917891,37.770519317566674,37.72102290324394,37.786223776271626,37.71190914111914,37.76817786907554,37.76437350953744,37.7814283707046,37.780817065401386,37.73427799690997,37.75863256660654,37.754570554506635,37.727913311805345,37.785167213738916,37.78878689392044,37.78258503232177,37.78321431177312,37.79039016118251,37.720062804711205,37.76075810695455,37.740983211931685,37.74184975098623,37.73367501603134,37.749753046438144,37.7366901339571,37.717508554937424,37.7132256827461,37.72410168300006,37.777773070705116,37.792841413380785,37.72581476415174,37.76513049475049,37.75670181862707,37.759559127723094,37.7681396823622,37.71812520439796,37.775602761721544,37.76924652917891,37.726447187830296,37.72685852204011,37.75759158940101,37.759927376045155,37.76907435637729,37.75093681200896,37.773967342195064,37.7870493820726,37.74207462128994,37.71172830885809,37.78014305865286,37.73918307265385,37.79067278294602,37.79990243551584,37.773474419099585,37.77871942789032,37.735804798465125,37.800415026237054,37.76267070626061,37.77561842655076,37.77929370130706,37.73653551948741,37.72758526980229,37.72758526980229,37.77283099431839,37.746760185557946,37.7880272139735,37.76079187242403,37.76255082381586,37.729872183685,37.76973469514724,37.73550437532811,37.772837756469265,37.800383990964086,37.78962043718497,37.78453091710437,37.77447568915725,37.717379533467806,37.74926977171113,37.782477050575544,37.75248536512138,37.72344678051801,37.77527205930737,37.77921168445851,37.80468416244828,37.741027406919294,37.77475982065911,37.78049625961115,37.7814283707046,37.765216184713424,37.765216184713424,37.77646430525107,37.75702275572494,37.780699048573226,37.781160260651106,37.73550437532811,37.73550437532811,37.71752615792832,37.78075200505535,37.7348561203188,37.76104311964574,37.73550437532811,37.780005867994824,37.766662029418555,37.7829399329451,37.79255233583978,37.73262190066042,37.71068225290847,37.780470340397024,37.739311469493096,37.739311469493096,37.78619642719614,37.7324386568328,37.763420291159434,37.78641773044466,37.75509563783832,37.76176644350888,37.76176644350888,37.73228996130427,37.77527205930737,37.73212994702763,37.77487657235751,37.728731781881194,37.78537026364588,37.71868763249085,37.78321431177312,37.73898304975426,37.784006612420036,37.72818824316058,37.78298920316836,37.719586724347955,37.71580621368506,37.72805859709567,37.711920043833764,37.7885982027112,37.738285544389456,37.72489008709108,37.73147825848315,37.7584028114544,37.80030100677404,37.77928262880662,37.778942760437076,37.775483264251925,37.743879410334394,37.80549664761133,37.763752329588236,37.73505812716872,37.786503857580136,37.769867697086454,37.73847287088267,37.780527160091324,37.76549215364454,37.76549215364454,37.79843905991203,37.77303929797831,37.785491559268934,37.78107768298222,37.80109545463191,37.77605756621302,37.72926125620521,37.727716813462564,37.738843283983186,37.780005867994824,37.730938434104736,37.77086854458143,37.77758676678615,37.789110174829865,37.730015826566984,37.77601659060897,37.79564411986823,37.738244462036214,37.7802927384657,37.76982865656293,37.757650784191725,37.76924652917891,37.775602761721544,37.790812878071975,37.74480758367075,37.77718990655103,37.77963500037203,37.772812159128556,37.72727689842394,37.78952931651484,37.75201789429705,37.75777829101296,37.70994690217588,37.72117506928244,37.75936548817879,37.774276677599765,37.76088893209152,37.71060452155179,37.78075200505535,37.7555682772331,37.77122982666939,37.746824998777896,37.77139018949157,37.72303615829774,37.7852326274979,37.79346692743875,37.76344516653254,37.77000760474354,37.71498278041112,37.75456421140335,37.805618478961165,37.762618198934774,37.74637267141344,37.76924652917891,37.74637267141344,37.719298464887245,37.74637267141344,37.73559051983254,37.72169216817179,37.7868105415523,37.746824998777896,37.74597422469076,37.75698797807413,37.74960063964786,37.75428676962897,37.73314372948054,37.743680676424304,37.796926429317054,37.75753872210959,37.741750118877796,37.78452447803436,37.770847433967646,37.71118857209046,37.73154295855655,37.80013918903725,37.744681182378415,37.7602353540718,37.774902830394026,37.76219031110778,37.773756988305436,37.75103389375139,37.77581327782788,37.782477050575544,37.73670941107003,37.76211267084488,37.77704400153006,37.722034716260424,37.78787216759232,37.77704400153006,37.72867801184137,37.71447895459329,37.70994690217588,37.736464402595914,37.7848662445387,37.72344678051801,37.72344678051801,37.72344678051801,37.76297272623552,37.72047780132554,37.74833438937881,37.72086792236934,37.7578258598883,37.784709803078236,37.74223630077866,37.78196076502422,37.76450761219125,37.797038513690566,37.77435867382556,37.766957909504505,37.76924652917891,37.76257883049033,37.737550436385284,37.71876049748721,37.72548241124062,37.7853882479001,37.72344678051801,37.75757006215989,37.753769699814576,37.77742986135628,37.72498829635846,37.786924665750064,37.79646144154291,37.714357233895655,37.742421627623905,37.75584069959303,37.761067953031876,37.76266410087082,37.762127977892575,37.78372378203807,37.74795290548942,37.72344678051801,37.77913222249791,37.73354804970769,37.76036702181753,37.72344678051801,37.793663777154755,37.77063763481854,37.76147616037246,37.74063539820595,37.777699658507856],\"legendgroup\":\"Motor Vehicle Theft\",\"lon\":[-122.38603410797646,-122.42397157963755,-122.3863989064933,-122.41169993118794,-122.42955405793654,-122.39021008691539,-122.4593235104773,-122.39992195371111,-122.42390570681654,-122.42033834189472,-122.43294913831029,-122.42685829108402,-122.44179946588723,-122.46894113766407,-122.50667573830012,-122.39794294011354,-122.46108954507277,-122.43343166405883,-122.40183250825523,-122.44002692307818,-122.41095161908784,-122.38877943718775,-122.43748584242341,-122.39540516618375,-122.43615608823778,-122.42108045548981,-122.40564673809936,-122.4300261514751,-122.42397157963755,-122.45040750689292,-122.4030342430857,-122.3896366412841,-122.44331952054921,-122.41073071858334,-122.43088215407568,-122.43232898312252,-122.44930252804019,-122.42579180464467,-122.41905260777229,-122.40158939030397,-122.39352888863367,-122.41790141130261,-122.4270596732852,-122.41569387441227,-122.41076482950653,-122.41052277434086,-122.4339851091758,-122.43719062847191,-122.41883417156289,-122.45060341939484,-122.42639116629013,-122.4933582535052,-122.42364033383055,-122.39677574065807,-122.40705644505299,-122.45716900223259,-122.41600949683082,-122.42451795190823,-122.4598160753506,-122.39677089165308,-122.42444266064841,-122.40401060371038,-122.42219917520208,-122.43435450033807,-122.40307640218379,-122.42397157963755,-122.4405169957515,-122.40656538351845,-122.3941071115673,-122.47472431898164,-122.44674489491523,-122.44526285879303,-122.40204602769535,-122.44846837692526,-122.45574766764489,-122.45153809125458,-122.48366195097974,-122.4786443703846,-122.41226618818563,-122.42088263735474,-122.41803023409047,-122.4147412230519,-122.43798065042549,-122.42435866871052,-122.4351879633321,-122.45846290261068,-122.40880899527605,-122.42099140358678,-122.45820513325104,-122.45820513325104,-122.39137353346597,-122.44664836962984,-122.4217498823547,-122.40509718799159,-122.43406238857597,-122.45113527576628,-122.42458109059115,-122.45970712706871,-122.40968304216152,-122.40201518421004,-122.42049344331697,-122.43801967361604,-122.4149097453127,-122.42837146546957,-122.41433563875279,-122.42410820197163,-122.39361946988485,-122.40007300242718,-122.4159081801724,-122.41093657493794,-122.41342855506932,-122.42284057840082,-122.42085915076044,-122.43214039079034,-122.43232898312252,-122.44596265042229,-122.44596265042229,-122.42626334607084,-122.4981621237721,-122.40392088280285,-122.46106282968253,-122.45970712706871,-122.45970712706871,-122.39159941138196,-122.44981744851651,-122.49340696787205,-122.44278560736181,-122.45970712706871,-122.41193341005338,-122.43333190593823,-122.46442502609422,-122.41264965842102,-122.40702406937113,-122.46616069566643,-122.41694760620521,-122.41265698685157,-122.41265698685157,-122.42485842366148,-122.40560754920035,-122.48033692793896,-122.45340664826642,-122.39288410139532,-122.38868401740454,-122.38868401740454,-122.38960060074285,-122.4159081801724,-122.42504699558478,-122.47468611543894,-122.43447865025375,-122.44642170965479,-122.39056415497244,-122.41076482950653,-122.3863989064933,-122.40486479517743,-122.44060709355492,-122.46335052668974,-122.40902190840623,-122.43393069423925,-122.40706235689633,-122.43781110524279,-122.41354144348315,-122.49900135321823,-122.48462881730454,-122.40029326000466,-122.40195658117408,-122.44030960703606,-122.45986037452863,-122.40616285916312,-122.4564727014912,-122.4993932425097,-122.42200682265661,-122.47278970662096,-122.4202237586656,-122.42997893501317,-122.42236482023111,-122.49472055073831,-122.3968458230064,-122.4449267385573,-122.4449267385573,-122.43239266601849,-122.4306290861244,-122.40785252141461,-122.42382522763067,-122.42618004477822,-122.48981544035527,-122.40756041806301,-122.43236326479243,-122.42394878514354,-122.41193341005338,-122.41050984355167,-122.42513550957302,-122.44002692307818,-122.41701687926658,-122.3772026141149,-122.44477989251513,-122.43182783403326,-122.41212520018152,-122.44114884546975,-122.4030377602582,-122.39312262975965,-122.42397157963755,-122.40307640218379,-122.4089197830783,-122.45684795273021,-122.50602204590608,-122.43533743580574,-122.41282422762143,-122.39908887644572,-122.41372838950014,-122.40136437213164,-122.4810168988631,-122.41934779895824,-122.38833333269504,-122.40694687464283,-122.4359403291949,-122.4350007026991,-122.41134900368083,-122.44981744851651,-122.41656664194113,-122.45224177938098,-122.41254705065515,-122.45329513313322,-122.39834811568599,-122.42121645936334,-122.4195791248608,-122.40341249711301,-122.44693382058489,-122.45247422582248,-122.4064804591885,-122.41360416993442,-122.43294913831029,-122.435840860086,-122.42397157963755,-122.435840860086,-122.39001968579463,-122.435840860086,-122.39041626502802,-122.46268271836497,-122.43510576955943,-122.41254705065515,-122.39704283791049,-122.41968911539237,-122.40882528116093,-122.411120125642,-122.40434481360481,-122.41855384073833,-122.39950750040278,-122.41052654649906,-122.42097982083872,-122.47098148623597,-122.44035770593106,-122.40365010867637,-122.44886626631308,-122.41162551695182,-122.48118121642418,-122.41920604493745,-122.43101153953138,-122.50819857393286,-122.4324670697681,-122.41174622597137,-122.49517485485184,-122.42410820197163,-122.43813539667984,-122.40425877441254,-122.50922816077126,-122.3931719589466,-122.41169923333719,-122.50922816077126,-122.38156441612668,-122.40889553580978,-122.41934779895824,-122.49779796771058,-122.41278212939851,-122.40007300242718,-122.40007300242718,-122.40007300242718,-122.41120683976601,-122.43041210519918,-122.40964638867487,-122.42683077579494,-122.39021008691539,-122.41780582056246,-122.42423327853184,-122.420638250988,-122.42866513028684,-122.41355854500877,-122.42025428037208,-122.38816413828668,-122.42397157963755,-122.42166247826907,-122.47316133964036,-122.38766133455968,-122.46281547511876,-122.40866708530758,-122.40007300242718,-122.42336725813213,-122.41970544916016,-122.45972482290577,-122.44306587712263,-122.42666680815432,-122.44042174577214,-122.40350661669247,-122.41001519363935,-122.39879980631304,-122.4002665990272,-122.49748400563392,-122.4672531424321,-122.41424157409635,-122.40866318602454,-122.40007300242718,-122.39753890763892,-122.42503469028675,-122.41702581621057,-122.40007300242718,-122.39639041612962,-122.44199776339865,-122.39348838873727,-122.45818500111717,-122.40460550711119],\"marker\":{\"color\":\"#00cc96\",\"symbol\":\"circle\"},\"mode\":\"markers\",\"name\":\"Motor Vehicle Theft\",\"showlegend\":true,\"type\":\"scattergeo\"},{\"geo\":\"geo\",\"hovertemplate\":\"Incident Category=Larceny Theft<br>latitude=%{lat}<br>longitude=%{lon}<extra></extra>\",\"lat\":[37.76759524003734,37.79709205264024,37.79489493636311,37.77706807960932,37.7184073634072,37.73479735810732,37.74907536273791,37.78589292711297,37.79709205264024,37.765867985549704,37.776415816714724,37.77695766643813,37.782849407135444,37.78883777870189,37.76667806484848,37.79016047050102,37.78495687872265,37.829616620601534,37.75759495685635,37.78325923532804,37.783826603385315,37.79435377821616,37.763801646612,37.80220130787601,37.782849407135444,37.76599632858727,37.77702641978903,37.76924652917891,37.78682752578904,37.80328399631487,37.780576217006235,37.80696290988273,37.72694991292525,37.757650784191725,37.786246576578144,37.78392473449428,37.78574042126939,37.717744016592675,37.747354198387534,37.78943368124484,37.78901633734544,37.7991984375206,37.80549664761133,37.787641847617515,37.79888096617859,37.76924652917891,37.71750748485157,37.768273652528386,37.80528698382421,37.77745741894575,37.800289855147525,37.733103477851955,37.79006979947905,37.72694991292525,37.77034289571427,37.738367191535495,37.77499179106878,37.800607119774014,37.78556384617361,37.77532094545078,37.77499179106878,37.76817786907554,37.77522282820805,37.71853855950266,37.78556384617361,37.78728002558399,37.77615876396203,37.78556384617361,37.77935458486337,37.78392473449428,37.79025206170721,37.804145844453586,37.77802075980921,37.77475982065911,37.72688808877558,37.80067840662268,37.752603730148984,37.79896930772399,37.757883662734024,37.76924652917891,37.78339985751909,37.80707251301197,37.80727586975037,37.765489808055165,37.80528698382421,37.781327195293386,37.791716057660935,37.782569887796356,37.75858492478668,37.76288986498137,37.78303833763175,37.78515093922473,37.783087441092704,37.78453091710437,37.77021017395845,37.72853443174584,37.78813450138674,37.76568623167785,37.792436047188296,37.78761183712897,37.75235171503818,37.780037952320775,37.78515093922473,37.77874737106934,37.77507596005672,37.75543693568604,37.788696939233134,37.78962043718497,37.78392473449428,37.78392473449428,37.71369412498646,37.78014305865286,37.80624124805435,37.784560141211806,37.76924652917891,37.78720062525248,37.78899469838761,37.77804532780479,37.76924652917891,37.759372452792256,37.80727586975037,37.72817129450155,37.78745049797145,37.80040342900427,37.78142288596124,37.77709097125577,37.76924652917891,37.782569887796356,37.78060675630406,37.78890961112855,37.77054807903014,37.80516964874004,37.7772998550869,37.79313671954978,37.80216674861999,37.75372090111572,37.78899469838761,37.78515093922473,37.77709097125577,37.80624124805435,37.75367419233453,37.76924652917891,37.79888096617859,37.782569887796356,37.80675808244208,37.76860219420493,37.782569887796356,37.782569887796356,37.78556384617361,37.78071557225048,37.80624124805435,37.80569594262971,37.782569887796356,37.766903443867825,37.75446561896239,37.789203138929935,37.78537026364588,37.77455093061696,37.72906230715476,37.75908405469064,37.7868683661603,37.78537264618818,37.72401640864594,37.74734535177902,37.76924652917891,37.76924652917891,37.782569887796356,37.763187800944834,37.75677768735601,37.80549664761133,37.78142288596124,37.78556384617361,37.78234963425061,37.769233921926144,37.77220371162243,37.78556384617361,37.78556384617361,37.77781524516056,37.790666905733474,37.76924652917891,37.782569887796356,37.76924652917891,37.76924652917891,37.78924841505325,37.75217141215726,37.80572025485464,37.77569523157464,37.72758526980229,37.761699373831405,37.76924652917891,37.78004750776494,37.74863258701727,37.76216035767575,37.80114199733049,37.76924652917891,37.76860219420493,37.77928262880662,37.76446148144659,37.76924652917891,37.75089589790931,37.82544447384668,37.78808218625765,37.760601064473846,37.76505133632968,37.80821405292514,37.80675808244208,37.76924652917891,37.76924652917891,37.72343034675728,37.72343034675728,37.75591903030493,37.79006979947905,37.76533295553955,37.78211941829001,37.779296389723044,37.7121822436177,37.781110994733616,37.730658421394644,37.76147616037246,37.74559509558596,37.80466856646345,37.78179876714438,37.791310970148544,37.76924652917891,37.772837756469265,37.73898204981367,37.77313349122912,37.78556384617361,37.730658421394644,37.77754620640255,37.80727586975037,37.76924652917891,37.724693136232496,37.77527205930737,37.76924652917891,37.77850510385514,37.76924652917891,37.76924652917891,37.75856248834858,37.76924652917891,37.80624124805435,37.76924652917891,37.76924652917891,37.78574042126939,37.752074816171096,37.7584028114544,37.72865760338169,37.80675808244208,37.77935458486337,37.79045949832417,37.7602353540718,37.806780111468534,37.782849407135444,37.80549664761133,37.76924652917891,37.805494467998535,37.75759158940101,37.74312266332609,37.78829319282882,37.769917550675686,37.786223776271626,37.76560583760297,37.77009807899048,37.76586162673693,37.76924652917891,37.76924652917891,37.78331088878137,37.772895177200766,37.7578258598883,37.78022581795078,37.78556384617361,37.78331088878137,37.77313349122912,37.76492645901973,37.7626999441954,37.76924652917891,37.79323049132005,37.794684264735956,37.77697602158848,37.74822272472554,37.76924652917891,37.78482668479605,37.80220130787601,37.76924652917891,37.79690190460764,37.79323049132005,37.76924652917891,37.762637925312205,37.78556384617361,37.78883777870189,37.7853882479001,37.78331088878137,37.788499477941336,37.78693970570657,37.72917261883452,37.78556384617361,37.759566657289916,37.75414576576522,37.76402134194153,37.78556384617361,37.73832136115452,37.76924652917891,37.796417485008384,37.80624124805435,37.80549664761133,37.735402877457446,37.76924652917891,37.78537264618818,37.80549664761133,37.804072249404626,37.73670941107003,37.78556384617361,37.77829955272183,37.7323159204474,37.785802909531846,37.78325923532804,37.780630787073484,37.76924652917891,37.76924652917891,37.783609175905454,37.80727586975037,37.78299789645973,37.78701078672742,37.758088755711356,37.784006612420036,37.7783268304671,37.75235171503818,37.790973190511274,37.80727586975037,37.75356917984707,37.77385630397913,37.76559292273596,37.77447568915725,37.80821405292514,37.75235171503818,37.77230320284353,37.78883777870189,37.72853443174584,37.781327195293386,37.76924652917891,37.76142713261589,37.784006612420036,37.790045140380386,37.771797143988884,37.770426369755086,37.792638655548835,37.778956863808695,37.773259468528074,37.783087441092704,37.79573710834212,37.76924652917891,37.781110994733616,37.7821995438959,37.7637029373763,37.745078194166084,37.782169269140326,37.796346859010335,37.79573710834212,37.77475982065911,37.77615876396203,37.73482485635367,37.78404443715923,37.774132307643065,37.78537264618818,37.782569887796356,37.76924652917891,37.76257883049033,37.77562608768549,37.80518490076636,37.780576217006235,37.789110174829865,37.746354085117034,37.782569887796356,37.760550220844614,37.76924652917891,37.72202599380391,37.750503684025645,37.74142511128048,37.79120484958468,37.781680265811794,37.78445272883687,37.76924652917891,37.77100577130384,37.78836375089961,37.75720270579642,37.78515093922473,37.74615712680034,37.78049625961115,37.80435912227808,37.78060675630406,37.79942531094891,37.78966295909829,37.74596003998095,37.79036965855657,37.78608542804948,37.773474419099585,37.801125131492675,37.80175841597838,37.80624124805435,37.77630014439043,37.76924652917891,37.79963392902011,37.77569523157464,37.79963392902011,37.76924652917891,37.75969162177683,37.78337048750076,37.71330425449689,37.77223581387494,37.76924652917891,37.723672363378036,37.78745049797145,37.72694991292525,37.80748251193778,37.76560583760297,37.78216042110706,37.72574019295674,37.790565236529574,37.75300402962228,37.78298920316836,37.731103552240334,37.71118857209046,37.78383347909978,37.75863256660654,37.7758343406229,37.7802927384657,37.78096880274808,37.74756446628815,37.80256181551099,37.72805558896425,37.80504328668041,37.765782668831136,37.77286365480944,37.79963392902011,37.784560141211806,37.77871942789032,37.78239164108496,37.77943863627929,37.78556384617361,37.805494467998535,37.72694991292525,37.77718530462359,37.749964501216276,37.72694991292525,37.76255082381586,37.7998429520262,37.73716953069777,37.723672363378036,37.794859532228344,37.782802248999005,37.72494970021032,37.76403273428497,37.76924652917891,37.8040301248352,37.75791957375096,37.80328399631487,37.77594986170828,37.78702066647638,37.782569887796356,37.76142713261589,37.804145844453586,37.80063802006374,37.734707959315564,37.78404443715923,37.79942531094891,37.78154661930716,37.78983697125977,37.780773160648025,37.78556384617361,37.786246576578144,37.76924652917891,37.77781524516056,37.77781524516056,37.76924652917891,37.773345711812325,37.78223057378371,37.76924652917891,37.80821405292514,37.72486622928086,37.78556384617361,37.77502069532915,37.78582921318811,37.77569523157464,37.75235171503818,37.75283022602155,37.780576217006235,37.75371897206997,37.783609175905454,37.76924652917891,37.8040301248352,37.796210953409165,37.75676878006035,37.780527160091324,37.79942531094891,37.774598784465354,37.72470958451733,37.79921236567204,37.76924652917891,37.80727586975037,37.807163251424285,37.77630216591517,37.766194222958134,37.7889062829483,37.72076874017506,37.760427451635174,37.76924652917891,37.73080573065068,37.78932449579461,37.78932449579461,37.80569594262971,37.80220130787601,37.72548241124062,37.805494467998535,37.72163120424104,37.800561987482084,37.74918733442739,37.80821405292514,37.76924652917891,37.76560583760297,37.805494467998535,37.79888096617859,37.80504328668041,37.73011880465789,37.78404443715923,37.76924652917891,37.80549664761133,37.801994861944884,37.80707251301197,37.80811075299725,37.806780111468534,37.77871942789032,37.76924652917891,37.76924652917891,37.806780111468534,37.8060277166905,37.796346859010335,37.80624124805435,37.759784492649885,37.76924652917891,37.78207306684549,37.8047903066652,37.80727586975037,37.78008972934234,37.77871942789032,37.77989010577922,37.769496997180674,37.785334621209216,37.78328785199654,37.817823897791946,37.7984422945084,37.78720062525248,37.78378493292431,37.755540667885825,37.803602640446194,37.79323049132005,37.770426369755086,37.80811075299725,37.76507220692411,37.77999353897374,37.727456926929214,37.78284676110398,37.71501138834774,37.73011880465789,37.80518490076636,37.74822272472554,37.796346859010335,37.79240821940111,37.80675808244208,37.76924652917891,37.74795290548942,37.782488031626265,37.7812134768322,37.80109545463191,37.79792540700026,37.7812134768322,37.769233921926144,37.78430272931328,37.77989010577922,37.807163251424285,37.8063434285485,37.73011880465789,37.76924652917891,37.76924652917891,37.76924652917891,37.80040342900427,37.76853738566884,37.76291589268423,37.76499626872751,37.77622135530407,37.76398268102657,37.7482294743023,37.80727586975037,37.80727586975037,37.76924652917891,37.781847438583505,37.78258503232177,37.80518490076636,37.78121880145902,37.78952931651484,37.78661895979627,37.78537264618818,37.755635343465876,37.76021764915843,37.806657732348235,37.77594986170828,37.78813450138674,37.779296389723044,37.791716057660935,37.801994861944884,37.78813450138674,37.76418782169413,37.7868105415523,37.73230557005688,37.76924652917891,37.777977131485756,37.77210825726729,37.80518490076636,37.78223057378371,37.79477092856008,37.807163251424285,37.78890961112855,37.80472422408812,37.776550121530626,37.79618607065459,37.797806630391364,37.76924652917891,37.77601659060897,37.79739648082984,37.80347559893369,37.771396030943585,37.78735926098589,37.80748251193778,37.804072249404626,37.79240821940111,37.779090726308574,37.78665887330192,37.78640961281089,37.788499477941336,37.790973190511274,37.78378493292431,37.79848980264107,37.72694991292525,37.769045445034344,37.77781524516056,37.77615876396203,37.73900186873144,37.76929182433688,37.715065227154476,37.72926125620521,37.759784492649885,37.788070187301344,37.78303833763175,37.77594986170828,37.74595385526537,37.783004077643476,37.80675808244208,37.80675808244208,37.77039934904093,37.76924652917891,37.790275352790154,37.765842270193396,37.76924652917891,37.79149585408994,37.78501442255851,37.741903155459454,37.77086854458143,37.708999300789834,37.80549664761133,37.73678418944183,37.73431133027179,37.78313648723007,37.75835219956658,37.80549664761133,37.75584069959303,37.801787342426636,37.7969685884324,37.77580068534641,37.78883777870189,37.78817788964108,37.801787342426636,37.77989010577922,37.78313648723007,37.720175220095285,37.78515093922473,37.77970508482509,37.7301646131596,37.786924665750064,37.746044070290935,37.77821277086995,37.761643045720184,37.75204680877511,37.78313648723007,37.78883777870189,37.73405049602901,37.78709954244846,37.71498278041112,37.73162035562657,37.780576217006235,37.79247163604224,37.80727586975037,37.78992622888631,37.796346859010335,37.77829955272183,37.780630787073484,37.80504328668041,37.75706973806818,37.727456926929214,37.773466920607476,37.78556384617361,37.76924652917891,37.774459872976,37.7271123032615,37.741394583434705,37.76924652917891,37.75114378882435,37.80549664761133,37.800933742286496,37.76036964531928,37.786593795109404,37.78735926098589,37.80549664761133,37.80549664761133,37.7932091009356,37.77034734336754,37.80549664761133,37.779257970112454,37.78823029552724,37.77955058110485,37.72117506928244,37.784006612420036,37.787324903292856,37.806780111468534,37.76560583760297,37.743565341494985,37.77034734336754,37.80748251193778,37.76924652917891,37.77408497416307,37.76421447740901,37.783609175905454,37.792436047188296,37.734276936387595,37.769045445034344,37.76924652917891,37.78378493292431,37.70899533715967,37.75996737508222,37.75235171503818,37.80748251193778,37.829616620601534,37.7602353540718,37.80549664761133,37.79942531094891,37.74312266332609,37.74239176061754,37.80063802006374,37.78404443715923,37.743482449554975,37.74335279302921,37.792436047188296,37.76304254118407,37.76211267084488,37.772222179073,37.80549664761133,37.76402657822045,37.78899469838761,37.76924652917891,37.777490366353746,37.77578657487239,37.78883777870189,37.772812159128556,37.77956414797087,37.806657732348235,37.77802075980921,37.78872115135928,37.78982993383692,37.77502069532915,37.77373276789896,37.80518490076636,37.78640961281089,37.776707686920346,37.80005154768055,37.76491737717617,37.780699048573226,37.78872115135928,37.78656598262375,37.76924652917891,37.77543698128962,37.78537264618818,37.80516964874004,37.7814979983372,37.79646144154291,37.78378493292431,37.74615712680034,37.806657732348235,37.80528698382421,37.75235171503818,37.805494467998535,37.805618478961165,37.746098766999,37.78537264618818,37.77973890462704,37.758088755711356,37.791206308013436,37.796346859010335,37.79963392902011,37.78982993383692,37.74974559899618,37.762087690546814,37.79803346093516,37.80569594262971,37.79771621229674,37.712179048973425,37.76924652917891,37.79447971730341,37.7301646131596,37.79655456585492,37.784560141211806,37.734507815109254,37.79771621229674,37.799419240998844,37.78515093922473,37.75312141134241,37.782477050575544,37.78202549388128,37.75529478092247,37.80707251301197,37.79803346093516,37.78709723841606,37.807163251424285,37.78829319282882,37.780193029586776,37.80060874463821,37.78962043718497,37.7932578668955,37.788968773950536,37.788699045143865,37.746844836054386,37.80528698382421,37.78832799779113,37.785582473554015,37.79414397920346,37.76924652917891,37.78537264618818,37.776368868699294,37.797298027642356,37.76924652917891,37.807163251424285,37.796346859010335,37.78466862758497,37.80727586975037,37.797806630391364,37.777722750028566,37.788986292481376,37.80675808244208,37.80821405292514,37.794859532228344,37.74237539724614,37.80748251193778,37.75550249751555,37.782488031626265,37.78515093922473,37.77347316490331,37.78640961281089,37.79888096617859,37.7839325760642,37.76102130996882,37.78693970570657,37.76924652917891,37.79888096617859,37.7541927113405,37.71524434385366,37.73405049602901,37.78537264618818,37.75690200843489,37.78303833763175,37.77569523157464,37.786246576578144,37.7447754681982,37.744885840667685,37.76924652917891,37.73832136115452,37.76255082381586,37.78167665394315,37.796346859010335,37.769526043647296,37.796346859010335,37.80675808244208,37.76924652917891,37.78515093922473,37.79963392902011,37.805618478961165,37.80727586975037,37.75902814529158,37.806780111468534,37.71379842575037,37.71116977074043,37.71485596483829,37.71905903668968,37.806780111468534,37.78259591133464,37.773474419099585,37.807163251424285,37.80675808244208,37.78495687872265,37.73913579714253,37.77751171020645,37.75320105940191,37.75103389375139,37.80748251193778,37.787966284910645,37.78152035193505,37.77347316490331,37.78629591566277,37.80175841597838,37.7853882479001,37.80569594262971,37.75698797807413,37.77475982065911,37.797250202574986,37.792450751407294,37.77928262880662,37.77615876396203,37.774534487673236,37.75706836664919,37.80727586975037,37.80707251301197,37.74181318858444,37.778956863808695,37.780475849410344,37.77666098665174,37.759829612490556,37.76924652917891,37.77548653205515,37.72954271057539,37.8063434285485,37.77463771345949,37.76924652917891,37.74312266332609,37.77989010577922,37.78131005606111,37.732140822530745,37.722034716260424,37.75521390152421,37.76900080136138,37.76924652917891,37.76422483691618,37.72762661997884,37.77659524307914,37.74312266332609,37.71876049748721,37.746044070290935,37.7181267149201,37.79057825823802,37.78221337826227,37.78466658503881,37.76112596431838,37.76924652917891,37.78709723841606,37.78404443715923,37.728253105935444,37.78853592966637,37.79006979947905,37.760433260443826,37.78922561367261,37.78997050390725,37.796346859010335,37.770646047967126,37.75942328940761,37.75785545712486,37.80675808244208,37.798021121524975,37.80068373185481,37.765720754921674,37.80811075299725,37.78107016365421,37.80821405292514,37.80624124805435,37.77671770313698,37.74876203436116,37.76924652917891,37.777553408928654,37.7816542606277,37.80060874463821,37.72551990673493,37.784560141211806,37.78504768682166,37.73678418944183,37.77408497416307,37.792005700560594,37.78378493292431,37.77193422222442,37.74312266332609,37.782024266168385,37.7783268304671,37.770629853050906,37.784944005025956,37.74559509558596,37.76924652917891,37.80549664761133,37.77594986170828,37.78701078672742,37.759217524685155,37.801125698714145,37.7814979983372,37.717995409872366,37.71111645109777,37.7816542606277,37.76924652917891,37.786246576578144,37.76924652917891,37.77193422222442,37.77688352592902,37.72987387412528,37.76187878353843,37.742078028383624,37.784944005025956,37.7149083447112,37.76924652917891,37.7917040142914,37.7917040142914,37.79888096617859,37.76924652917891,37.80549664761133,37.80220130787601,37.763429272147256,37.78359535656704,37.78556384617361,37.806657732348235,37.78298920316836,37.79323049132005,37.75902814529158,37.7796596291066,37.753365106010165,37.779296389723044,37.782169269140326,37.7880272139735,37.782024266168385,37.78556384617361,37.79739358570342,37.80727586975037,37.79057825823802,37.77875220708208,37.75955745953906,37.76499626872751,37.74400034992925,37.80696290988273,37.79888096617859,37.80549664761133,37.80549664761133,37.7829399329451,37.796346859010335,37.76924652917891,37.806780111468534,37.8061318333843,37.738191827906576,37.766805241337174,37.73405049602901,37.800607119774014,37.806780111468534,37.77177909734827,37.736390193758744,37.79667132211876,37.78339985751909,37.7549319706097,37.80549664761133,37.80005154768055,37.77086854458143,37.80067840662268,37.78693970570657,37.750705182588156,37.73766842169778,37.72964683680824,37.76267070626061,37.77000760474354,37.77532094545078,37.80549664761133,37.72694991292525,37.776415816714724,37.76924652917891,37.775925404688664,37.78329259065825,37.78378493292431,37.71425565226467,37.78016202513452,37.72922784499455,37.78962043718497,37.80696290988273,37.749253679782775,37.794666280424096,37.7814283707046,37.76924652917891,37.80707251301197,37.80549664761133,37.776550121530626,37.796417485008384,37.755398478346756,37.72905824308789,37.80707251301197,37.76499626872751,37.77000760474354,37.7603010605011,37.796094568589005,37.7602353540718,37.78123323937391,37.80549664761133,37.78392473449428,37.75235171503818,37.80696290988273,37.78504768682166,37.78435505539235,37.77477823559553,37.79948981870344,37.786246576578144,37.76560583760297,37.806780111468534,37.7796596291066,37.71930935913096,37.784083675367185,37.76017012800954,37.75703540085026,37.76088893209152,37.783609175905454,37.79006979947905,37.786303961936724,37.75928916994242,37.76513049475049,37.782802248999005,37.730936070218895,37.76014229534401,37.76171064829068,37.7830830171894,37.70970883751673,37.786246576578144,37.75235171503818,37.78556384617361,37.78503028396464,37.794643190046045,37.75235171503818,37.780699048573226,37.75235171503818,37.75235171503818,37.77475982065911,37.780699048573226,37.78350775337797,37.72694991292525,37.76924652917891,37.76924652917891,37.80549664761133,37.76924652917891,37.77802075980921,37.78745049797145,37.76652789107997,37.75109168744617,37.714286975792135,37.76924652917891,37.77484408415591,37.7814979983372,37.75928916994242,37.76927768510462,37.73548525853004,37.76860219420493,37.76513049475049,37.76924652917891,37.76924652917891,37.801994861944884,37.76419571221531,37.80549664761133,37.76924652917891,37.79540852575531,37.78587620820193,37.773455461431,37.773466920607476,37.773466920607476,37.7930136072549,37.773474419099585,37.780576217006235,37.76118137710887,37.788942623294176,37.76118137710887,37.78671265454312,37.78973990611221,37.716787778245425,37.76924652917891,37.7422957922393,37.74621232560119,37.79184294688731,37.80748251193778,37.76924652917891,37.75235171503818,37.77709097125577,37.78350919823345,37.79426362569207,37.76198699136254,37.78640961281089,37.78537264618818,37.7870493820726,37.72364231203344,37.78651981906591,37.76924652917891,37.796417485008384,37.78701078672742,37.79762756115917,37.77024306471976,37.78270190421642,37.78270190421642,37.78556384617361,37.78748416076945,37.76924652917891,37.76924652917891,37.78303833763175,37.77532360067261,37.778956863808695,37.79501602066096,37.78082203134836,37.74936982198442,37.75928916994242,37.76924652917891,37.794859532228344,37.79207995579044,37.796346859010335,37.797806630391364,37.80044505976436,37.77749384266056,37.79092508134558,37.78303833763175,37.796210953409165,37.776687555001864,37.796346859010335,37.77872410696556,37.767142180962104,37.75312141134241,37.78829319282882,37.77532094545078,37.78976259679856,37.79036965855657,37.76924652917891,37.79036965855657],\"legendgroup\":\"Larceny Theft\",\"lon\":[-122.43119112088166,-122.39833314914345,-122.42998927774914,-122.43650723358049,-122.38515706314976,-122.3906937736637,-122.41756763989245,-122.41214750780264,-122.39833314914345,-122.43102547213662,-122.42288271370651,-122.44496661579105,-122.46656265346968,-122.38942894299095,-122.50630201037715,-122.42397496619338,-122.46133639624621,-122.37317787318324,-122.40958833798562,-122.40270815508224,-122.45904455449617,-122.4197527208369,-122.47166779600576,-122.41796623042116,-122.46656265346968,-122.43103778043064,-122.41261666820427,-122.42397157963755,-122.41992794913615,-122.44691011930168,-122.42025546027398,-122.410497554147,-122.47603947349434,-122.39312262975965,-122.42824149689217,-122.42777887211062,-122.39437053746825,-122.43355535030396,-122.41049519984615,-122.40695698813221,-122.41024243940024,-122.41904878031124,-122.42200682265661,-122.40343080114775,-122.39869570327996,-122.42397157963755,-122.47438270575199,-122.41998151324081,-122.42365507596732,-122.4131576926893,-122.41421351063231,-122.38604554170622,-122.39097101886335,-122.47603947349434,-122.43684894391845,-122.4361348451631,-122.41006277137103,-122.40025046404315,-122.42978259351794,-122.46494209192046,-122.41006277137103,-122.41073071858334,-122.46708629614174,-122.47855602878344,-122.42978259351794,-122.42001957474174,-122.42114842518583,-122.42978259351794,-122.43359593942569,-122.42777887211062,-122.43073682415647,-122.42510952213698,-122.42152069939276,-122.42085915076044,-122.47423317526119,-122.42947088544138,-122.39849106691177,-122.40564527005608,-122.38924822480189,-122.42397157963755,-122.42429481397211,-122.41726063240938,-122.41561643757444,-122.41241642692775,-122.42365507596732,-122.4998705718611,-122.398264449392,-122.43079788213421,-122.41984131774169,-122.42850875070255,-122.46227876714518,-122.43308339913544,-122.46120747577554,-122.43801967361604,-122.44534499148274,-122.42866697146904,-122.39031948501302,-122.41863361890303,-122.39109612051386,-122.48528346280344,-122.44598442613956,-122.48580757712764,-122.43308339913544,-122.42335402580974,-122.51129492624534,-122.41874757531652,-122.43548556515391,-122.42049344331697,-122.42777887211062,-122.42777887211062,-122.4983570184546,-122.48366195097974,-122.41878185632008,-122.40733704162238,-122.42397157963755,-122.4169898328862,-122.42542298086832,-122.4124133449216,-122.42397157963755,-122.42135541826262,-122.41561643757444,-122.43497335435859,-122.4005030970072,-122.43950417286405,-122.39261308350959,-122.42133043276547,-122.42397157963755,-122.43079788213421,-122.39052723477022,-122.41865587356023,-122.43518408029904,-122.41722619458592,-122.41969356688878,-122.43638103580633,-122.40297367760449,-122.48826408161331,-122.42542298086832,-122.43308339913544,-122.42133043276547,-122.41878185632008,-122.48932371166421,-122.42397157963755,-122.39869570327996,-122.43079788213421,-122.4121414255319,-122.41454007204756,-122.43079788213421,-122.43079788213421,-122.42978259351794,-122.43042441598713,-122.41878185632008,-122.40535724201465,-122.43079788213421,-122.41060980245896,-122.42147652251305,-122.4237810816376,-122.44642170965479,-122.42250219093546,-122.45113130757095,-122.41157984208412,-122.42330825256187,-122.43136639807875,-122.41740904569694,-122.41483406554946,-122.42397157963755,-122.42397157963755,-122.43079788213421,-122.40730484858473,-122.38719454914899,-122.42200682265661,-122.39261308350959,-122.42978259351794,-122.43251538466859,-122.50827666944072,-122.43723493300963,-122.42978259351794,-122.42978259351794,-122.42316555401516,-122.42744775609354,-122.42397157963755,-122.43079788213421,-122.42397157963755,-122.42397157963755,-122.44575803786103,-122.41955736678388,-122.42036904750553,-122.42105326145904,-122.45820513325104,-122.47701088805827,-122.42397157963755,-122.4481795088561,-122.42484502575905,-122.4261459859188,-122.40361460561846,-122.42397157963755,-122.41454007204756,-122.45986037452863,-122.42942785436504,-122.42397157963755,-122.42735463858338,-122.37619127986623,-122.41005693097291,-122.40806412454907,-122.41966897380142,-122.41580242607432,-122.4121414255319,-122.42397157963755,-122.42397157963755,-122.4095146867909,-122.4095146867909,-122.48088961082267,-122.39097101886335,-122.44270261954131,-122.40725467595034,-122.3953038732683,-122.44941575890914,-122.46213927941308,-122.47332491765209,-122.39348838873727,-122.41988576485541,-122.4411962312475,-122.39834110837147,-122.39252462341119,-122.42397157963755,-122.40968304216152,-122.41331182373415,-122.43742294103188,-122.42978259351794,-122.47332491765209,-122.44780219566894,-122.41561643757444,-122.42397157963755,-122.39453212224596,-122.4159081801724,-122.42397157963755,-122.40561526782413,-122.42397157963755,-122.42397157963755,-122.4632259489009,-122.42397157963755,-122.41878185632008,-122.42397157963755,-122.42397157963755,-122.39437053746825,-122.40041559127415,-122.40195658117408,-122.4149559525335,-122.4121414255319,-122.43359593942569,-122.42909226976653,-122.41920604493745,-122.4195772441978,-122.46656265346968,-122.42200682265661,-122.42397157963755,-122.40695663340361,-122.3941071115673,-122.42148545138262,-122.40840155198468,-122.42093864733586,-122.3896366412841,-122.41048669029503,-122.45372622844519,-122.4332554737022,-122.42397157963755,-122.42397157963755,-122.41752877437465,-122.45428511766733,-122.39021008691539,-122.48151572367084,-122.42978259351794,-122.41752877437465,-122.43742294103188,-122.43539572749359,-122.44222931324944,-122.42397157963755,-122.3931813328012,-122.43163386550978,-122.42968688476122,-122.40493727626676,-122.42397157963755,-122.44318255363099,-122.41796623042116,-122.42397157963755,-122.40682767877995,-122.3931813328012,-122.42397157963755,-122.3955613099636,-122.42978259351794,-122.38942894299095,-122.40866708530758,-122.41752877437465,-122.4067711451779,-122.41151576847024,-122.4129854934649,-122.42978259351794,-122.44299139621741,-122.47861569667056,-122.39372979676084,-122.42978259351794,-122.40564673809936,-122.42397157963755,-122.40349671104279,-122.41878185632008,-122.42200682265661,-122.44201969900837,-122.42397157963755,-122.43136639807875,-122.42200682265661,-122.4019734281221,-122.43813539667984,-122.42978259351794,-122.4418656420479,-122.45115344514305,-122.41574387355833,-122.40270815508224,-122.47284399538195,-122.42397157963755,-122.42397157963755,-122.38984639339479,-122.41561643757444,-122.39794294011354,-122.39997496307357,-122.42805018675219,-122.40486479517743,-122.39653063923612,-122.44598442613956,-122.41739133606869,-122.41561643757444,-122.42302846551907,-122.40528580238285,-122.47404531960231,-122.4149097453127,-122.41580242607432,-122.44598442613956,-122.41967183064224,-122.38942894299095,-122.42866697146904,-122.4998705718611,-122.42397157963755,-122.42607650292528,-122.40486479517743,-122.41720480101911,-122.39294450404223,-122.44364908724367,-122.40441842894154,-122.42170930842168,-122.51003695716592,-122.46120747577554,-122.42341305643612,-122.42397157963755,-122.46213927941308,-122.39472956276296,-122.47391309532786,-122.47218449184723,-122.4189932746152,-122.39695784020824,-122.42341305643612,-122.42085915076044,-122.42114842518583,-122.4155544035822,-122.40371175457705,-122.42579431477414,-122.43136639807875,-122.43079788213421,-122.42397157963755,-122.42166247826907,-122.43282972923807,-122.40343572658638,-122.42025546027398,-122.41701687926658,-122.48559732196733,-122.43079788213421,-122.38756878451498,-122.42397157963755,-122.42924943984079,-122.44577864950429,-122.47010494054278,-122.40806043475537,-122.4067111664031,-122.40849315881205,-122.42397157963755,-122.41964545936246,-122.44558863751625,-122.43012931619916,-122.43308339913544,-122.38717421937969,-122.43214039079034,-122.43704556734586,-122.39052723477022,-122.4393366547218,-122.44247642226374,-122.42911624290741,-122.42232895626927,-122.43327158077216,-122.41803023409047,-122.41137627177315,-122.42125755912416,-122.41878185632008,-122.3900250407223,-122.42397157963755,-122.43769470653812,-122.42105326145904,-122.43769470653812,-122.42397157963755,-122.42820232430206,-122.42083185184009,-122.41015039389215,-122.42353498869593,-122.42397157963755,-122.45513565981764,-122.4005030970072,-122.47603947349434,-122.41397500878728,-122.41048669029503,-122.48165989477727,-122.46880691698532,-122.40557374633903,-122.40633623830558,-122.46335052668974,-122.47592653370485,-122.40365010867637,-122.48608870736115,-122.41905260777229,-122.43119861059851,-122.44114884546975,-122.39318768414466,-122.42927002845536,-122.44508196479572,-122.4628881982926,-122.43379794514195,-122.46965385001671,-122.47776694801784,-122.43769470653812,-122.40733704162238,-122.4147412230519,-122.44730151526936,-122.4403967564802,-122.42978259351794,-122.40695663340361,-122.47603947349434,-122.46506846180141,-122.42950008687838,-122.47603947349434,-122.43406238857597,-122.43604617512675,-122.38986446334408,-122.45513565981764,-122.40487561154785,-122.46762910232071,-122.46121054867618,-122.50940219269224,-122.42397157963755,-122.40334871137732,-122.47780711664264,-122.44691011930168,-122.42278763487914,-122.43345991736983,-122.43079788213421,-122.42607650292528,-122.42510952213698,-122.40758444446489,-122.49553217235606,-122.40371175457705,-122.4393366547218,-122.4028493598664,-122.43402709034117,-122.41870890513495,-122.42978259351794,-122.42824149689217,-122.42397157963755,-122.42316555401516,-122.42316555401516,-122.42397157963755,-122.43575149990461,-122.41029202788059,-122.42397157963755,-122.41580242607432,-122.46227901811808,-122.42978259351794,-122.42259804363691,-122.40148983641853,-122.42105326145904,-122.44598442613956,-122.50843239782851,-122.42025546027398,-122.44247641173526,-122.38984639339479,-122.42397157963755,-122.40334871137732,-122.40514297852731,-122.42333060702009,-122.3968458230064,-122.4393366547218,-122.42588849947774,-122.41987524340524,-122.4409775621388,-122.42397157963755,-122.41561643757444,-122.40889733794425,-122.48446065276802,-122.42775734905896,-122.43383965518827,-122.40950657228392,-122.41096197259283,-122.42397157963755,-122.48705239858987,-122.43055100037523,-122.43055100037523,-122.40535724201465,-122.41796623042116,-122.46281547511876,-122.40695663340361,-122.47167358749228,-122.43450798934103,-122.5062187339932,-122.41580242607432,-122.42397157963755,-122.41048669029503,-122.40695663340361,-122.39869570327996,-122.43379794514195,-122.47593733565002,-122.40371175457705,-122.42397157963755,-122.42200682265661,-122.41961397441787,-122.41726063240938,-122.40905049651286,-122.4195772441978,-122.4147412230519,-122.42397157963755,-122.42397157963755,-122.4195772441978,-122.41031084283831,-122.39695784020824,-122.41878185632008,-122.47793668156966,-122.42397157963755,-122.41222073683006,-122.42017812719197,-122.41561643757444,-122.39430003844754,-122.4147412230519,-122.42189157233493,-122.44346144210765,-122.424687041478,-122.40895216005933,-122.3712458991155,-122.40987875494628,-122.4169898328862,-122.39893033231291,-122.48945874236242,-122.43689161241157,-122.3931813328012,-122.44364908724367,-122.40905049651286,-122.39773738320481,-122.48687804834698,-122.41446025314589,-122.43602866553202,-122.47299095912123,-122.47593733565002,-122.40343572658638,-122.40493727626676,-122.39695784020824,-122.39858783520201,-122.4121414255319,-122.42397157963755,-122.40866318602454,-122.4458205129012,-122.45999965931139,-122.42618004477822,-122.42891397690136,-122.45999965931139,-122.50827666944072,-122.42101751556473,-122.42189157233493,-122.40889733794425,-122.41543157088526,-122.47593733565002,-122.42397157963755,-122.42397157963755,-122.42397157963755,-122.43950417286405,-122.4156137824238,-122.41217329153451,-122.42058060938771,-122.41160611386445,-122.43653487749596,-122.43155665172966,-122.41561643757444,-122.41561643757444,-122.42397157963755,-122.42904060264011,-122.41569387441227,-122.40343572658638,-122.43397315831692,-122.41372838950014,-122.4215701166973,-122.43136639807875,-122.48731586810442,-122.46819078800767,-122.42055996630992,-122.42278763487914,-122.39031948501302,-122.3953038732683,-122.398264449392,-122.41961397441787,-122.39031948501302,-122.44607364963917,-122.43510576955943,-122.4534190535757,-122.42397157963755,-122.39385728756909,-122.43043391908799,-122.40343572658638,-122.41029202788059,-122.4023743514885,-122.40889733794425,-122.41865587356023,-122.44827914652447,-122.43302850011361,-122.39815206842287,-122.399685665145,-122.42397157963755,-122.44477989251513,-122.40288650206678,-122.40780860696125,-122.50989475109745,-122.40822672700406,-122.41397500878728,-122.4019734281221,-122.39858783520201,-122.46414497098554,-122.40977511008917,-122.40803623744476,-122.4067711451779,-122.41739133606869,-122.39893033231291,-122.40714883800165,-122.47603947349434,-122.42003209203392,-122.42316555401516,-122.42114842518583,-122.41589948086357,-122.49616067593702,-122.4344917294424,-122.40756041806301,-122.47793668156966,-122.42523650200324,-122.46227876714518,-122.42278763487914,-122.40202670344281,-122.4124117474483,-122.4121414255319,-122.4121414255319,-122.46010759360802,-122.42397157963755,-122.40786893905023,-122.40655282563031,-122.42397157963755,-122.42087318515297,-122.42293382075994,-122.43325866115613,-122.42513550957302,-122.45824119611855,-122.42200682265661,-122.38011105053184,-122.39834226050647,-122.46013720023512,-122.39515115482789,-122.42200682265661,-122.39879980631304,-122.44660957715965,-122.44394995564436,-122.4141732061619,-122.38942894299095,-122.41682715547994,-122.44660957715965,-122.42189157233493,-122.46013720023512,-122.39485205000103,-122.43308339913544,-122.50405682725662,-122.39897045921349,-122.42666680815432,-122.41501656648384,-122.43505239147956,-122.41205031008325,-122.42159515271041,-122.46013720023512,-122.38942894299095,-122.49044354601376,-122.39579264200438,-122.45247422582248,-122.49624477431891,-122.42025546027398,-122.43455772227033,-122.41561643757444,-122.39427622920932,-122.39695784020824,-122.4418656420479,-122.47284399538195,-122.43379794514195,-122.49709088616231,-122.41446025314589,-122.39143433652146,-122.42978259351794,-122.42397157963755,-122.44951735667472,-122.42086738004042,-122.41119493293455,-122.42397157963755,-122.5042033141299,-122.42200682265661,-122.40524004740986,-122.41192658753008,-122.39738048935916,-122.40822672700406,-122.42200682265661,-122.42200682265661,-122.39995873701295,-122.41374961166352,-122.42200682265661,-122.4268285575053,-122.40513139342886,-122.49652387031851,-122.38833333269504,-122.40486479517743,-122.4385815717202,-122.4195772441978,-122.41048669029503,-122.42888268662789,-122.41374961166352,-122.41397500878728,-122.42397157963755,-122.42240711807445,-122.50512012291989,-122.38984639339479,-122.39109612051386,-122.44889315551856,-122.42003209203392,-122.42397157963755,-122.39893033231291,-122.41596400031476,-122.42364130874256,-122.44598442613956,-122.41397500878728,-122.37317787318324,-122.41920604493745,-122.42200682265661,-122.4393366547218,-122.42148545138262,-122.40583815976386,-122.40758444446489,-122.40371175457705,-122.4559051535707,-122.40859103923555,-122.39109612051386,-122.4889097354019,-122.40425877441254,-122.4183520340224,-122.42200682265661,-122.44960021149197,-122.42542298086832,-122.42397157963755,-122.43321873935555,-122.42781910073226,-122.38942894299095,-122.41282422762143,-122.43195180329982,-122.42055996630992,-122.42152069939276,-122.4020657306611,-122.4188426535863,-122.42259804363691,-122.44768795988854,-122.40343572658638,-122.40803623744476,-122.41410689674207,-122.43440469982856,-122.42188644715362,-122.40392088280285,-122.4020657306611,-122.41817885492549,-122.42397157963755,-122.4137181543595,-122.43136639807875,-122.41722619458592,-122.39980220366621,-122.44042174577214,-122.39893033231291,-122.38717421937969,-122.42055996630992,-122.42365507596732,-122.44598442613956,-122.40695663340361,-122.41360416993442,-122.42689119010541,-122.43136639807875,-122.40715948914875,-122.42805018675219,-122.41575019861662,-122.39695784020824,-122.43769470653812,-122.4188426535863,-122.39627354527164,-122.42843121132712,-122.42050128453936,-122.40535724201465,-122.43055896140594,-122.47043908800363,-122.42397157963755,-122.39474758031697,-122.39897045921349,-122.40240244493764,-122.40733704162238,-122.43387909431853,-122.43055896140594,-122.43596078617807,-122.43308339913544,-122.40436317793704,-122.42410820197163,-122.4848742588828,-122.42096409369465,-122.41726063240938,-122.42050128453936,-122.38779489071396,-122.40889733794425,-122.40840155198468,-122.42701675772301,-122.43788945697766,-122.42049344331697,-122.42122998219767,-122.42194037566323,-122.42030688368688,-122.44982942210157,-122.42365507596732,-122.42696286071894,-122.4146172088293,-122.42140435740022,-122.42397157963755,-122.43136639807875,-122.41950629492429,-122.43384673355347,-122.42397157963755,-122.40889733794425,-122.39695784020824,-122.46776426570214,-122.41561643757444,-122.399685665145,-122.41640107183976,-122.40686503276359,-122.4121414255319,-122.41580242607432,-122.40487561154785,-122.42196876280964,-122.41397500878728,-122.417658993747,-122.4458205129012,-122.43308339913544,-122.40267117226186,-122.40803623744476,-122.39869570327996,-122.41259527758581,-122.43279350716129,-122.41151576847024,-122.42397157963755,-122.39869570327996,-122.47754850449316,-122.40618936856656,-122.49044354601376,-122.43136639807875,-122.42111754155341,-122.46227876714518,-122.42105326145904,-122.42824149689217,-122.47903530062126,-122.40760144415937,-122.42397157963755,-122.40564673809936,-122.43406238857597,-122.49237515789692,-122.39695784020824,-122.45071018189665,-122.39695784020824,-122.4121414255319,-122.42397157963755,-122.43308339913544,-122.43769470653812,-122.41360416993442,-122.41561643757444,-122.4125009314788,-122.4195772441978,-122.40919390450411,-122.39083588151917,-122.40159547590288,-122.38457148087929,-122.4195772441978,-122.39934928749489,-122.41803023409047,-122.40889733794425,-122.4121414255319,-122.46133639624621,-122.47971831603108,-122.41804316781624,-122.50004486668902,-122.41174622597137,-122.41397500878728,-122.41846502787442,-122.43911393704632,-122.40267117226186,-122.40894102911493,-122.42125755912416,-122.40866708530758,-122.40535724201465,-122.41968911539237,-122.42085915076044,-122.40405839574345,-122.40593812008852,-122.45986037452863,-122.42114842518583,-122.48218377283148,-122.40280294494583,-122.41561643757444,-122.41726063240938,-122.50354896517437,-122.42170930842168,-122.47616919036905,-122.41215795469684,-122.42592030312977,-122.42397157963755,-122.42269309431569,-122.38641847685011,-122.41543157088526,-122.40740517273665,-122.42397157963755,-122.42148545138262,-122.42189157233493,-122.44078384398809,-122.40657484868436,-122.3931719589466,-122.3909219438038,-122.43658826795966,-122.42397157963755,-122.46203054225813,-122.41890005276089,-122.47803327896139,-122.42148545138262,-122.38766133455968,-122.41501656648384,-122.4141763243238,-122.42068738428432,-122.39983345203913,-122.39781161390373,-122.39930306567692,-122.42397157963755,-122.38779489071396,-122.40371175457705,-122.46407042929552,-122.39603476680188,-122.39097101886335,-122.41592874676807,-122.40859504581255,-122.39935005617065,-122.39695784020824,-122.43440451408435,-122.43263777035173,-122.43907398670223,-122.4121414255319,-122.43567821318092,-122.43729967065362,-122.42196431314674,-122.40905049651286,-122.46321068115432,-122.41580242607432,-122.41878185632008,-122.41532057072628,-122.43606717415594,-122.42397157963755,-122.40992265087567,-122.41550518013352,-122.43788945697766,-122.4276843764496,-122.40733704162238,-122.43390501603517,-122.38011105053184,-122.42240711807445,-122.39164579873243,-122.39893033231291,-122.49811385769256,-122.42148545138262,-122.40115971954746,-122.39653063923612,-122.41247993630192,-122.4347299934904,-122.41988576485541,-122.42397157963755,-122.42200682265661,-122.42278763487914,-122.39997496307357,-122.4907944100113,-122.44136827489761,-122.39980220366621,-122.44470621149956,-122.44812971990292,-122.41550518013352,-122.42397157963755,-122.42824149689217,-122.42397157963755,-122.49811385769256,-122.42297815011955,-122.37200569864783,-122.45374467454103,-122.42684637612442,-122.4347299934904,-122.45904613608676,-122.42397157963755,-122.41922173749678,-122.41922173749678,-122.39869570327996,-122.42397157963755,-122.42200682265661,-122.41796623042116,-122.41951273794947,-122.43023750181503,-122.42978259351794,-122.42055996630992,-122.46335052668974,-122.3931813328012,-122.4125009314788,-122.43874018458145,-122.44188639971534,-122.3953038732683,-122.4189932746152,-122.4217498823547,-122.40115971954746,-122.42978259351794,-122.44061007843756,-122.41561643757444,-122.42068738428432,-122.47163856678546,-122.43042034086498,-122.42058060938771,-122.43560321265068,-122.410497554147,-122.39869570327996,-122.42200682265661,-122.42200682265661,-122.46442502609422,-122.39695784020824,-122.42397157963755,-122.4195772441978,-122.4094874006592,-122.50114162839529,-122.41764545364202,-122.49044354601376,-122.40025046404315,-122.4195772441978,-122.44054621111066,-122.39014505197724,-122.40354916842705,-122.42429481397211,-122.39594290157365,-122.42200682265661,-122.43440469982856,-122.42513550957302,-122.42947088544138,-122.41151576847024,-122.41720090680076,-122.41657495302398,-122.41392304981632,-122.4351879633321,-122.44693382058489,-122.46494209192046,-122.42200682265661,-122.47603947349434,-122.42288271370651,-122.42397157963755,-122.4379898491121,-122.43270618085734,-122.39893033231291,-122.44677907017545,-122.40769141596378,-122.43080925747614,-122.42049344331697,-122.410497554147,-122.44480802671805,-122.40313929638648,-122.43232898312252,-122.42397157963755,-122.41726063240938,-122.42200682265661,-122.43302850011361,-122.40349671104279,-122.49267538627996,-122.45244001198802,-122.41726063240938,-122.42058060938771,-122.44693382058489,-122.41811812009416,-122.42010952520249,-122.41920604493745,-122.39351896450029,-122.42200682265661,-122.42777887211062,-122.44598442613956,-122.410497554147,-122.43390501603517,-122.4329142491479,-122.43946621878345,-122.40901437837884,-122.42824149689217,-122.41048669029503,-122.4195772441978,-122.43874018458145,-122.43886348695386,-122.42274548079064,-122.44695281831662,-122.41890102956305,-122.4350007026991,-122.38984639339479,-122.39097101886335,-122.43155202553075,-122.43485368203896,-122.39677089165308,-122.46762910232071,-122.37389036627054,-122.39435242981627,-122.38960773242441,-122.43435039627953,-122.4185011923775,-122.42824149689217,-122.44598442613956,-122.42978259351794,-122.4004684855585,-122.41752007397096,-122.44598442613956,-122.40392088280285,-122.44598442613956,-122.44598442613956,-122.42085915076044,-122.40392088280285,-122.43098925484851,-122.47603947349434,-122.42397157963755,-122.42397157963755,-122.42200682265661,-122.42397157963755,-122.42152069939276,-122.4005030970072,-122.43554812414297,-122.41081071349075,-122.46529972235949,-122.42397157963755,-122.41537161014031,-122.39980220366621,-122.43485368203896,-122.42230830373133,-122.42899398949278,-122.41454007204756,-122.39677089165308,-122.42397157963755,-122.42397157963755,-122.41961397441787,-122.43307447227019,-122.42200682265661,-122.42397157963755,-122.41154153326134,-122.4349176645574,-122.42735743676651,-122.39143433652146,-122.39143433652146,-122.41611301730221,-122.41803023409047,-122.42025546027398,-122.48877915855948,-122.42214537963808,-122.48877915855948,-122.42833561454799,-122.41207586899405,-122.47591842963345,-122.42397157963755,-122.49283694334243,-122.4888064522189,-122.4394876446193,-122.41397500878728,-122.42397157963755,-122.44598442613956,-122.42133043276547,-122.44603302766068,-122.40630498702015,-122.47046492379602,-122.40803623744476,-122.43136639807875,-122.44846837692526,-122.46125052774894,-122.41480664938405,-122.42397157963755,-122.40349671104279,-122.39997496307357,-122.4086188468051,-122.43007362095163,-122.46976999223311,-122.46976999223311,-122.42978259351794,-122.4335532578336,-122.42397157963755,-122.42397157963755,-122.46227876714518,-122.50588421001805,-122.42170930842168,-122.43676097584263,-122.46856387370153,-122.41268719509124,-122.43485368203896,-122.42397157963755,-122.40487561154785,-122.40886368034795,-122.39695784020824,-122.399685665145,-122.40918981932037,-122.41629170279316,-122.40272411654489,-122.46227876714518,-122.40514297852731,-122.42451370094967,-122.39695784020824,-122.43855227864373,-122.40667700592424,-122.40436317793704,-122.40840155198468,-122.46494209192046,-122.3975744697393,-122.42232895626927,-122.42397157963755,-122.42232895626927],\"marker\":{\"color\":\"#ab63fa\",\"symbol\":\"circle\"},\"mode\":\"markers\",\"name\":\"Larceny Theft\",\"showlegend\":true,\"type\":\"scattergeo\"},{\"geo\":\"geo\",\"hovertemplate\":\"Incident Category=Drug Offense<br>latitude=%{lat}<br>longitude=%{lon}<extra></extra>\",\"lat\":[37.76924652917891,37.72990988256753,37.72990988256753,37.72990988256753,37.780005867994824,37.76924652917891,37.736893544362694,37.781863337992526,37.78144749392477,37.766739480211164,37.7691985467523,37.76924652917891,37.78331088878137,37.7828956838857,37.77082024098187,37.76924652917891,37.77745741894575,37.77745741894575,37.77745741894575,37.767430775982845,37.780005867994824,37.7880272139735,37.7880272139735,37.804072249404626,37.7751608100771,37.722397870557415,37.79960143952321,37.785334621209216,37.77761914280685,37.78268536745206,37.785334621209216,37.784448840613585,37.784448840613585,37.784448840613585,37.7751608100771,37.77921168445851,37.77999173926721,37.78049625961115,37.77999173926721,37.77878537156561,37.776689832001516,37.77878537156561,37.771863705465925,37.784448840613585,37.76959115943066,37.78610103879033,37.782488031626265,37.74930406746458,37.74930406746458,37.77560725599502,37.77560725599502,37.785491559268934,37.75513651953613,37.76924652917891,37.76924652917891,37.73145972927425,37.76924652917891,37.76924652917891,37.79087442698896,37.79087442698896,37.780005867994824,37.780005867994824,37.780005867994824,37.777977086075,37.77532094545078],\"legendgroup\":\"Drug Offense\",\"lon\":[-122.42397157963755,-122.39717687851248,-122.39717687851248,-122.39717687851248,-122.41193341005338,-122.42397157963755,-122.41037693984421,-122.41386560526722,-122.41714561338313,-122.41873445003144,-122.4177829388001,-122.42397157963755,-122.41752877437465,-122.4107006055215,-122.40913437034878,-122.42397157963755,-122.4131576926893,-122.4131576926893,-122.4131576926893,-122.40184250506094,-122.41193341005338,-122.4217498823547,-122.4217498823547,-122.4019734281221,-122.40363551943442,-122.4300261514751,-122.40816931031678,-122.424687041478,-122.41187022703075,-122.42246374465972,-122.424687041478,-122.41607173623363,-122.41607173623363,-122.41607173623363,-122.40363551943442,-122.41093657493794,-122.41348740024354,-122.43214039079034,-122.41348740024354,-122.41040149389688,-122.41101441929457,-122.41040149389688,-122.41402670798057,-122.41607173623363,-122.41557701614049,-122.41808809883916,-122.4458205129012,-122.413770628689,-122.413770628689,-122.4154847516124,-122.4154847516124,-122.40785252141461,-122.42375718949476,-122.42397157963755,-122.42397157963755,-122.42976635245844,-122.42397157963755,-122.42397157963755,-122.42580214529943,-122.42580214529943,-122.41193341005338,-122.41193341005338,-122.41193341005338,-122.40938700711665,-122.46494209192046],\"marker\":{\"color\":\"#FFA15A\",\"symbol\":\"circle\"},\"mode\":\"markers\",\"name\":\"Drug Offense\",\"showlegend\":true,\"type\":\"scattergeo\"},{\"geo\":\"geo\",\"hovertemplate\":\"Incident Category=Lost Property<br>latitude=%{lat}<br>longitude=%{lon}<extra></extra>\",\"lat\":[37.76924652917891,37.76924652917891,37.78901633734544,37.76924652917891,37.75902814529158,37.76924652917891,37.79970367508504,37.789264321511176,37.76924652917891,37.76924652917891,37.752074434177075,37.73107360106008,37.734706809880564,37.76924652917891,37.76924652917891,37.76924652917891,37.789165093007924,37.78524752584891,37.76924652917891,37.76924652917891,37.783528916178064,37.73269137091828,37.72076874017506,37.77552454478846,37.73269137091828,37.78620949142024,37.782169269140326,37.79544849687888,37.82618185826742,37.78853592966637,37.783004077643476,37.78076873794362,37.76924652917891,37.7604244265039,37.789829338038246,37.76316782362078,37.78310139923345,37.76255082381586,37.78404443715923,37.76924652917891,37.76924652917891,37.752628589044264,37.7632997673923,37.72548241124062,37.78693970570657,37.76203410664791,37.763429272147256,37.7301646131596,37.80089647618971,37.7984422945084,37.72498829635846,37.76924652917891,37.76924652917891,37.76924652917891,37.76257883049033,37.76183585447031,37.775451004519724,37.778851716626704,37.793849882238916,37.76924652917891,37.76924652917891,37.76924652917891,37.784960258586636,37.77021017395845,37.777977131485756,37.766957909504505,37.780381190608736,37.752074434177075,37.79377985665411,37.79377985665411,37.79765522600921,37.76267070626061,37.76924652917891,37.76924652917891],\"legendgroup\":\"Lost Property\",\"lon\":[-122.42397157963755,-122.42397157963755,-122.41024243940024,-122.42397157963755,-122.4125009314788,-122.42397157963755,-122.4073952442741,-122.4013754923669,-122.42397157963755,-122.42397157963755,-122.42114296980318,-122.39519164529331,-122.47156934228438,-122.42397157963755,-122.42397157963755,-122.42397157963755,-122.4204012466872,-122.43987261380985,-122.42397157963755,-122.42397157963755,-122.4074828136046,-122.47603998029336,-122.40950657228392,-122.42607032528431,-122.47603998029336,-122.3989771693379,-122.4189932746152,-122.40041268582165,-122.37448009319193,-122.39603476680188,-122.4124117474483,-122.46962703232886,-122.42397157963755,-122.50592811171158,-122.4038415643651,-122.42395924405315,-122.41918170505187,-122.43406238857597,-122.40371175457705,-122.42397157963755,-122.42397157963755,-122.41189982277923,-122.42173152253879,-122.46281547511876,-122.41151576847024,-122.46939182734947,-122.41951273794947,-122.39897045921349,-122.39913024364351,-122.40987875494628,-122.44306587712263,-122.42397157963755,-122.42397157963755,-122.42397157963755,-122.42166247826907,-122.41935926843617,-122.40948148898309,-122.39274978789828,-122.43820890622533,-122.42397157963755,-122.42397157963755,-122.42397157963755,-122.41954785498713,-122.44534499148274,-122.39385728756909,-122.38816413828668,-122.47830488064369,-122.42114296980318,-122.40295736135474,-122.40295736135474,-122.41368277449389,-122.4351879633321,-122.42397157963755,-122.42397157963755],\"marker\":{\"color\":\"#19d3f3\",\"symbol\":\"circle\"},\"mode\":\"markers\",\"name\":\"Lost Property\",\"showlegend\":true,\"type\":\"scattergeo\"},{\"geo\":\"geo\",\"hovertemplate\":\"Incident Category=Non-Criminal<br>latitude=%{lat}<br>longitude=%{lon}<extra></extra>\",\"lat\":[37.73885401705596,37.80313539815936,37.765867985549704,37.780005867994824,37.7868345113598,37.76257883049033,37.780993781477434,37.79389208326008,37.778849093044656,37.76403698852451,37.78775665157557,37.7868683661603,37.75683373380551,37.79690905664644,37.76924652917891,37.7985887169347,37.825055273046026,37.7839325760642,37.77283099431839,37.778851716626704,37.73339282254485,37.733928362276274,37.740287023385456,37.7875680237141,37.7099462024738,37.798571322794096,37.787966284910645,37.770629853050906,37.77761914280685,37.781863337992526,37.77708933199535,37.780286693819114,37.78351564008561,37.76924652917891,37.72702211482743,37.788499477941336,37.7839325760642,37.750273703674814,37.76419571221531,37.76924652917891,37.75131023015545,37.773474419099585,37.783004077643476,37.79927567014091,37.76036149087783,37.7839325760642,37.78507459557097,37.779314673752964,37.77189726490146,37.73068763436866,37.71812520439796,37.71737565355466,37.76048861073579,37.80549664761133,37.745634671571636,37.77375969975922,37.77499194694682,37.77999173926721,37.77223581387494,37.77829955272183,37.71193343102876,37.78049625961115,37.757447800026696,37.70932060995141,37.7843492684367,37.80354232410081,37.78511874382036,37.7839325760642,37.76905845294093,37.79837270269259,37.77100577130384,37.76989839338025,37.77203201350724,37.78071557225048,37.7984422945084,37.7898915192474,37.75256369818553,37.75256369818553,37.7839325760642,37.75742966987225,37.792450751407294,37.7480965071136,37.77671770313698,37.77871942789032,37.768246024114525,37.768246024114525,37.771109951957804,37.783528916178064,37.77745741894575,37.81068110753548,37.806657732348235,37.78331088878137,37.75220444116967,37.7276341253869,37.760566532065006,37.786302297463955,37.75599844107892,37.75230597782659,37.78838792971966,37.78507459557097,37.77082024098187,37.7816542606277,37.76165021917327,37.78057538107447,37.780821047158554,37.8039365072563,37.797806630391364,37.78817788964108,37.743289168060265,37.72980086144607,37.78268536745206,37.7839325760642,37.717995409872366,37.73265098672215,37.73355034231799,37.80231057832539,37.7654476075275,37.709162205023596,37.76924652917891,37.76619048550482,37.757429523043974,37.78610103879033,37.78610103879033,37.79431575392404,37.77385630397913,37.79573710834212,37.77871942789032,37.75390205124772,37.78673056551673,37.76419571221531,37.78131458534108,37.72906230715476,37.7612895722579,37.7843492684367,37.72906230715476,37.727716813462564,37.77749384266056,37.780926854425914,37.78313648723007,37.79782495065773,37.71393253806244,37.77009807899048,37.77761914280685,37.7684455246981,37.71011366492149,37.80089647618971,37.721694985012455,37.72716838925669,37.806780111468534,37.788499477941336,37.77999173926721,37.78037272095248,37.75228187250447,37.785491559268934,37.71181773753943,37.7706103582148,37.77745741894575,37.76924652917891,37.76924652917891,37.7839325760642,37.76088893209152,37.76924652917891,37.7839325760642,37.78339985751909,37.76924652917891,37.73668494994122,37.7839325760642,37.72746441562553,37.74545961234702,37.7930136072549,37.787663597834545,37.78616615811754,37.73314372948054,37.77172394571696,37.75855952412134,37.780005867994824,37.789110174829865,37.75683373380551,37.77999353897374,37.758498507780814],\"legendgroup\":\"Non-Criminal\",\"lon\":[-122.42742836929656,-122.41815109318372,-122.43102547213662,-122.41193341005338,-122.41234030428764,-122.42166247826907,-122.4131480505296,-122.41629170374857,-122.46949470076126,-122.46631062215891,-122.42011607573366,-122.42330825256187,-122.40669900268833,-122.40528839821003,-122.42397157963755,-122.40637260380367,-122.37707345845382,-122.41259527758581,-122.39137353346597,-122.39274978789828,-122.42942200371435,-122.41691183070925,-122.41330664540044,-122.40658988465438,-122.44930866812773,-122.40880813007246,-122.41846502787442,-122.41247993630192,-122.41187022703075,-122.41386560526722,-122.39498148165923,-122.43378454712479,-122.41588253952085,-122.42397157963755,-122.4607234706525,-122.4067711451779,-122.41259527758581,-122.4620684887434,-122.43307447227019,-122.42397157963755,-122.40713900933308,-122.41803023409047,-122.4124117474483,-122.42581353216052,-122.39141752820116,-122.41259527758581,-122.41113980219616,-122.4066282007833,-122.43209230178827,-122.45744575733735,-122.43435450033807,-122.4526418474236,-122.44156413536328,-122.42200682265661,-122.40602438840236,-122.40851633190513,-122.43779874819879,-122.41348740024354,-122.42353498869593,-122.4418656420479,-122.41876599574823,-122.43214039079034,-122.48851723541685,-122.44266868816416,-122.4093091807476,-122.41487678623677,-122.49047449123621,-122.41259527758581,-122.43579421432649,-122.41045615906502,-122.41964545936246,-122.435052315381,-122.49597201699906,-122.43042441598713,-122.40987875494628,-122.43359474868316,-122.44272886133407,-122.44272886133407,-122.41259527758581,-122.42568946048748,-122.40593812008852,-122.43376908544266,-122.41532057072628,-122.4147412230519,-122.45335228997452,-122.45335228997452,-122.38952660390618,-122.4074828136046,-122.4131576926893,-122.47660232037586,-122.42055996630992,-122.41752877437465,-122.4190175437401,-122.4035928907734,-122.502712988963,-122.4466104660471,-122.40943306975508,-122.41735781829728,-122.41518527060464,-122.41113980219616,-122.40913437034878,-122.41550518013352,-122.42241142068325,-122.47398247146391,-122.42208679403626,-122.415445868814,-122.399685665145,-122.41682715547994,-122.47023491618813,-122.39640930879122,-122.42246374465972,-122.41259527758581,-122.44470621149956,-122.47694711508713,-122.43414453855247,-122.40179364684063,-122.41310524380863,-122.42289332760808,-122.42397157963755,-122.40075504831447,-122.41234804162994,-122.41808809883916,-122.41808809883916,-122.4022645295188,-122.40528580238285,-122.42341305643612,-122.4147412230519,-122.41750590202805,-122.40458331824809,-122.43307447227019,-122.45773304499775,-122.45113130757095,-122.4283540660218,-122.4093091807476,-122.45113130757095,-122.43236326479243,-122.41629170279316,-122.41367636179726,-122.46013720023512,-122.42214777604057,-122.4411562151039,-122.45372622844519,-122.41187022703075,-122.45167593788523,-122.43756481261951,-122.39913024364351,-122.46226489685809,-122.43680549380603,-122.4195772441978,-122.4067711451779,-122.41348740024354,-122.44058931920651,-122.47848606220033,-122.40785252141461,-122.40327962658654,-122.4143442572656,-122.4131576926893,-122.42397157963755,-122.42397157963755,-122.41259527758581,-122.4350007026991,-122.42397157963755,-122.41259527758581,-122.42429481397211,-122.42397157963755,-122.42715550917768,-122.41259527758581,-122.44655473531995,-122.44633615796015,-122.41611301730221,-122.41335396485418,-122.42137337495188,-122.40434481360481,-122.41689981979252,-122.50579684832913,-122.41193341005338,-122.41701687926658,-122.40669900268833,-122.48687804834698,-122.42127173012831],\"marker\":{\"color\":\"#FF6692\",\"symbol\":\"circle\"},\"mode\":\"markers\",\"name\":\"Non-Criminal\",\"showlegend\":true,\"type\":\"scattergeo\"},{\"geo\":\"geo\",\"hovertemplate\":\"Incident Category=Malicious Mischief<br>latitude=%{lat}<br>longitude=%{lon}<extra></extra>\",\"lat\":[37.730581717637946,37.730936070218895,37.75456421140335,37.80275505740129,37.73453253544143,37.76560583760297,37.77580159111132,37.776415816714724,37.72954271057539,37.77000760474354,37.78530844745308,37.76267070626061,37.79458821565897,37.779277452518656,37.763965996140094,37.78693970570657,37.76018890923618,37.74312266332609,37.73453253544143,37.79690905664644,37.722034716260424,37.80821405292514,37.773200389331286,37.757883662734024,37.74559509558596,37.74394224018153,37.72116354747668,37.71007028653156,37.77324779963808,37.797089000192194,37.750304482493554,37.77354937574232,37.78537264618818,37.79356508316817,37.76222686615962,37.75117875536422,37.786246576578144,37.7976165808776,37.79888096617859,37.80821405292514,37.78890961112855,37.767274661158645,37.76924652917891,37.76924652917891,37.79259308227565,37.78883777870189,37.78878689392044,37.79669105830072,37.78515093922473,37.74239176061754,37.794859532228344,37.777553408928654,37.77499175043618,37.72401640864594,37.78337048750076,37.7932091009356,37.758544720385714,37.7932091009356,37.787996308614986,37.73500643335545,37.78815907391831,37.80048648688517,37.78808218625765,37.759407334657354,37.78829319282882,37.77129635185078,37.78372378203807,37.7603010605011,37.76560583760297,37.77646430525107,37.78787216759232,37.715490873206214,37.78785557247169,37.77129635185078,37.782750916241895,37.71429387319309,37.800695733525004,37.79888096617859,37.78329259065825,37.72926125620521,37.77113778727857,37.72224034731027,37.71111645109777,37.7805353858225,37.78402998836555,37.78901633734544,37.788699045143865,37.76924652917891,37.75117875536422,37.733882851612556,37.78503028396464,37.80727586975037,37.76559292273596,37.76489750678093,37.773345711812325,37.801930635703606,37.78515093922473,37.76560583760297,37.73145972927425,37.79067278294602,37.782024266168385,37.77630216591517,37.7984592318753,37.78748416076945,37.782750916241895,37.782488031626265,37.73721373583178,37.78880754257507,37.79990243551584,37.772315845350185,37.727424871385494,37.775787314614526,37.82618185826742,37.7783268304671,37.7528356110411,37.76468236324016,37.77630216591517,37.79374703131433,37.71193343102876,37.723963816557244,37.788499477941336,37.77303605003146,37.796302097343386,37.794859532228344,37.79670390180037,37.751437158318524,37.753626711810526,37.78245396537465,37.77923467876185,37.802628423158055,37.74999007925679,37.762332397560535,37.75300402962228,37.72222494551613,37.79709205264024,37.79813458061945,37.78445272883687,37.781587665481965,37.77973890462704,37.784006612420036,37.73490971072529,37.79389640842504,37.78427112424727,37.797089000192194,37.71501138834774,37.792970771166516,37.77625366680294,37.78953373948388,37.7706601742933,37.72547564939949,37.772837756469265,37.76513049475049,37.74234287583384,37.77571541347681,37.77571541347681,37.817823897791946,37.80228098253618,37.76454765275407,37.80549664761133,37.76924652917891,37.764705299011204,37.73860268382163,37.78672974391054,37.769750784511274,37.78832799779113,37.76272223370367,37.78995188493875,37.72548241124062,37.80748251193778,37.76560583760297,37.74816568813204,37.78009258159099,37.75543693568604,37.759407334657354,37.77973890462704,37.768246024114525,37.78757927640804,37.768246024114525,37.77580068534641,37.77569523157464,37.77580068534641,37.78435505539235,37.78648090193675,37.769496997180674,37.780528533424686,37.75228187250447,37.77000760474354,37.76924652917891,37.79888096617859,37.790968609726725,37.78258503232177,37.7848662445387,37.77438465486808,37.79374703131433,37.80518490076636,37.80569594262971,37.79389640842504,37.76924652917891,37.78211941829001,37.778068980491405,37.770847433967646,37.782849407135444,37.74388333564679,37.77569523157464,37.76088893209152,37.72049384876167,37.722435379782695,37.760075571705876,37.7684455246981,37.763848790283404,37.77475548347705,37.76280601002799,37.80528698382421,37.77973890462704,37.76982865656293,37.78268536745206,37.781940323599706,37.7969685884324,37.75529478092247,37.7382147327303,37.77086854458143,37.786246576578144,37.77821430526279,37.80518490076636,37.788499477941336,37.78179876714438,37.71829023193823,37.72117506928244,37.7310657529941,37.78787216759232,37.76924652917891,37.748069992682574,37.73118773268335,37.764932460539306,37.79942531094891,37.80624124805435,37.807978726080414,37.80748251193778,37.76924652917891,37.79323049132005,37.80675808244208,37.744681182378415,37.79771621229674,37.787440824364865,37.79803346093516,37.72277418200242,37.76507220692411,37.76924652917891,37.79803346093516,37.807163251424285,37.78556384617361,37.79670390180037,37.745173811149314,37.79832327415856,37.75896179718726,37.782488031626265,37.77561129685002,37.80675808244208,37.806780111468534,37.79354421162087,37.80155805140089,37.743565341494985,37.780354394008114,37.784560141211806,37.73353395912637,37.71753059977352,37.73434320093751,37.80675808244208,37.800607119774014,37.805494467998535,37.7609547379289,37.744681182378415,37.797250202574986,37.719298464887245,37.73796988091464,37.78943368124484,37.79782495065773,37.79519828225881,37.74312266332609,37.73796988091464,37.75063964845744,37.77193422222442,37.74597422469076,37.75083698058207,37.78515093922473,37.73394935076629,37.79888096617859,37.782802248999005,37.74019196645599,37.77004977136961,37.78298920316836,37.77709097125577,37.79149585408994,37.76419571221531,37.7346255713805,37.78018947050346,37.76646479082014,37.792450751407294,37.75889598840878,37.792450751407294,37.7480965071136,37.777977086075,37.785491559268934,37.777977086075,37.78215090950007,37.78172607189762,37.75513651953613,37.78177541825027,37.71217948507751,37.741716204461575,37.76419571221531,37.781321256248475,37.71610888379687,37.802628423158055,37.74923786532649,37.7602353540718,37.763429272147256,37.75235171503818,37.73242217387174,37.75469183949377,37.76275552480951,37.794643190046045,37.7666245156216,37.79540852575531,37.75855952412134,37.75020597412777,37.76049887140056,37.78962043718497,37.730411351369746,37.79028602531556,37.778511462690886,37.784709803078236,37.75742966987225,37.73671972240032,37.73671972240032,37.796210953409165,37.78331088878137,37.74965823636414,37.787765494696465],\"legendgroup\":\"Malicious Mischief\",\"lon\":[-122.381439389815,-122.37389036627054,-122.4064804591885,-122.4136227157606,-122.47945964906894,-122.41048669029503,-122.4464708309722,-122.42288271370651,-122.38641847685011,-122.44693382058489,-122.41287203894147,-122.4351879633321,-122.39658591411781,-122.39221065777403,-122.42398155607303,-122.41151576847024,-122.41997494764911,-122.42148545138262,-122.47945964906894,-122.40528839821003,-122.3931719589466,-122.41580242607432,-122.42560615759972,-122.38924822480189,-122.41988576485541,-122.42266944640758,-122.43746114104351,-122.43867975767627,-122.42899005279499,-122.43548982808359,-122.42382985205461,-122.43410901176355,-122.43136639807875,-122.40461342242597,-122.43949132387768,-122.39640760368722,-122.42824149689217,-122.42379296546005,-122.39869570327996,-122.41580242607432,-122.41865587356023,-122.43647824783746,-122.42397157963755,-122.42397157963755,-122.41940178531726,-122.38942894299095,-122.4270596732852,-122.42360129831425,-122.43308339913544,-122.40583815976386,-122.40487561154785,-122.40992265087567,-122.41316110973679,-122.41740904569694,-122.42083185184009,-122.39995873701295,-122.42050683395422,-122.39995873701295,-122.39359716503304,-122.4324581030133,-122.43200332646653,-122.44634836356771,-122.41005693097291,-122.4449476532295,-122.40840155198468,-122.40542473566995,-122.41424157409635,-122.41811812009416,-122.41048669029503,-122.42626334607084,-122.41169923333719,-122.48331422029204,-122.4421095262678,-122.40542473566995,-122.46870448273314,-122.46440075700882,-122.44470426984901,-122.39869570327996,-122.43270618085734,-122.40756041806301,-122.40080427775587,-122.44379303740973,-122.44812971990292,-122.40816079455212,-122.45461780368998,-122.41024243940024,-122.42030688368688,-122.42397157963755,-122.39640760368722,-122.45822975818969,-122.4004684855585,-122.41561643757444,-122.47404531960231,-122.40063332132424,-122.43575149990461,-122.41254127937118,-122.43308339913544,-122.41048669029503,-122.42976635245844,-122.41226618818563,-122.40115971954746,-122.48446065276802,-122.44730304523777,-122.4335532578336,-122.46870448273314,-122.4458205129012,-122.42770734768459,-122.41188565874671,-122.42088263735474,-122.42880210298868,-122.38268699042688,-122.39335512646646,-122.37448009319193,-122.39653063923612,-122.38775628177875,-122.45121306348491,-122.48446065276802,-122.41036544410379,-122.41876599574823,-122.45651601686288,-122.4067711451779,-122.42194124860255,-122.40441216196413,-122.40487561154785,-122.4084308870409,-122.43187668590397,-122.4904006153331,-122.39130831189652,-122.4609312697072,-122.43669334831304,-122.48799608155177,-122.50498766474732,-122.40633623830558,-122.39018307908121,-122.39833314914345,-122.42726897642036,-122.40849315881205,-122.40061307317757,-122.40715948914875,-122.40486479517743,-122.4363998225605,-122.4091914521134,-122.47643680448161,-122.43548982808359,-122.47299095912123,-122.40936128660809,-122.42791371593532,-122.42890531045148,-122.42678076677441,-122.39424349422065,-122.40968304216152,-122.39677089165308,-122.49176789566957,-122.4973187290067,-122.4973187290067,-122.3712458991155,-122.42473126057587,-122.40642915558782,-122.42200682265661,-122.42397157963755,-122.41525065017504,-122.39239296449931,-122.41316144562205,-122.43620418079145,-122.42696286071894,-122.44699434419931,-122.42561605450139,-122.46281547511876,-122.41397500878728,-122.41048669029503,-122.41822117169174,-122.48473226253812,-122.41874757531652,-122.4449476532295,-122.40715948914875,-122.45335228997452,-122.39925504994814,-122.45335228997452,-122.4141732061619,-122.42105326145904,-122.4141732061619,-122.4329142491479,-122.44520849393979,-122.44346144210765,-122.47508358219605,-122.47848606220033,-122.44693382058489,-122.42397157963755,-122.39869570327996,-122.40238040320415,-122.41569387441227,-122.41278212939851,-122.40151810859764,-122.41036544410379,-122.40343572658638,-122.40535724201465,-122.4091914521134,-122.42397157963755,-122.40725467595034,-122.40506851040034,-122.44035770593106,-122.46656265346968,-122.38311822134833,-122.42105326145904,-122.4350007026991,-122.42602274402378,-122.42564957754712,-122.47140857295534,-122.45167593788523,-122.4705950866979,-122.45468264914028,-122.49427044070329,-122.42365507596732,-122.40715948914875,-122.4030377602582,-122.42246374465972,-122.43581374227543,-122.44394995564436,-122.42096409369465,-122.3983784659109,-122.42513550957302,-122.42824149689217,-122.48352539887742,-122.40343572658638,-122.4067711451779,-122.39834110837147,-122.4408879024843,-122.38833333269504,-122.4748566058574,-122.41169923333719,-122.42397157963755,-122.44764149249121,-122.4566074986917,-122.4567590086166,-122.4393366547218,-122.41878185632008,-122.417715898404,-122.41397500878728,-122.42397157963755,-122.3931813328012,-122.4121414255319,-122.48118121642418,-122.43055896140594,-122.43016838316078,-122.42050128453936,-122.40705800994292,-122.39773738320481,-122.42397157963755,-122.42050128453936,-122.40889733794425,-122.42978259351794,-122.4084308870409,-122.45226885712407,-122.4030750188564,-122.41359974929952,-122.4458205129012,-122.45544067025236,-122.4121414255319,-122.4195772441978,-122.4012245923843,-122.42290179923349,-122.42888268662789,-122.39463146450412,-122.40733704162238,-122.38848199675726,-122.48154283574766,-122.40454403517866,-122.4121414255319,-122.40025046404315,-122.40695663340361,-122.43390358046642,-122.48118121642418,-122.40405839574345,-122.39001968579463,-122.46905667927525,-122.40695698813221,-122.42214777604057,-122.40604523680477,-122.42148545138262,-122.46905667927525,-122.4182878708879,-122.49811385769256,-122.39704283791049,-122.41501433216578,-122.43308339913544,-122.4175709457144,-122.39869570327996,-122.46762910232071,-122.37684733677168,-122.40700149161678,-122.46335052668974,-122.42133043276547,-122.42087318515297,-122.43307447227019,-122.47510247123125,-122.48259152981396,-122.42328145664861,-122.40593812008852,-122.41469003170093,-122.40593812008852,-122.43376908544266,-122.40938700711665,-122.40785252141461,-122.40938700711665,-122.43416177548356,-122.49129886316926,-122.42375718949476,-122.49023107953556,-122.40245948022154,-122.50569098901856,-122.43307447227019,-122.3958435001427,-122.4536998279801,-122.43669334831304,-122.41486124955964,-122.41920604493745,-122.41951273794947,-122.44598442613956,-122.38018459028908,-122.39957958699718,-122.39361254467057,-122.41752007397096,-122.42063784502452,-122.41154153326134,-122.50579684832913,-122.3885077306853,-122.41484189286116,-122.42049344331697,-122.39128975818817,-122.40393437803117,-122.4402133357455,-122.41780582056246,-122.42568946048748,-122.38656998233408,-122.38656998233408,-122.40514297852731,-122.41752877437465,-122.44494756586204,-122.40504139998343],\"marker\":{\"color\":\"#B6E880\",\"symbol\":\"circle\"},\"mode\":\"markers\",\"name\":\"Malicious Mischief\",\"showlegend\":true,\"type\":\"scattergeo\"},{\"geo\":\"geo\",\"hovertemplate\":\"Incident Category=Assault<br>latitude=%{lat}<br>longitude=%{lon}<extra></extra>\",\"lat\":[37.77812569661714,37.780971182329765,37.75117875536422,37.78331088878137,37.777601861095036,37.785491559268934,37.75020597412777,37.78018947050346,37.772895177200766,37.78610103879033,37.7868683661603,37.77283099431839,37.72872954740928,37.7875680237141,37.786615346301794,37.782569887796356,37.77250281646585,37.76432183426309,37.77455093061696,37.76877049785351,37.7985887169347,37.79879024459215,37.78637893587979,37.734669531072996,37.79879024459215,37.757476982778186,37.7777941886761,37.75220444116967,37.76223759790458,37.716134500935816,37.7848662445387,37.756054713668725,37.75368474505065,37.77999173926721,37.752628589044264,37.72948884585572,37.77499175043618,37.76006217607446,37.71042609913388,37.77264947305175,37.80109545463191,37.779314673752964,37.76979784988983,37.76505133632968,37.708311265041836,37.78142288596124,37.7604244265039,37.78637893587979,37.78787216759232,37.78673056551673,37.78589292711297,37.780993781477434,37.78620949142024,37.75482657770952,37.78223057378371,37.780773160648025,37.75555614570098,37.790973190511274,37.785167213738916,37.77671770313698,37.76450761219125,37.75849887894476,37.785334621209216,37.75543693568604,37.7604244265039,37.781863337992526,37.780528533424686,37.72688808877558,37.77499194694682,37.769917550675686,37.78414101130419,37.72623624315635,37.7602353540718,37.7601475526778,37.72222494551613,37.78240595374784,37.79288864062453,37.7528356110411,37.780005867994824,37.73100987038522,37.78735926098589,37.73100987038522,37.718834357405456,37.73100987038522,37.769526043647296,37.730318019697776,37.790565236529574,37.73100987038522,37.80821405292514,37.75863256660654,37.763429272147256,37.78259591133464,37.779138611039535,37.79669105830072,37.76560583760297,37.79445300351448,37.796057896364246,37.78351564008561,37.7880272139735,37.76505133632968,37.789110174829865,37.78372378203807,37.78169131174908,37.76170087788151,37.79594540193314,37.78735926098589,37.77923467876185,37.777699658507856,37.750580761479114,37.780614965813264,37.78682752578904,37.75220444116967,37.780993781477434,37.78578958358186,37.780926854425914,37.80272518130627,37.766957909504505,37.763848790283404,37.73716953069777,37.78117721773047,37.80272518130627,37.734669531072996,37.78258503232177,37.7868345113598,37.766957909504505,37.74388333564679,37.761700908167974,37.75396776877417,37.78423573864025,37.74312376235638,37.773466920607476,37.78016202513452,37.72990988256753,37.74312376235638,37.72925450421249,37.74936982198442,37.78795027159103,37.71916172353446,37.78298920316836,37.732079051384794,37.780005867994824,37.73660203846003,37.77812569661714,37.789852934148186,37.77812569661714,37.74292725517792,37.75456421140335,37.78072335256543,37.79217464375832,37.76560583760297,37.77675967691884,37.74312266332609,37.779851069106634,37.784908299430455,37.785491559268934,37.7917040142914,37.775602761721544,37.72049384876167,37.80821405292514,37.72509445401526,37.77623051953945,37.77812569661714,37.77973890462704,37.77507596005672,37.763429272147256,37.80044505976436,37.75220444116967,37.76351475721804,37.73100987038522,37.79765522600921,37.78682752578904,37.77607577268114,37.76267070626061,37.76231576837908,37.75529478092247,37.75368474505065,37.723044468962584,37.788499477941336,37.76419571221531,37.781940323599706,37.7870872505264,37.78016202513452,37.78016202513452,37.719298464887245,37.735660958471364,37.735660958471364,37.77646430525107,37.7691985467523,37.78922561367261,37.77666098665174,37.71193343102876,37.78279444506034,37.76505133632968,37.766957909504505,37.780971182329765,37.79057825823802,37.782116602343244,37.730015826566984,37.766957909504505,37.76505133632968,37.782116602343244,37.782116602343244,37.779090726308574,37.8039365072563,37.78101892065425,37.780699048573226,37.76267070626061,37.76183585447031,37.78339985751909,37.75889598840878,37.78339985751909,37.7839325760642,37.74930406746458,37.74239176061754,37.74239176061754,37.78589290013101,37.73606117177687,37.77588970286916,37.77527205930737,37.78211941829001,37.77623051953945,37.76312179423945,37.731282902583615,37.7255079797652,37.7751111795051,37.75117875536422,37.76088893209152,37.73145972927425,37.765183133520345,37.75117875536422,37.75117875536422,37.7751111795051,37.781863337992526,37.78465714011983,37.766691459464916,37.75683373380551,37.79864833754814,37.730411351369746,37.759829612490556,37.75562144550937,37.78331088878137,37.78211941829001,37.781863337992526,37.758498507780814,37.72925450421249,37.77872410696556,37.781863337992526,37.78775665157557,37.781863337992526,37.781863337992526],\"legendgroup\":\"Assault\",\"lon\":[-122.39184052639568,-122.4087086749172,-122.39640760368722,-122.41752877437465,-122.42480887808776,-122.40785252141461,-122.3885077306853,-122.48259152981396,-122.45428511766733,-122.41808809883916,-122.42330825256187,-122.39137353346597,-122.43129384491388,-122.40658988465438,-122.40639887891692,-122.43079788213421,-122.42261969178954,-122.38885128462512,-122.42250219093546,-122.42746205880601,-122.40637260380367,-122.4443186203221,-122.39564546789741,-122.41244733280233,-122.4443186203221,-122.39601276446922,-122.43836550237133,-122.4190175437401,-122.5071301982847,-122.40212121289429,-122.41278212939851,-122.40849924216333,-122.39859315175997,-122.41348740024354,-122.41189982277923,-122.3813991223975,-122.41316110973679,-122.41261023594913,-122.41316181299366,-122.41500165430014,-122.42618004477822,-122.4066282007833,-122.44857881825685,-122.41966897380142,-122.42008306742426,-122.39261308350959,-122.50592811171158,-122.39564546789741,-122.41169923333719,-122.40458331824809,-122.41214750780264,-122.4131480505296,-122.3989771693379,-122.39772873392515,-122.41029202788059,-122.41870890513495,-122.43003800709896,-122.41739133606869,-122.41790141130261,-122.41532057072628,-122.42866513028684,-122.44351297917189,-122.424687041478,-122.41874757531652,-122.50592811171158,-122.41386560526722,-122.47508358219605,-122.47423317526119,-122.43779874819879,-122.42093864733586,-122.41095161908784,-122.43362359230944,-122.41920604493745,-122.42065953512214,-122.39018307908121,-122.47630655314094,-122.43126294779938,-122.38775628177875,-122.41193341005338,-122.37699954645048,-122.40822672700406,-122.37699954645048,-122.39747873558031,-122.37699954645048,-122.45071018189665,-122.40470639531522,-122.40557374633903,-122.37699954645048,-122.41580242607432,-122.41905260777229,-122.41951273794947,-122.39934928749489,-122.46307618146837,-122.42360129831425,-122.41048669029503,-122.40479647356554,-122.40998802940666,-122.41588253952085,-122.4217498823547,-122.41966897380142,-122.41701687926658,-122.41424157409635,-122.39409283812178,-122.41109020188723,-122.4217681680622,-122.40822672700406,-122.4609312697072,-122.40460550711119,-122.40218351932117,-122.41613809985034,-122.41992794913615,-122.4190175437401,-122.4131480505296,-122.41296966814406,-122.41367636179726,-122.41386085278359,-122.38816413828668,-122.4705950866979,-122.38986446334408,-122.41169993118794,-122.41386085278359,-122.41244733280233,-122.41569387441227,-122.41234030428764,-122.38816413828668,-122.38311822134833,-122.42157840187744,-122.41641349023185,-122.4177067508564,-122.40327519404315,-122.39143433652146,-122.40769141596378,-122.39717687851248,-122.40327519404315,-122.37258355600144,-122.41268719509124,-122.43364712515255,-122.40043463946905,-122.46335052668974,-122.3805289146387,-122.41193341005338,-122.44800087031433,-122.39184052639568,-122.40872338753256,-122.39184052639568,-122.46380396003708,-122.4064804591885,-122.47071675085904,-122.42269416444952,-122.41048669029503,-122.43138442446295,-122.42148545138262,-122.50943294181482,-122.40479506275997,-122.40785252141461,-122.41922173749678,-122.40307640218379,-122.42602274402378,-122.41580242607432,-122.43793362754113,-122.41471100473302,-122.39184052639568,-122.40715948914875,-122.51129492624534,-122.41951273794947,-122.40918981932037,-122.4190175437401,-122.4781908269142,-122.37699954645048,-122.41368277449389,-122.41992794913615,-122.4169158536446,-122.4351879633321,-122.46297200199032,-122.42096409369465,-122.39859315175997,-122.43604007380267,-122.4067711451779,-122.43307447227019,-122.43581374227543,-122.42155971686209,-122.40769141596378,-122.40769141596378,-122.39001968579463,-122.39221366181737,-122.39221366181737,-122.42626334607084,-122.4177829388001,-122.40859504581255,-122.41215795469684,-122.41876599574823,-122.41405376568504,-122.41966897380142,-122.38816413828668,-122.4087086749172,-122.42068738428432,-122.45009230346619,-122.3772026141149,-122.38816413828668,-122.41966897380142,-122.45009230346619,-122.45009230346619,-122.46414497098554,-122.415445868814,-122.46427917113807,-122.40392088280285,-122.4351879633321,-122.41935926843617,-122.42429481397211,-122.41469003170093,-122.42429481397211,-122.41259527758581,-122.413770628689,-122.40583815976386,-122.40583815976386,-122.41973873477666,-122.42446626401404,-122.41512795409884,-122.4159081801724,-122.40725467595034,-122.41471100473302,-122.4083028146118,-122.37993438140147,-122.4387634067685,-122.42936586083005,-122.39640760368722,-122.4350007026991,-122.42976635245844,-122.41748659732667,-122.39640760368722,-122.39640760368722,-122.42936586083005,-122.41386560526722,-122.41443019938555,-122.3926618696727,-122.40669900268833,-122.43074718839506,-122.39128975818817,-122.42592030312977,-122.3957626269508,-122.41752877437465,-122.40725467595034,-122.41386560526722,-122.42127173012831,-122.37258355600144,-122.43855227864373,-122.41386560526722,-122.42011607573366,-122.41386560526722,-122.41386560526722],\"marker\":{\"color\":\"#FF97FF\",\"symbol\":\"circle\"},\"mode\":\"markers\",\"name\":\"Assault\",\"showlegend\":true,\"type\":\"scattergeo\"},{\"geo\":\"geo\",\"hovertemplate\":\"Incident Category=Recovered Vehicle<br>latitude=%{lat}<br>longitude=%{lon}<extra></extra>\",\"lat\":[37.7805353858225,37.76924652917891,37.764705299011204,37.7397551351898,37.73592937516169,37.76505133632968,37.76924652917891,37.73795698227198,37.72222494551613,37.725220740670984,37.736964399409246,37.77761914280685,37.78745049797145,37.717178947506795,37.73164354496828,37.76725722470647,37.736893544362694,37.736893544362694,37.73832136115452,37.74312266332609,37.76924652917891,37.765958187824175,37.79739358570342,37.761700908167974,37.781863337992526,37.727913311805345,37.77303605003146,37.7366011278019,37.78450084289595,37.7666245156216,37.780926854425914,37.78817788964108,37.76924652917891,37.76924652917891,37.76924652917891,37.78356778488696,37.76924652917891,37.78259591133464,37.741394583434705,37.7267801832446,37.76924652917891,37.76924652917891,37.76924652917891,37.78144749392477,37.777699658507856,37.78144749392477,37.78728002558399,37.73918307265385,37.795660706697404,37.77385630397913,37.7798398329365,37.7814979983372,37.804145844453586,37.76924652917891,37.76924652917891,37.76924652917891,37.731234943234085,37.78423573864025,37.78631021732119,37.76800642408289,37.76924652917891,37.784448840613585,37.78356778488696,37.785582473554015,37.7816542606277,37.77385630397913,37.7934323938757,37.76924652917891,37.775602761721544,37.76026456023915,37.76924652917891,37.726170778174634,37.78661895979627,37.76924652917891,37.76924652917891,37.785167213738916,37.76924652917891,37.76924652917891,37.76924652917891,37.74597422469076,37.722397870557415,37.722397870557415,37.784006612420036,37.77385630397913,37.72391410367005,37.76291589268423,37.76924652917891,37.78337048750076,37.76924652917891,37.76924652917891,37.77527205930737,37.76924652917891,37.77965775127483,37.73778405361255,37.74636177868099,37.78982993383692,37.76924652917891,37.76497689783835,37.79012444786295,37.78619642719614,37.76924652917891,37.7805353858225,37.726170778174634,37.72391410367005,37.76497689783835,37.78337048750076,37.78337048750076,37.72222494551613,37.76924652917891,37.75749489896612,37.76924652917891,37.757650784191725,37.780821047158554,37.73107360106008,37.76924652917891,37.72344678051801,37.76924652917891,37.76924652917891,37.78049625961115,37.79255233583978,37.76257883049033,37.76924652917891,37.76924652917891,37.76924652917891,37.76924652917891,37.78279444506034,37.76924652917891,37.76924652917891,37.76924652917891,37.77682502502754,37.775997142169274,37.7853882479001,37.76924652917891,37.75849887894476,37.78450084289595,37.78258503232177,37.78016202513452,37.72161876976169,37.76924652917891,37.7816542606277,37.73899041615456,37.78049625961115,37.77871942789032,37.76924652917891,37.73442734529507,37.724729109115316,37.73109037848132,37.78931984806438,37.79816523871442,37.74659523116863,37.76924652917891,37.724729109115316,37.76924652917891,37.783528916178064,37.77328477975284,37.73622916740598,37.76297272623552,37.76575213236902,37.76924652917891,37.76924652917891,37.71663232475613,37.730658351461614,37.745150765350836,37.777722750028566,37.80536137643332,37.78175432665782,37.77935458486337,37.78506173708372,37.72303615829774,37.78268536745206,37.76924652917891,37.74015348041543,37.73835694529072,37.71631730777967,37.78144749392477,37.76924652917891,37.78337048750076,37.78337048750076,37.72699065551247,37.72699065551247,37.72699065551247,37.78144749392477,37.76924652917891,37.72018168292168,37.77385630397913,37.761067953031876,37.74965722470117,37.76924652917891,37.76924652917891,37.77630595203942],\"legendgroup\":\"Recovered Vehicle\",\"lon\":[-122.40816079455212,-122.42397157963755,-122.41525065017504,-122.41011472359635,-122.41420978422165,-122.41966897380142,-122.42397157963755,-122.48997093972424,-122.39018307908121,-122.41790641441541,-122.39950411875748,-122.41187022703075,-122.4005030970072,-122.38626501459227,-122.39179715703969,-122.40475020761241,-122.41037693984421,-122.41037693984421,-122.40564673809936,-122.42148545138262,-122.42397157963755,-122.40462333824286,-122.44061007843756,-122.42157840187744,-122.41386560526722,-122.39352888863367,-122.42194124860255,-122.38571301129124,-122.41945454389607,-122.42063784502452,-122.41367636179726,-122.41682715547994,-122.42397157963755,-122.42397157963755,-122.42397157963755,-122.41927343381671,-122.42397157963755,-122.39934928749489,-122.41119493293455,-122.39926974183442,-122.42397157963755,-122.42397157963755,-122.42397157963755,-122.41714561338313,-122.40460550711119,-122.41714561338313,-122.42001957474174,-122.4786443703846,-122.40954722135758,-122.40528580238285,-122.4900965800566,-122.39980220366621,-122.42510952213698,-122.42397157963755,-122.42397157963755,-122.42397157963755,-122.43057848677819,-122.4177067508564,-122.41644912401847,-122.42441169103962,-122.42397157963755,-122.41607173623363,-122.41927343381671,-122.4146172088293,-122.41550518013352,-122.40528580238285,-122.41282921659864,-122.42397157963755,-122.40307640218379,-122.46712169067888,-122.42397157963755,-122.38381036975841,-122.4215701166973,-122.42397157963755,-122.42397157963755,-122.41790141130261,-122.42397157963755,-122.42397157963755,-122.42397157963755,-122.39704283791049,-122.4300261514751,-122.4300261514751,-122.40486479517743,-122.40528580238285,-122.3914919152981,-122.41217329153451,-122.42397157963755,-122.42083185184009,-122.42397157963755,-122.42397157963755,-122.4159081801724,-122.42397157963755,-122.40928340438033,-122.3959448289191,-122.39105679712927,-122.4188426535863,-122.42397157963755,-122.42090127191872,-122.4121543201221,-122.42485842366148,-122.42397157963755,-122.40816079455212,-122.38381036975841,-122.3914919152981,-122.42090127191872,-122.42083185184009,-122.42083185184009,-122.39018307908121,-122.42397157963755,-122.48744910475403,-122.42397157963755,-122.39312262975965,-122.42208679403626,-122.39519164529331,-122.42397157963755,-122.40007300242718,-122.42397157963755,-122.42397157963755,-122.43214039079034,-122.41264965842102,-122.42166247826907,-122.42397157963755,-122.42397157963755,-122.42397157963755,-122.42397157963755,-122.41405376568504,-122.42397157963755,-122.42397157963755,-122.42397157963755,-122.4567459020762,-122.42616739374448,-122.40866708530758,-122.42397157963755,-122.44351297917189,-122.41945454389607,-122.41569387441227,-122.40769141596378,-122.43280597836706,-122.42397157963755,-122.41550518013352,-122.40307582574934,-122.43214039079034,-122.4147412230519,-122.42397157963755,-122.4802463590466,-122.3879304959651,-122.4341317732651,-122.41537192257195,-122.41209588481362,-122.4064956130513,-122.42397157963755,-122.3879304959651,-122.42397157963755,-122.4074828136046,-122.41222500728585,-122.50315728190171,-122.41120683976601,-122.41754231875055,-122.42397157963755,-122.42397157963755,-122.43875767842093,-122.40340046316182,-122.4187847859765,-122.41640107183976,-122.41185846363713,-122.40969326320398,-122.43359593942569,-122.42643012778156,-122.39834811568599,-122.42246374465972,-122.42397157963755,-122.4358395774638,-122.43124187719404,-122.40110452602805,-122.41714561338313,-122.42397157963755,-122.42083185184009,-122.42083185184009,-122.38025684003502,-122.38025684003502,-122.38025684003502,-122.41714561338313,-122.42397157963755,-122.40159992556431,-122.40528580238285,-122.4002665990272,-122.40788435698592,-122.42397157963755,-122.42397157963755,-122.40728965907793],\"marker\":{\"color\":\"#FECB52\",\"symbol\":\"circle\"},\"mode\":\"markers\",\"name\":\"Recovered Vehicle\",\"showlegend\":true,\"type\":\"scattergeo\"},{\"geo\":\"geo\",\"hovertemplate\":\"Incident Category=Miscellaneous Investigation<br>latitude=%{lat}<br>longitude=%{lon}<extra></extra>\",\"lat\":[37.7839325760642,37.72050867949002,37.748212149468735,37.79853332699335,37.766014766348924,37.75550249751555,37.75851265260387,37.785167213738916,37.78795027159103,37.74150308822717,37.72835755065155,37.78445272883687,37.763752329588236,37.82966229571011,37.71028620218089,37.785982616999256,37.79067278294602,37.73725978865716,37.717178947506795,37.74388333564679,37.773769345456756,37.790812878071975,37.76606305964936,37.78589290013101,37.78131458534108,37.78258503232177,37.74122666601361,37.78817788964108,37.76257883049033,37.78465714011983],\"legendgroup\":\"Miscellaneous Investigation\",\"lon\":[-122.41259527758581,-122.40500937033156,-122.41586279405455,-122.43915622018719,-122.45778962527774,-122.417658993747,-122.50686795369272,-122.41790141130261,-122.43364712515255,-122.4676305368074,-122.4511125614006,-122.40849315881205,-122.47278970662096,-122.37559957884481,-122.42165162814439,-122.47978567837039,-122.41226618818563,-122.42108045548981,-122.38626501459227,-122.38311822134833,-122.41161011784295,-122.4089197830783,-122.42992612183986,-122.41973873477666,-122.45773304499775,-122.41569387441227,-122.44843970034316,-122.41682715547994,-122.42166247826907,-122.41443019938555],\"marker\":{\"color\":\"#636efa\",\"symbol\":\"circle\"},\"mode\":\"markers\",\"name\":\"Miscellaneous Investigation\",\"showlegend\":true,\"type\":\"scattergeo\"},{\"geo\":\"geo\",\"hovertemplate\":\"Incident Category=Suspicious Occ<br>latitude=%{lat}<br>longitude=%{lon}<extra></extra>\",\"lat\":[37.729654219714476,37.784944005025956,37.80675808244208,37.79950183208283,37.75683373380551,37.759829612490556,37.759792382494744,37.7549319706097,37.717178947506795,37.738191827906576,37.78779033746198,37.7994845314223,37.716375222088374,37.73832136115452,37.773466920607476,37.764705299011204,37.76646479082014,37.77189726490146,37.734276936387595,37.7843492684367,37.77499194694682,37.761935877498665,37.77871942789032,37.76229072471273,37.78868666104212,37.78321431177312,37.72784492939911,37.78765056083807,37.78049625961115,37.717415396754404,37.77968836851533,37.74234287583384,37.78838792971966,37.72547564939949,37.76257883049033,37.82386062294955,37.7632997673923,37.80044505976436,37.7557659128205,37.71524434385366,37.79208770821325,37.76161711991717,37.78962043718497,37.77587344423178,37.734884484603946,37.77903801782764,37.76410227052293,37.748212149468735,37.7839325760642,37.78720062525248,37.75529478092247,37.7839325760642,37.7541927113405,37.74897104640288,37.77622135530407,37.73056751232582,37.73367501603134,37.80707251301197,37.73123178759346,37.717712710650254,37.76578329861651,37.716038818883085,37.76088893209152,37.77709097125577,37.78672974391054,37.77737199450485,37.75148331217826,37.781110994733616,37.78733916252147,37.77588970286916,37.76115547557552,37.72915975311489,37.74127737597663],\"legendgroup\":\"Suspicious Occ\",\"lon\":[-122.3953769340303,-122.4347299934904,-122.4121414255319,-122.41910946012227,-122.40669900268833,-122.42592030312977,-122.40014269957801,-122.39594290157365,-122.38626501459227,-122.50114162839529,-122.41234361401396,-122.4241705655949,-122.4791854866057,-122.40564673809936,-122.39143433652146,-122.41525065017504,-122.42328145664861,-122.43209230178827,-122.44889315551856,-122.4093091807476,-122.43779874819879,-122.40718748904061,-122.4147412230519,-122.43841829787343,-122.39272283486896,-122.41076482950653,-122.36842998139872,-122.4285250123337,-122.43214039079034,-122.47525348131904,-122.49329725780642,-122.49176789566957,-122.41518527060464,-122.39424349422065,-122.42166247826907,-122.37446787226924,-122.42173152253879,-122.40918981932037,-122.41329405061053,-122.40618936856656,-122.41629064994724,-122.42295533494625,-122.42049344331697,-122.4089467458297,-122.40155620834187,-122.44369911129915,-122.43531729847254,-122.41586279405455,-122.41259527758581,-122.4169898328862,-122.42096409369465,-122.41259527758581,-122.47754850449316,-122.40562695301617,-122.41160611386445,-122.43119165888979,-122.42639116629013,-122.41726063240938,-122.38772939117182,-122.3955562440961,-122.40753423057456,-122.44025513581519,-122.4350007026991,-122.42133043276547,-122.41316144562205,-122.39976258647586,-122.45644843450437,-122.46213927941308,-122.42340359434829,-122.41512795409884,-122.4305735690657,-122.39241507518486,-122.40874913469406],\"marker\":{\"color\":\"#EF553B\",\"symbol\":\"circle\"},\"mode\":\"markers\",\"name\":\"Suspicious Occ\",\"showlegend\":true,\"type\":\"scattergeo\"},{\"geo\":\"geo\",\"hovertemplate\":\"Incident Category=Warrant<br>latitude=%{lat}<br>longitude=%{lon}<extra></extra>\",\"lat\":[37.766691459464916,37.77761914280685,37.77588970286916,37.78693970570657,37.772837756469265,37.780611621569214,37.76817786907554,37.736893544362694,37.724729109115316,37.78637893587979,37.77129635185078,37.777553408928654,37.7797953807373,37.7839325760642,37.7751608100771,37.78331088878137,37.78356778488696,37.78637893587979,37.77921168445851,37.77761914280685,37.79900004908356,37.78631021732119,37.77973890462704,37.785641708798344,37.77283099431839,37.77311442180407,37.796302097343386,37.802628423158055,37.767430775982845,37.78742932998812,37.78259591133464,37.71697022073617,37.790565236529574,37.75550249751555,37.724975586504776,37.75395723424183,37.73735075710154,37.72498829635846,37.77283099431839,37.773466920607476,37.78682752578904,37.77761914280685,37.77761914280685,37.77745741894575,37.78321431177312,37.79285122058812,37.780614965813264,37.78351564008561,37.78289412114938,37.77921168445851,37.78279444506034,37.78640961281089,37.76497689783835,37.78016202513452,37.72930349228694,37.74595385526537,37.734884484603946,37.799369723004254,37.77999173926721,37.76500219593699,37.78049625961115,37.76877049785351,37.776689832001516,37.7310657529941,37.771863705465925,37.78832799779113,37.76959115943066,37.763187800944834,37.72829372549084,37.7691985467523,37.77646430525107,37.75955745953906,37.75955745953906,37.74930406746458,37.74312266332609,37.780993781477434,37.76924652917891,37.79087442698896,37.78144749392477,37.72312996239932,37.780926854425914,37.777977086075,37.77532094545078,37.72474884706181,37.77175774238835],\"legendgroup\":\"Warrant\",\"lon\":[-122.3926618696727,-122.41187022703075,-122.41512795409884,-122.41151576847024,-122.40968304216152,-122.42373098580642,-122.41073071858334,-122.41037693984421,-122.3879304959651,-122.39564546789741,-122.40542473566995,-122.40992265087567,-122.49116704585714,-122.41259527758581,-122.40363551943442,-122.41752877437465,-122.41927343381671,-122.39564546789741,-122.41093657493794,-122.41187022703075,-122.44264789818902,-122.41644912401847,-122.40715948914875,-122.41799627043912,-122.39137353346597,-122.47229734203229,-122.40441216196413,-122.43669334831304,-122.40184250506094,-122.40993054405932,-122.39934928749489,-122.44343127005364,-122.40557374633903,-122.417658993747,-122.40360092039614,-122.48289935733482,-122.39352363301738,-122.44306587712263,-122.39137353346597,-122.39143433652146,-122.41992794913615,-122.41187022703075,-122.41187022703075,-122.4131576926893,-122.41076482950653,-122.40276677080121,-122.41613809985034,-122.41588253952085,-122.42081700428415,-122.41093657493794,-122.41405376568504,-122.40803623744476,-122.42090127191872,-122.40769141596378,-122.4339744747741,-122.40202670344281,-122.40155620834187,-122.43258075381267,-122.41348740024354,-122.42048249299624,-122.43214039079034,-122.42746205880601,-122.41101441929457,-122.4748566058574,-122.41402670798057,-122.42696286071894,-122.41557701614049,-122.40730484858473,-122.38755070874484,-122.4177829388001,-122.42626334607084,-122.43042034086498,-122.43042034086498,-122.413770628689,-122.42148545138262,-122.4131480505296,-122.42397157963755,-122.42580214529943,-122.41714561338313,-122.43597688974761,-122.41367636179726,-122.40938700711665,-122.46494209192046,-122.46023446371291,-122.39359835894405],\"marker\":{\"color\":\"#00cc96\",\"symbol\":\"circle\"},\"mode\":\"markers\",\"name\":\"Warrant\",\"showlegend\":true,\"type\":\"scattergeo\"},{\"geo\":\"geo\",\"hovertemplate\":\"Incident Category=Arson<br>latitude=%{lat}<br>longitude=%{lon}<extra></extra>\",\"lat\":[37.77737199450485,37.77475982065911,37.78445272883687,37.76499626872751,37.76499626872751,37.784560141211806,37.780699048573226,37.78465714011983,37.77385630397913,37.71131669257075],\"legendgroup\":\"Arson\",\"lon\":[-122.39976258647586,-122.42085915076044,-122.40849315881205,-122.42058060938771,-122.42058060938771,-122.40733704162238,-122.40392088280285,-122.41443019938555,-122.40528580238285,-122.42224083209325],\"marker\":{\"color\":\"#ab63fa\",\"symbol\":\"circle\"},\"mode\":\"markers\",\"name\":\"Arson\",\"showlegend\":true,\"type\":\"scattergeo\"},{\"geo\":\"geo\",\"hovertemplate\":\"Incident Category=Offences Against The Family And Children<br>latitude=%{lat}<br>longitude=%{lon}<extra></extra>\",\"lat\":[37.80088675365464,37.80088675365464,37.75759495685635,37.75759495685635,37.72954271057539,37.785491559268934,37.80279069007599,37.77283099431839,37.71007028653156,37.78637893587979,37.74974559899618,37.74974559899618,37.78637893587979,37.800695733525004,37.71812520439796,37.7805353858225,37.76468236324016,37.71193343102876,37.71028620218089,37.78709954244846,37.78709954244846,37.78709954244846,37.78709954244846,37.78931984806438,37.747430713456296,37.73123178759346,37.82908934030154,37.785582473554015,37.75703540085026,37.73871026351508,37.78720062525248,37.73306987628829,37.727424871385494,37.78258503232177,37.78258503232177,37.77210825726729,37.77974694971805,37.77328477975284,37.781940323599706,37.78720062525248,37.76877049785351,37.785491559268934,37.80228098253618,37.74974559899618,37.74974559899618,37.76231576837908,37.76231576837908,37.781940323599706,37.780354394008114,37.725380391389876,37.82954857858764,37.732434022666936,37.72716838925669,37.78016202513452,37.737449311366646,37.75855952412134,37.75683373380551,37.72474884706181],\"legendgroup\":\"Offences Against The Family And Children\",\"lon\":[-122.42782503384545,-122.42782503384545,-122.40958833798562,-122.40958833798562,-122.38641847685011,-122.40785252141461,-122.42821030774003,-122.39137353346597,-122.43867975767627,-122.39564546789741,-122.39627354527164,-122.39627354527164,-122.39564546789741,-122.44470426984901,-122.43435450033807,-122.40816079455212,-122.45121306348491,-122.41876599574823,-122.42165162814439,-122.39579264200438,-122.39579264200438,-122.39579264200438,-122.39579264200438,-122.41537192257195,-122.4072709297569,-122.38772939117182,-122.37664023199723,-122.4146172088293,-122.41890102956305,-122.48935674012142,-122.4169898328862,-122.3776486254886,-122.38268699042688,-122.41569387441227,-122.41569387441227,-122.43043391908799,-122.49223228977323,-122.41222500728585,-122.43581374227543,-122.4169898328862,-122.42746205880601,-122.40785252141461,-122.42473126057587,-122.39627354527164,-122.39627354527164,-122.46297200199032,-122.46297200199032,-122.43581374227543,-122.39463146450412,-122.44161907684445,-122.37142899749846,-122.38380325319487,-122.43680549380603,-122.40769141596378,-122.43007168017607,-122.50579684832913,-122.40669900268833,-122.46023446371291],\"marker\":{\"color\":\"#FFA15A\",\"symbol\":\"circle\"},\"mode\":\"markers\",\"name\":\"Offences Against The Family And Children\",\"showlegend\":true,\"type\":\"scattergeo\"},{\"geo\":\"geo\",\"hovertemplate\":\"Incident Category=Traffic Violation Arrest<br>latitude=%{lat}<br>longitude=%{lon}<extra></extra>\",\"lat\":[37.766691459464916,37.74816568813204,37.77761914280685,37.780611621569214,37.74118663867511,37.785582473554015,37.724729109115316,37.77311442180407,37.7276341253869,37.79801695570216,37.77129635185078,37.7691985467523,37.7691985467523,37.78221337826227,37.78207306684549,37.773466920607476,37.77870384086902,37.77082024098187,37.75876422799191,37.77429439631743,37.77973890462704,37.77311442180407,37.77311442180407,37.77311442180407,37.746775139448474,37.78445272883687,37.78616615811754,37.79057825823802,37.77311442180407,37.781863337992526,37.78268536745206,37.780614965813264,37.727859992471934,37.763187800944834,37.7617814128804,37.77311442180407,37.72829372549084,37.780993781477434,37.777699658507856,37.74096192703731,37.78445272883687,37.78392473449428,37.780005867994824,37.73367501603134,37.73355034231799,37.78883777870189,37.777977086075,37.708311265041836],\"legendgroup\":\"Traffic Violation Arrest\",\"lon\":[-122.3926618696727,-122.41822117169174,-122.41187022703075,-122.42373098580642,-122.47553978844745,-122.4146172088293,-122.3879304959651,-122.47229734203229,-122.4035928907734,-122.40547307125945,-122.40542473566995,-122.4177829388001,-122.4177829388001,-122.39983345203913,-122.41222073683006,-122.39143433652146,-122.47270848239937,-122.40913437034878,-122.41687248251154,-122.42075989402895,-122.40715948914875,-122.47229734203229,-122.47229734203229,-122.47229734203229,-122.41912130184564,-122.40849315881205,-122.42137337495188,-122.42068738428432,-122.47229734203229,-122.41386560526722,-122.42246374465972,-122.41613809985034,-122.38511885228444,-122.40730484858473,-122.44678340468593,-122.47229734203229,-122.38755070874484,-122.4131480505296,-122.40460550711119,-122.4015557018139,-122.40849315881205,-122.42777887211062,-122.41193341005338,-122.42639116629013,-122.43414453855247,-122.38942894299095,-122.40938700711665,-122.42008306742426],\"marker\":{\"color\":\"#19d3f3\",\"symbol\":\"circle\"},\"mode\":\"markers\",\"name\":\"Traffic Violation Arrest\",\"showlegend\":true,\"type\":\"scattergeo\"},{\"geo\":\"geo\",\"hovertemplate\":\"Incident Category=Rape<br>latitude=%{lat}<br>longitude=%{lon}<extra></extra>\",\"lat\":[37.7880272139735],\"legendgroup\":\"Rape\",\"lon\":[-122.4217498823547],\"marker\":{\"color\":\"#FF6692\",\"symbol\":\"circle\"},\"mode\":\"markers\",\"name\":\"Rape\",\"showlegend\":true,\"type\":\"scattergeo\"},{\"geo\":\"geo\",\"hovertemplate\":\"Incident Category=Fraud<br>latitude=%{lat}<br>longitude=%{lon}<extra></extra>\",\"lat\":[37.7965602708769,37.78049625961115,37.768246024114525,37.748369271646446,37.71073194458116,37.768246024114525,37.80572025485464,37.72109565955879,37.78817788964108,37.76924652917891,37.744681182378415,37.78610103879033,37.78049625961115,37.754165035480035,37.759566657289916,37.71426624769614,37.79900004908356,37.77230320284353,37.797506948421855,37.7306992495087,37.77874737106934,37.78515093922473,37.7893632771505,37.77781524516056,37.731103552240334,37.731103552240334,37.788699045143865,37.7604244265039,37.784944005025956,37.71426624769614,37.75753872210959,37.78404443715923,37.79057825823802,37.79057825823802,37.779277452518656,37.749234792154994,37.79942531094891,37.786128280764366,37.80220130787601,37.78631021732119,37.775602761721544,37.75290661105615,37.7984422945084,37.75703540085026,37.71524434385366,37.72872846256451,37.73011880465789,37.74573900165584,37.76924652917891,37.7706103582148,37.7133620895825,37.773466920607476,37.71073194458116,37.76924652917891,37.74239176061754,37.773466920607476,37.70880633652071,37.78392891076606,37.794859532228344,37.775451004519724,37.787996308614986,37.7816542606277,37.77601659060897,37.78693970570657,37.790666905733474,37.7839325760642,37.78049625961115,37.78049625961115,37.788942623294176,37.79843905991203,37.78735926098589],\"legendgroup\":\"Fraud\",\"lon\":[-122.41718743750015,-122.43214039079034,-122.45335228997452,-122.44502166556514,-122.41877184294184,-122.45335228997452,-122.42036904750553,-122.44450117945567,-122.41682715547994,-122.42397157963755,-122.48118121642418,-122.41808809883916,-122.43214039079034,-122.43985521294523,-122.44299139621741,-122.46799613908783,-122.44264789818902,-122.41967183064224,-122.43220428969965,-122.44657347732516,-122.42335402580974,-122.43308339913544,-122.40374684787704,-122.42316555401516,-122.47592653370485,-122.47592653370485,-122.42030688368688,-122.50592811171158,-122.4347299934904,-122.46799613908783,-122.41052654649906,-122.40371175457705,-122.42068738428432,-122.42068738428432,-122.39221065777403,-122.50514824280262,-122.4393366547218,-122.47657515018977,-122.41796623042116,-122.41644912401847,-122.40307640218379,-122.40729118425897,-122.40987875494628,-122.41890102956305,-122.40618936856656,-122.38998131767396,-122.47593733565002,-122.49952544596933,-122.42397157963755,-122.4143442572656,-122.44395162934734,-122.39143433652146,-122.41877184294184,-122.42397157963755,-122.40583815976386,-122.39143433652146,-122.45266472219633,-122.45681322103421,-122.40487561154785,-122.40948148898309,-122.39359716503304,-122.41550518013352,-122.44477989251513,-122.41151576847024,-122.42744775609354,-122.41259527758581,-122.43214039079034,-122.43214039079034,-122.42214537963808,-122.43239266601849,-122.40822672700406],\"marker\":{\"color\":\"#B6E880\",\"symbol\":\"circle\"},\"mode\":\"markers\",\"name\":\"Fraud\",\"showlegend\":true,\"type\":\"scattergeo\"},{\"geo\":\"geo\",\"hovertemplate\":\"Incident Category=Disorderly Conduct<br>latitude=%{lat}<br>longitude=%{lon}<extra></extra>\",\"lat\":[37.777601861095036,37.73453253544143,37.73453253544143,37.786615346301794,37.785491559268934,37.77812569661714,37.76373572668911,37.78872115135928,37.78482668479605,37.76028232127865,37.734276936387595,37.77499179106878,37.752506064398666,37.776332975565595,37.78321431177312,37.799369723004254,37.76507220692411,37.77283099431839,37.780993781477434,37.78682752578904,37.773466920607476,37.78578958358186,37.79208770821325,37.77745741894575,37.80109545463191,37.77745741894575,37.7880272139735,37.7848662445387,37.78682752578904,37.7868345113598,37.785641708798344,37.76410227052293,37.748212149468735,37.78795027159103,37.779851069106634,37.785491559268934,37.76578329861651,37.80089647618971,37.77749384266056,37.79768974850337,37.76667360056878,37.784560141211806,37.781940323599706,37.76491737717617,37.76667360056878,37.740891974182375,37.766957909504505,37.766957909504505,37.77607577268114,37.76257883049033,37.737449311366646,37.781321256248475,37.73322326126074,37.78465714011983,37.750505825050176,37.77406164547093,37.758498507780814],\"legendgroup\":\"Disorderly Conduct\",\"lon\":[-122.42480887808776,-122.47945964906894,-122.47945964906894,-122.40639887891692,-122.40785252141461,-122.39184052639568,-122.39858041765093,-122.4020657306611,-122.44318255363099,-122.5091412242345,-122.44889315551856,-122.41006277137103,-122.41408603237402,-122.39403506751226,-122.41076482950653,-122.43258075381267,-122.39773738320481,-122.39137353346597,-122.4131480505296,-122.41992794913615,-122.39143433652146,-122.41296966814406,-122.41629064994724,-122.4131576926893,-122.42618004477822,-122.4131576926893,-122.4217498823547,-122.41278212939851,-122.41992794913615,-122.41234030428764,-122.41799627043912,-122.43531729847254,-122.41586279405455,-122.43364712515255,-122.50943294181482,-122.40785252141461,-122.40753423057456,-122.39913024364351,-122.41629170279316,-122.44578544273985,-122.41982523539403,-122.40733704162238,-122.43581374227543,-122.42188644715362,-122.41982523539403,-122.46582902531254,-122.38816413828668,-122.38816413828668,-122.4169158536446,-122.42166247826907,-122.43007168017607,-122.3958435001427,-122.3912444943072,-122.41443019938555,-122.42050700685434,-122.43761062521642,-122.42127173012831],\"marker\":{\"color\":\"#FF97FF\",\"symbol\":\"circle\"},\"mode\":\"markers\",\"name\":\"Disorderly Conduct\",\"showlegend\":true,\"type\":\"scattergeo\"},{\"geo\":\"geo\",\"hovertemplate\":\"Incident Category=Robbery<br>latitude=%{lat}<br>longitude=%{lon}<extra></extra>\",\"lat\":[37.777601861095036,37.76102130996882,37.788942623294176,37.77455093061696,37.78175432665782,37.76006217607446,37.72641514900517,37.76006217607446,37.793060300029126,37.77306951516253,37.756054713668725,37.76006217607446,37.79006979947905,37.77630014439043,37.796210953409165,37.716958530279314,37.78414101130419,37.78872115135928,37.75238228485067,37.754165035480035,37.72688808877558,37.781863337992526,37.741027406919294,37.773474419099585,37.77874737106934,37.7829399329451,37.76104311964574,37.77781524516056,37.78164558340537,37.716958530279314,37.78709954244846,37.78709954244846,37.73479735810732,37.78640961281089,37.77630014439043,37.72855512801819,37.72206900262077,37.7223816644898,37.78239164108496,37.8034983873889,37.78328785199654,37.734013871373556,37.78016202513452,37.77615876396203,37.71916172353446,37.74730103458013,37.72308475493274,37.75356917984707,37.75356917984707,37.76924652917891,37.7482307301352,37.78101892065425,37.752439644389675,37.78610103879033,37.775997142169274,37.753836586731786,37.78435505539235,37.784560141211806,37.709238073866935,37.78817788964108,37.75759495685635,37.77921168445851,37.77745741894575,37.75220444116967,37.77560725599502,37.782569887796356,37.732431907229156,37.798776308543445,37.798776308543445,37.76505133632968,37.783824117317494,37.765958187824175,37.76667360056878,37.777699658507856,37.777699658507856,37.78842726061901,37.74239176061754,37.80094306477118,37.7751111795051,37.7751111795051,37.73322326126074,37.7602353540718,37.76257883049033],\"legendgroup\":\"Robbery\",\"lon\":[-122.42480887808776,-122.43279350716129,-122.42214537963808,-122.42250219093546,-122.40969326320398,-122.41261023594913,-122.38923775427506,-122.41261023594913,-122.40112634282397,-122.38728739685827,-122.40849924216333,-122.41261023594913,-122.39097101886335,-122.3900250407223,-122.40514297852731,-122.43964030596055,-122.41095161908784,-122.4020657306611,-122.4286145716948,-122.43985521294523,-122.47423317526119,-122.41386560526722,-122.42284057840082,-122.41803023409047,-122.42335402580974,-122.46442502609422,-122.44278560736181,-122.42316555401516,-122.43060920034239,-122.43964030596055,-122.39579264200438,-122.39579264200438,-122.3906937736637,-122.40803623744476,-122.3900250407223,-122.4203744468594,-122.43976464381225,-122.43440671066068,-122.44730151526936,-122.40762991176781,-122.40895216005933,-122.39096789139202,-122.40769141596378,-122.42114842518583,-122.40043463946905,-122.41138806898739,-122.4159233435049,-122.42302846551907,-122.42302846551907,-122.42397157963755,-122.41491896442716,-122.46427917113807,-122.41517229045435,-122.41808809883916,-122.42616739374448,-122.41859394629981,-122.4329142491479,-122.40733704162238,-122.48513637869327,-122.41682715547994,-122.40958833798562,-122.41093657493794,-122.4131576926893,-122.4190175437401,-122.4154847516124,-122.43079788213421,-122.39152135166226,-122.40720639505003,-122.40720639505003,-122.41966897380142,-122.42100836115098,-122.40462333824286,-122.41982523539403,-122.40460550711119,-122.40460550711119,-122.40357988072867,-122.40583815976386,-122.40764549330265,-122.42936586083005,-122.42936586083005,-122.3912444943072,-122.41920604493745,-122.42166247826907],\"marker\":{\"color\":\"#FECB52\",\"symbol\":\"circle\"},\"mode\":\"markers\",\"name\":\"Robbery\",\"showlegend\":true,\"type\":\"scattergeo\"},{\"geo\":\"geo\",\"hovertemplate\":\"Incident Category=Missing Person<br>latitude=%{lat}<br>longitude=%{lon}<extra></extra>\",\"lat\":[37.763669481344884,37.76506065111531,37.73441300707409,37.774040691881595,37.75683373380551,37.769249649263244,37.77414948413214,37.79594540193314,37.7839325760642,37.77283099431839,37.744681182378415,37.72282560233111,37.750902579749194,37.73609568679291,37.75663916020415,37.74545961234702,37.734952014809046,37.73493313717421,37.785802909531846,37.73493313717421,37.71658322044297,37.72867801184137,37.72990988256753,37.773466920607476,37.750902579749194,37.77871942789032,37.78279444506034,37.76373572668911,37.77414948413214,37.75996737508222,37.77804532780479,37.79754141761171,37.76088893209152,37.77812569661714,37.79046106747903,37.77654089269352,37.73815553767246,37.773474419099585,37.796094568589005,37.777822690350504,37.78808218625765,37.78049625961115,37.78808218625765,37.71321573252819,37.71321573252819,37.785167213738916,37.7178761514803,37.79025429821475,37.79025429821475,37.74323996197794,37.77363529533009,37.742814402568605,37.74545961234702,37.74545961234702,37.77283099431839,37.77456496882312,37.77986739485365,37.71060922894519,37.71350820228132,37.76257883049033,37.78936926678204,37.74545961234702,37.74545961234702,37.779090726308574,37.76257883049033],\"legendgroup\":\"Missing Person\",\"lon\":[-122.45239989104994,-122.43317863645373,-122.39334020712593,-122.4528128205759,-122.40669900268833,-122.43246434217895,-122.4444046139903,-122.4217681680622,-122.41259527758581,-122.39137353346597,-122.48118121642418,-122.4264681529013,-122.41392577458258,-122.50619398278234,-122.4422195519432,-122.44633615796015,-122.418099245057,-122.38606720211364,-122.41574387355833,-122.38606720211364,-122.45115539513982,-122.38156441612668,-122.39717687851248,-122.39143433652146,-122.41392577458258,-122.4147412230519,-122.41405376568504,-122.39858041765093,-122.4444046139903,-122.42364130874256,-122.4124133449216,-122.41703009398731,-122.4350007026991,-122.39184052639568,-122.39668969554637,-122.41750146383842,-122.41087894264375,-122.41803023409047,-122.42010952520249,-122.49209488892724,-122.41005693097291,-122.43214039079034,-122.41005693097291,-122.40484243189002,-122.40484243189002,-122.41790141130261,-122.4716321803948,-122.41555908738222,-122.41555908738222,-122.47135683382884,-122.44092179360752,-122.48104953693301,-122.44633615796015,-122.44633615796015,-122.39137353346597,-122.41262715459183,-122.43707186619966,-122.45013809819935,-122.40209579623757,-122.42166247826907,-122.39185829145075,-122.44633615796015,-122.44633615796015,-122.46414497098554,-122.42166247826907],\"marker\":{\"color\":\"#636efa\",\"symbol\":\"circle\"},\"mode\":\"markers\",\"name\":\"Missing Person\",\"showlegend\":true,\"type\":\"scattergeo\"},{\"geo\":\"geo\",\"hovertemplate\":\"Incident Category=Weapons Offense<br>latitude=%{lat}<br>longitude=%{lon}<extra></extra>\",\"lat\":[37.752426800122734,37.786615346301794,37.73453253544143,37.73453253544143,37.793060300029126,37.71875409989921,37.76373572668911,37.76505133632968,37.78482668479605,37.80727586975037,37.766013730057786,37.71191455546749,37.71073194458116,37.78414101130419,37.76520982544754,37.71118857209046,37.72419422572373,37.77745741894575,37.77580068534641,37.78351564008561,37.77697602158848,37.73497690238017,37.73671972240032,37.785641708798344,37.79888096617859,37.78337048750076,37.71823520757972,37.76578329861651,37.75529478092247,37.740891974182375,37.76505133632968,37.72431637120677,37.75550249751555,37.73322326126074,37.781863337992526,37.781863337992526],\"legendgroup\":\"Weapons Offense\",\"lon\":[-122.3945869789376,-122.40639887891692,-122.47945964906894,-122.47945964906894,-122.40112634282397,-122.41167332538446,-122.39858041765093,-122.41966897380142,-122.44318255363099,-122.41561643757444,-122.43082439591676,-122.41600028103292,-122.41877184294184,-122.41095161908784,-122.48261455726514,-122.40365010867637,-122.40655319099005,-122.4131576926893,-122.4141732061619,-122.41588253952085,-122.42968688476122,-122.38313398537929,-122.38656998233408,-122.41799627043912,-122.39869570327996,-122.42083185184009,-122.45610752772225,-122.40753423057456,-122.42096409369465,-122.46582902531254,-122.41966897380142,-122.43403348247257,-122.417658993747,-122.3912444943072,-122.41386560526722,-122.41386560526722],\"marker\":{\"color\":\"#EF553B\",\"symbol\":\"circle\"},\"mode\":\"markers\",\"name\":\"Weapons Offense\",\"showlegend\":true,\"type\":\"scattergeo\"},{\"geo\":\"geo\",\"hovertemplate\":\"Incident Category=Case Closure<br>latitude=%{lat}<br>longitude=%{lon}<extra></extra>\",\"lat\":[37.75683373380551,37.7751608100771,37.79374703131433,37.79389640842504,37.74312376235638,37.75356917984707,37.74974559899618,37.75220444116967,37.77385630397913],\"legendgroup\":\"Case Closure\",\"lon\":[-122.40669900268833,-122.40363551943442,-122.41036544410379,-122.4091914521134,-122.40327519404315,-122.42302846551907,-122.39627354527164,-122.4190175437401,-122.40528580238285],\"marker\":{\"color\":\"#00cc96\",\"symbol\":\"circle\"},\"mode\":\"markers\",\"name\":\"Case Closure\",\"showlegend\":true,\"type\":\"scattergeo\"},{\"geo\":\"geo\",\"hovertemplate\":\"Incident Category=Traffic Collision<br>latitude=%{lat}<br>longitude=%{lon}<extra></extra>\",\"lat\":[37.74118663867511,37.732923621825364,37.78414101130419,37.72848584805409,37.717454736093245,37.76549844046503,37.782116602343244,37.80123569763512,37.73367501603134],\"legendgroup\":\"Traffic Collision\",\"lon\":[-122.47553978844745,-122.4552605153723,-122.41095161908784,-122.3845563064214,-122.45907229101812,-122.47618663821125,-122.45009230346619,-122.43295762803383,-122.42639116629013],\"marker\":{\"color\":\"#ab63fa\",\"symbol\":\"circle\"},\"mode\":\"markers\",\"name\":\"Traffic Collision\",\"showlegend\":true,\"type\":\"scattergeo\"},{\"geo\":\"geo\",\"hovertemplate\":\"Incident Category=Vandalism<br>latitude=%{lat}<br>longitude=%{lon}<extra></extra>\",\"lat\":[37.75749071759781,37.82544447384668,37.79544849687888,37.77903801782764,37.78853592966637,37.78853592966637,37.746884773941126,37.762087690546814,37.72928367096209,37.77709097125577],\"legendgroup\":\"Vandalism\",\"lon\":[-122.43795911719398,-122.37619127986623,-122.40041268582165,-122.44369911129915,-122.39603476680188,-122.39603476680188,-122.44224379569725,-122.42843121132712,-122.42826844907457,-122.42133043276547],\"marker\":{\"color\":\"#FFA15A\",\"symbol\":\"circle\"},\"mode\":\"markers\",\"name\":\"Vandalism\",\"showlegend\":true,\"type\":\"scattergeo\"},{\"geo\":\"geo\",\"hovertemplate\":\"Incident Category=Courtesy Report<br>latitude=%{lat}<br>longitude=%{lon}<extra></extra>\",\"lat\":[37.77283099431839,37.723775023598364,37.73314372948054,37.7984422945084,37.7133620895825,37.7984422945084,37.72498829635846,37.77283099431839,37.7839325760642],\"legendgroup\":\"Courtesy Report\",\"lon\":[-122.39137353346597,-122.40310583018963,-122.40434481360481,-122.40987875494628,-122.44395162934734,-122.40987875494628,-122.44306587712263,-122.39137353346597,-122.41259527758581],\"marker\":{\"color\":\"#19d3f3\",\"symbol\":\"circle\"},\"mode\":\"markers\",\"name\":\"Courtesy Report\",\"showlegend\":true,\"type\":\"scattergeo\"},{\"geo\":\"geo\",\"hovertemplate\":\"Incident Category=Weapons Carrying Etc<br>latitude=%{lat}<br>longitude=%{lon}<extra></extra>\",\"lat\":[37.734669531072996,37.70940240014413,37.70940240014413,37.730015826566984,37.72848584805409,37.7880272139735,37.734669531072996,37.78640961281089,37.75356917984707,37.780993781477434,37.800607119774014,37.78196076502422,37.763429272147256,37.72312996239932,37.78883777870189,37.78883777870189],\"legendgroup\":\"Weapons Carrying Etc\",\"lon\":[-122.41244733280233,-122.44670507471142,-122.44670507471142,-122.3772026141149,-122.3845563064214,-122.4217498823547,-122.41244733280233,-122.40803623744476,-122.42302846551907,-122.4131480505296,-122.40025046404315,-122.420638250988,-122.41951273794947,-122.43597688974761,-122.38942894299095,-122.38942894299095],\"marker\":{\"color\":\"#FF6692\",\"symbol\":\"circle\"},\"mode\":\"markers\",\"name\":\"Weapons Carrying Etc\",\"showlegend\":true,\"type\":\"scattergeo\"},{\"geo\":\"geo\",\"hovertemplate\":\"Incident Category=Stolen Property<br>latitude=%{lat}<br>longitude=%{lon}<extra></extra>\",\"lat\":[37.76261677293727,37.78715775494674,37.752074816171096,37.70940240014413,37.78983697125977,37.722397870557415,37.76497689783835,37.78337048750076,37.7802927384657,37.78832799779113,37.7932578668955,37.78259591133464,37.800607119774014,37.780699048573226,37.78337048750076,37.72699065551247,37.78144749392477],\"legendgroup\":\"Stolen Property\",\"lon\":[-122.49855529961762,-122.43238604688531,-122.40041559127415,-122.44670507471142,-122.43402709034117,-122.4300261514751,-122.42090127191872,-122.42083185184009,-122.44114884546975,-122.42696286071894,-122.42122998219767,-122.39934928749489,-122.40025046404315,-122.40392088280285,-122.42083185184009,-122.38025684003502,-122.41714561338313],\"marker\":{\"color\":\"#B6E880\",\"symbol\":\"circle\"},\"mode\":\"markers\",\"name\":\"Stolen Property\",\"showlegend\":true,\"type\":\"scattergeo\"},{\"geo\":\"geo\",\"hovertemplate\":\"Incident Category=Prostitution<br>latitude=%{lat}<br>longitude=%{lon}<extra></extra>\",\"lat\":[37.73832136115452,37.78838792971966],\"legendgroup\":\"Prostitution\",\"lon\":[-122.40564673809936,-122.41518527060464],\"marker\":{\"color\":\"#FF97FF\",\"symbol\":\"circle\"},\"mode\":\"markers\",\"name\":\"Prostitution\",\"showlegend\":true,\"type\":\"scattergeo\"},{\"geo\":\"geo\",\"hovertemplate\":\"Incident Category=Forgery And Counterfeiting<br>latitude=%{lat}<br>longitude=%{lon}<extra></extra>\",\"lat\":[37.744681182378415,37.7758343406229,37.78878689392044,37.7761378357141],\"legendgroup\":\"Forgery And Counterfeiting\",\"lon\":[-122.48118121642418,-122.43119861059851,-122.4270596732852,-122.436318144307],\"marker\":{\"color\":\"#FECB52\",\"symbol\":\"circle\"},\"mode\":\"markers\",\"name\":\"Forgery And Counterfeiting\",\"showlegend\":true,\"type\":\"scattergeo\"},{\"geo\":\"geo\",\"hovertemplate\":\"Incident Category=Drug Violation<br>latitude=%{lat}<br>longitude=%{lon}<extra></extra>\",\"lat\":[37.78331088878137],\"legendgroup\":\"Drug Violation\",\"lon\":[-122.41752877437465],\"marker\":{\"color\":\"#636efa\",\"symbol\":\"circle\"},\"mode\":\"markers\",\"name\":\"Drug Violation\",\"showlegend\":true,\"type\":\"scattergeo\"},{\"geo\":\"geo\",\"hovertemplate\":\"Incident Category=Homicide<br>latitude=%{lat}<br>longitude=%{lon}<extra></extra>\",\"lat\":[37.773466920607476],\"legendgroup\":\"Homicide\",\"lon\":[-122.39143433652146],\"marker\":{\"color\":\"#EF553B\",\"symbol\":\"circle\"},\"mode\":\"markers\",\"name\":\"Homicide\",\"showlegend\":true,\"type\":\"scattergeo\"},{\"geo\":\"geo\",\"hovertemplate\":\"Incident Category=Embezzlement<br>latitude=%{lat}<br>longitude=%{lon}<extra></extra>\",\"lat\":[37.76468236324016],\"legendgroup\":\"Embezzlement\",\"lon\":[-122.45121306348491],\"marker\":{\"color\":\"#00cc96\",\"symbol\":\"circle\"},\"mode\":\"markers\",\"name\":\"Embezzlement\",\"showlegend\":true,\"type\":\"scattergeo\"},{\"geo\":\"geo\",\"hovertemplate\":\"Incident Category=Fire Report<br>latitude=%{lat}<br>longitude=%{lon}<extra></extra>\",\"lat\":[37.77622135530407,37.752426800122734,37.7691985467523,37.76229072471273,37.7178199460474,37.722626214091335,37.71131669257075,37.74897104640288,37.77500333538674,37.82386062294955,37.71131669257075],\"legendgroup\":\"Fire Report\",\"lon\":[-122.41160611386445,-122.3945869789376,-122.4177829388001,-122.43841829787343,-122.40727155053213,-122.3966262021733,-122.42224083209325,-122.40562695301617,-122.47190510429122,-122.37446787226924,-122.42224083209325],\"marker\":{\"color\":\"#ab63fa\",\"symbol\":\"circle\"},\"mode\":\"markers\",\"name\":\"Fire Report\",\"showlegend\":true,\"type\":\"scattergeo\"},{\"geo\":\"geo\",\"hovertemplate\":\"Incident Category=Vehicle Misplaced<br>latitude=%{lat}<br>longitude=%{lon}<extra></extra>\",\"lat\":[37.75959572256557,37.80161146089911],\"legendgroup\":\"Vehicle Misplaced\",\"lon\":[-122.48222116381105,-122.40746137560912],\"marker\":{\"color\":\"#FFA15A\",\"symbol\":\"circle\"},\"mode\":\"markers\",\"name\":\"Vehicle Misplaced\",\"showlegend\":true,\"type\":\"scattergeo\"},{\"geo\":\"geo\",\"hovertemplate\":\"Incident Category=nan<br>latitude=%{lat}<br>longitude=%{lon}<extra></extra>\",\"lat\":[37.75529478092247,37.800607119774014],\"legendgroup\":\"nan\",\"lon\":[-122.42096409369465,-122.40025046404315],\"marker\":{\"color\":\"#19d3f3\",\"symbol\":\"circle\"},\"mode\":\"markers\",\"name\":\"nan\",\"showlegend\":true,\"type\":\"scattergeo\"}],                        {\"template\":{\"data\":{\"bar\":[{\"error_x\":{\"color\":\"#2a3f5f\"},\"error_y\":{\"color\":\"#2a3f5f\"},\"marker\":{\"line\":{\"color\":\"#E5ECF6\",\"width\":0.5},\"pattern\":{\"fillmode\":\"overlay\",\"size\":10,\"solidity\":0.2}},\"type\":\"bar\"}],\"barpolar\":[{\"marker\":{\"line\":{\"color\":\"#E5ECF6\",\"width\":0.5},\"pattern\":{\"fillmode\":\"overlay\",\"size\":10,\"solidity\":0.2}},\"type\":\"barpolar\"}],\"carpet\":[{\"aaxis\":{\"endlinecolor\":\"#2a3f5f\",\"gridcolor\":\"white\",\"linecolor\":\"white\",\"minorgridcolor\":\"white\",\"startlinecolor\":\"#2a3f5f\"},\"baxis\":{\"endlinecolor\":\"#2a3f5f\",\"gridcolor\":\"white\",\"linecolor\":\"white\",\"minorgridcolor\":\"white\",\"startlinecolor\":\"#2a3f5f\"},\"type\":\"carpet\"}],\"choropleth\":[{\"colorbar\":{\"outlinewidth\":0,\"ticks\":\"\"},\"type\":\"choropleth\"}],\"contour\":[{\"colorbar\":{\"outlinewidth\":0,\"ticks\":\"\"},\"colorscale\":[[0.0,\"#0d0887\"],[0.1111111111111111,\"#46039f\"],[0.2222222222222222,\"#7201a8\"],[0.3333333333333333,\"#9c179e\"],[0.4444444444444444,\"#bd3786\"],[0.5555555555555556,\"#d8576b\"],[0.6666666666666666,\"#ed7953\"],[0.7777777777777778,\"#fb9f3a\"],[0.8888888888888888,\"#fdca26\"],[1.0,\"#f0f921\"]],\"type\":\"contour\"}],\"contourcarpet\":[{\"colorbar\":{\"outlinewidth\":0,\"ticks\":\"\"},\"type\":\"contourcarpet\"}],\"heatmap\":[{\"colorbar\":{\"outlinewidth\":0,\"ticks\":\"\"},\"colorscale\":[[0.0,\"#0d0887\"],[0.1111111111111111,\"#46039f\"],[0.2222222222222222,\"#7201a8\"],[0.3333333333333333,\"#9c179e\"],[0.4444444444444444,\"#bd3786\"],[0.5555555555555556,\"#d8576b\"],[0.6666666666666666,\"#ed7953\"],[0.7777777777777778,\"#fb9f3a\"],[0.8888888888888888,\"#fdca26\"],[1.0,\"#f0f921\"]],\"type\":\"heatmap\"}],\"heatmapgl\":[{\"colorbar\":{\"outlinewidth\":0,\"ticks\":\"\"},\"colorscale\":[[0.0,\"#0d0887\"],[0.1111111111111111,\"#46039f\"],[0.2222222222222222,\"#7201a8\"],[0.3333333333333333,\"#9c179e\"],[0.4444444444444444,\"#bd3786\"],[0.5555555555555556,\"#d8576b\"],[0.6666666666666666,\"#ed7953\"],[0.7777777777777778,\"#fb9f3a\"],[0.8888888888888888,\"#fdca26\"],[1.0,\"#f0f921\"]],\"type\":\"heatmapgl\"}],\"histogram\":[{\"marker\":{\"pattern\":{\"fillmode\":\"overlay\",\"size\":10,\"solidity\":0.2}},\"type\":\"histogram\"}],\"histogram2d\":[{\"colorbar\":{\"outlinewidth\":0,\"ticks\":\"\"},\"colorscale\":[[0.0,\"#0d0887\"],[0.1111111111111111,\"#46039f\"],[0.2222222222222222,\"#7201a8\"],[0.3333333333333333,\"#9c179e\"],[0.4444444444444444,\"#bd3786\"],[0.5555555555555556,\"#d8576b\"],[0.6666666666666666,\"#ed7953\"],[0.7777777777777778,\"#fb9f3a\"],[0.8888888888888888,\"#fdca26\"],[1.0,\"#f0f921\"]],\"type\":\"histogram2d\"}],\"histogram2dcontour\":[{\"colorbar\":{\"outlinewidth\":0,\"ticks\":\"\"},\"colorscale\":[[0.0,\"#0d0887\"],[0.1111111111111111,\"#46039f\"],[0.2222222222222222,\"#7201a8\"],[0.3333333333333333,\"#9c179e\"],[0.4444444444444444,\"#bd3786\"],[0.5555555555555556,\"#d8576b\"],[0.6666666666666666,\"#ed7953\"],[0.7777777777777778,\"#fb9f3a\"],[0.8888888888888888,\"#fdca26\"],[1.0,\"#f0f921\"]],\"type\":\"histogram2dcontour\"}],\"mesh3d\":[{\"colorbar\":{\"outlinewidth\":0,\"ticks\":\"\"},\"type\":\"mesh3d\"}],\"parcoords\":[{\"line\":{\"colorbar\":{\"outlinewidth\":0,\"ticks\":\"\"}},\"type\":\"parcoords\"}],\"pie\":[{\"automargin\":true,\"type\":\"pie\"}],\"scatter\":[{\"marker\":{\"colorbar\":{\"outlinewidth\":0,\"ticks\":\"\"}},\"type\":\"scatter\"}],\"scatter3d\":[{\"line\":{\"colorbar\":{\"outlinewidth\":0,\"ticks\":\"\"}},\"marker\":{\"colorbar\":{\"outlinewidth\":0,\"ticks\":\"\"}},\"type\":\"scatter3d\"}],\"scattercarpet\":[{\"marker\":{\"colorbar\":{\"outlinewidth\":0,\"ticks\":\"\"}},\"type\":\"scattercarpet\"}],\"scattergeo\":[{\"marker\":{\"colorbar\":{\"outlinewidth\":0,\"ticks\":\"\"}},\"type\":\"scattergeo\"}],\"scattergl\":[{\"marker\":{\"colorbar\":{\"outlinewidth\":0,\"ticks\":\"\"}},\"type\":\"scattergl\"}],\"scattermapbox\":[{\"marker\":{\"colorbar\":{\"outlinewidth\":0,\"ticks\":\"\"}},\"type\":\"scattermapbox\"}],\"scatterpolar\":[{\"marker\":{\"colorbar\":{\"outlinewidth\":0,\"ticks\":\"\"}},\"type\":\"scatterpolar\"}],\"scatterpolargl\":[{\"marker\":{\"colorbar\":{\"outlinewidth\":0,\"ticks\":\"\"}},\"type\":\"scatterpolargl\"}],\"scatterternary\":[{\"marker\":{\"colorbar\":{\"outlinewidth\":0,\"ticks\":\"\"}},\"type\":\"scatterternary\"}],\"surface\":[{\"colorbar\":{\"outlinewidth\":0,\"ticks\":\"\"},\"colorscale\":[[0.0,\"#0d0887\"],[0.1111111111111111,\"#46039f\"],[0.2222222222222222,\"#7201a8\"],[0.3333333333333333,\"#9c179e\"],[0.4444444444444444,\"#bd3786\"],[0.5555555555555556,\"#d8576b\"],[0.6666666666666666,\"#ed7953\"],[0.7777777777777778,\"#fb9f3a\"],[0.8888888888888888,\"#fdca26\"],[1.0,\"#f0f921\"]],\"type\":\"surface\"}],\"table\":[{\"cells\":{\"fill\":{\"color\":\"#EBF0F8\"},\"line\":{\"color\":\"white\"}},\"header\":{\"fill\":{\"color\":\"#C8D4E3\"},\"line\":{\"color\":\"white\"}},\"type\":\"table\"}]},\"layout\":{\"annotationdefaults\":{\"arrowcolor\":\"#2a3f5f\",\"arrowhead\":0,\"arrowwidth\":1},\"autotypenumbers\":\"strict\",\"coloraxis\":{\"colorbar\":{\"outlinewidth\":0,\"ticks\":\"\"}},\"colorscale\":{\"diverging\":[[0,\"#8e0152\"],[0.1,\"#c51b7d\"],[0.2,\"#de77ae\"],[0.3,\"#f1b6da\"],[0.4,\"#fde0ef\"],[0.5,\"#f7f7f7\"],[0.6,\"#e6f5d0\"],[0.7,\"#b8e186\"],[0.8,\"#7fbc41\"],[0.9,\"#4d9221\"],[1,\"#276419\"]],\"sequential\":[[0.0,\"#0d0887\"],[0.1111111111111111,\"#46039f\"],[0.2222222222222222,\"#7201a8\"],[0.3333333333333333,\"#9c179e\"],[0.4444444444444444,\"#bd3786\"],[0.5555555555555556,\"#d8576b\"],[0.6666666666666666,\"#ed7953\"],[0.7777777777777778,\"#fb9f3a\"],[0.8888888888888888,\"#fdca26\"],[1.0,\"#f0f921\"]],\"sequentialminus\":[[0.0,\"#0d0887\"],[0.1111111111111111,\"#46039f\"],[0.2222222222222222,\"#7201a8\"],[0.3333333333333333,\"#9c179e\"],[0.4444444444444444,\"#bd3786\"],[0.5555555555555556,\"#d8576b\"],[0.6666666666666666,\"#ed7953\"],[0.7777777777777778,\"#fb9f3a\"],[0.8888888888888888,\"#fdca26\"],[1.0,\"#f0f921\"]]},\"colorway\":[\"#636efa\",\"#EF553B\",\"#00cc96\",\"#ab63fa\",\"#FFA15A\",\"#19d3f3\",\"#FF6692\",\"#B6E880\",\"#FF97FF\",\"#FECB52\"],\"font\":{\"color\":\"#2a3f5f\"},\"geo\":{\"bgcolor\":\"white\",\"lakecolor\":\"white\",\"landcolor\":\"#E5ECF6\",\"showlakes\":true,\"showland\":true,\"subunitcolor\":\"white\"},\"hoverlabel\":{\"align\":\"left\"},\"hovermode\":\"closest\",\"mapbox\":{\"style\":\"light\"},\"paper_bgcolor\":\"white\",\"plot_bgcolor\":\"#E5ECF6\",\"polar\":{\"angularaxis\":{\"gridcolor\":\"white\",\"linecolor\":\"white\",\"ticks\":\"\"},\"bgcolor\":\"#E5ECF6\",\"radialaxis\":{\"gridcolor\":\"white\",\"linecolor\":\"white\",\"ticks\":\"\"}},\"scene\":{\"xaxis\":{\"backgroundcolor\":\"#E5ECF6\",\"gridcolor\":\"white\",\"gridwidth\":2,\"linecolor\":\"white\",\"showbackground\":true,\"ticks\":\"\",\"zerolinecolor\":\"white\"},\"yaxis\":{\"backgroundcolor\":\"#E5ECF6\",\"gridcolor\":\"white\",\"gridwidth\":2,\"linecolor\":\"white\",\"showbackground\":true,\"ticks\":\"\",\"zerolinecolor\":\"white\"},\"zaxis\":{\"backgroundcolor\":\"#E5ECF6\",\"gridcolor\":\"white\",\"gridwidth\":2,\"linecolor\":\"white\",\"showbackground\":true,\"ticks\":\"\",\"zerolinecolor\":\"white\"}},\"shapedefaults\":{\"line\":{\"color\":\"#2a3f5f\"}},\"ternary\":{\"aaxis\":{\"gridcolor\":\"white\",\"linecolor\":\"white\",\"ticks\":\"\"},\"baxis\":{\"gridcolor\":\"white\",\"linecolor\":\"white\",\"ticks\":\"\"},\"bgcolor\":\"#E5ECF6\",\"caxis\":{\"gridcolor\":\"white\",\"linecolor\":\"white\",\"ticks\":\"\"}},\"title\":{\"x\":0.05},\"xaxis\":{\"automargin\":true,\"gridcolor\":\"white\",\"linecolor\":\"white\",\"ticks\":\"\",\"title\":{\"standoff\":15},\"zerolinecolor\":\"white\",\"zerolinewidth\":2},\"yaxis\":{\"automargin\":true,\"gridcolor\":\"white\",\"linecolor\":\"white\",\"ticks\":\"\",\"title\":{\"standoff\":15},\"zerolinecolor\":\"white\",\"zerolinewidth\":2}}},\"geo\":{\"domain\":{\"x\":[0.0,1.0],\"y\":[0.0,1.0]},\"center\":{},\"lonaxis\":{\"range\":[-122.575,-122.325]},\"lataxis\":{\"range\":[37.69,37.85]},\"scope\":\"north america\",\"showocean\":true,\"showland\":true,\"showcountries\":true},\"legend\":{\"title\":{\"text\":\"Incident Category\"},\"tracegroupgap\":0},\"title\":{\"text\":\"Crime Hotspots based on Year, Day and Time\"},\"height\":1000,\"width\":1000},                        {\"responsive\": true}                    ).then(function(){\n                            \nvar gd = document.getElementById('c626716a-c5e3-4fd5-a568-558f69b34469');\nvar x = new MutationObserver(function (mutations, observer) {{\n        var display = window.getComputedStyle(gd).display;\n        if (!display || display === 'none') {{\n            console.log([gd, 'removed!']);\n            Plotly.purge(gd);\n            observer.disconnect();\n        }}\n}});\n\n// Listen for the removal of the full notebook cells\nvar notebookContainer = gd.closest('#notebook-container');\nif (notebookContainer) {{\n    x.observe(notebookContainer, {childList: true});\n}}\n\n// Listen for the clearing of the current output cell\nvar outputEl = gd.closest('.output');\nif (outputEl) {{\n    x.observe(outputEl, {childList: true});\n}}\n\n                        })                };                            </script>        </div>\n</body>\n</html>"
        },
        "metadata": {},
        "output_type": "display_data"
       }
      ]
     }
    },
    "63090f28b27243cb8e07e28bb27271fd": {
     "model_module": "@jupyter-widgets/base",
     "model_module_version": "1.2.0",
     "model_name": "LayoutModel",
     "state": {
      "_model_module": "@jupyter-widgets/base",
      "_model_module_version": "1.2.0",
      "_model_name": "LayoutModel",
      "_view_count": null,
      "_view_module": "@jupyter-widgets/base",
      "_view_module_version": "1.2.0",
      "_view_name": "LayoutView",
      "align_content": null,
      "align_items": null,
      "align_self": null,
      "border": null,
      "bottom": null,
      "display": null,
      "flex": null,
      "flex_flow": null,
      "grid_area": null,
      "grid_auto_columns": null,
      "grid_auto_flow": null,
      "grid_auto_rows": null,
      "grid_column": null,
      "grid_gap": null,
      "grid_row": null,
      "grid_template_areas": null,
      "grid_template_columns": null,
      "grid_template_rows": null,
      "height": null,
      "justify_content": null,
      "justify_items": null,
      "left": null,
      "margin": null,
      "max_height": null,
      "max_width": null,
      "min_height": null,
      "min_width": null,
      "object_fit": null,
      "object_position": null,
      "order": null,
      "overflow": null,
      "overflow_x": null,
      "overflow_y": null,
      "padding": null,
      "right": null,
      "top": null,
      "visibility": null,
      "width": null
     }
    },
    "635ab7cd097649818eb2c3db23abce89": {
     "model_module": "@jupyter-widgets/controls",
     "model_module_version": "1.5.0",
     "model_name": "VBoxModel",
     "state": {
      "_dom_classes": [
       "widget-interact"
      ],
      "_model_module": "@jupyter-widgets/controls",
      "_model_module_version": "1.5.0",
      "_model_name": "VBoxModel",
      "_view_count": null,
      "_view_module": "@jupyter-widgets/controls",
      "_view_module_version": "1.5.0",
      "_view_name": "VBoxView",
      "box_style": "",
      "children": [
       "IPY_MODEL_0bcb9d9630864049b23760408d092463",
       "IPY_MODEL_b29f91f61da64c2199a8444be7a6b8e1",
       "IPY_MODEL_105e02b9be49437f88f1de0a2dae23b9"
      ],
      "layout": "IPY_MODEL_63090f28b27243cb8e07e28bb27271fd"
     }
    },
    "66ddfc8ab1ce4aeab78798f95b78d586": {
     "model_module": "@jupyter-widgets/base",
     "model_module_version": "1.2.0",
     "model_name": "LayoutModel",
     "state": {
      "_model_module": "@jupyter-widgets/base",
      "_model_module_version": "1.2.0",
      "_model_name": "LayoutModel",
      "_view_count": null,
      "_view_module": "@jupyter-widgets/base",
      "_view_module_version": "1.2.0",
      "_view_name": "LayoutView",
      "align_content": null,
      "align_items": null,
      "align_self": null,
      "border": null,
      "bottom": null,
      "display": null,
      "flex": null,
      "flex_flow": null,
      "grid_area": null,
      "grid_auto_columns": null,
      "grid_auto_flow": null,
      "grid_auto_rows": null,
      "grid_column": null,
      "grid_gap": null,
      "grid_row": null,
      "grid_template_areas": null,
      "grid_template_columns": null,
      "grid_template_rows": null,
      "height": null,
      "justify_content": null,
      "justify_items": null,
      "left": null,
      "margin": null,
      "max_height": null,
      "max_width": null,
      "min_height": null,
      "min_width": null,
      "object_fit": null,
      "object_position": null,
      "order": null,
      "overflow": null,
      "overflow_x": null,
      "overflow_y": null,
      "padding": null,
      "right": null,
      "top": null,
      "visibility": null,
      "width": null
     }
    },
    "758a9c1968c044e8942839424757ccb6": {
     "model_module": "@jupyter-widgets/controls",
     "model_module_version": "1.5.0",
     "model_name": "DropdownModel",
     "state": {
      "_dom_classes": [],
      "_model_module": "@jupyter-widgets/controls",
      "_model_module_version": "1.5.0",
      "_model_name": "DropdownModel",
      "_options_labels": [
       "2022",
       "2021",
       "2020",
       "2019",
       "2018"
      ],
      "_view_count": null,
      "_view_module": "@jupyter-widgets/controls",
      "_view_module_version": "1.5.0",
      "_view_name": "DropdownView",
      "description": "Year",
      "description_tooltip": null,
      "disabled": false,
      "index": 0,
      "layout": "IPY_MODEL_e72a6cde1b3e4e7080b3c8b38b3d9d07",
      "style": "IPY_MODEL_45063095efdd4152ab6063bdc0496517"
     }
    },
    "7a08e11f81ff4143bb01b86f629aa36d": {
     "model_module": "@jupyter-widgets/base",
     "model_module_version": "1.2.0",
     "model_name": "LayoutModel",
     "state": {
      "_model_module": "@jupyter-widgets/base",
      "_model_module_version": "1.2.0",
      "_model_name": "LayoutModel",
      "_view_count": null,
      "_view_module": "@jupyter-widgets/base",
      "_view_module_version": "1.2.0",
      "_view_name": "LayoutView",
      "align_content": null,
      "align_items": null,
      "align_self": null,
      "border": null,
      "bottom": null,
      "display": null,
      "flex": null,
      "flex_flow": null,
      "grid_area": null,
      "grid_auto_columns": null,
      "grid_auto_flow": null,
      "grid_auto_rows": null,
      "grid_column": null,
      "grid_gap": null,
      "grid_row": null,
      "grid_template_areas": null,
      "grid_template_columns": null,
      "grid_template_rows": null,
      "height": null,
      "justify_content": null,
      "justify_items": null,
      "left": null,
      "margin": null,
      "max_height": null,
      "max_width": null,
      "min_height": null,
      "min_width": null,
      "object_fit": null,
      "object_position": null,
      "order": null,
      "overflow": null,
      "overflow_x": null,
      "overflow_y": null,
      "padding": null,
      "right": null,
      "top": null,
      "visibility": null,
      "width": null
     }
    },
    "8e4fe9c6555c415fa1be778e14c98b7a": {
     "model_module": "@jupyter-widgets/base",
     "model_module_version": "1.2.0",
     "model_name": "LayoutModel",
     "state": {
      "_model_module": "@jupyter-widgets/base",
      "_model_module_version": "1.2.0",
      "_model_name": "LayoutModel",
      "_view_count": null,
      "_view_module": "@jupyter-widgets/base",
      "_view_module_version": "1.2.0",
      "_view_name": "LayoutView",
      "align_content": null,
      "align_items": null,
      "align_self": null,
      "border": null,
      "bottom": null,
      "display": null,
      "flex": null,
      "flex_flow": null,
      "grid_area": null,
      "grid_auto_columns": null,
      "grid_auto_flow": null,
      "grid_auto_rows": null,
      "grid_column": null,
      "grid_gap": null,
      "grid_row": null,
      "grid_template_areas": null,
      "grid_template_columns": null,
      "grid_template_rows": null,
      "height": null,
      "justify_content": null,
      "justify_items": null,
      "left": null,
      "margin": null,
      "max_height": null,
      "max_width": null,
      "min_height": null,
      "min_width": null,
      "object_fit": null,
      "object_position": null,
      "order": null,
      "overflow": null,
      "overflow_x": null,
      "overflow_y": null,
      "padding": null,
      "right": null,
      "top": null,
      "visibility": null,
      "width": null
     }
    },
    "910b1afa19a04128a02c12b77408cec3": {
     "model_module": "@jupyter-widgets/base",
     "model_module_version": "1.2.0",
     "model_name": "LayoutModel",
     "state": {
      "_model_module": "@jupyter-widgets/base",
      "_model_module_version": "1.2.0",
      "_model_name": "LayoutModel",
      "_view_count": null,
      "_view_module": "@jupyter-widgets/base",
      "_view_module_version": "1.2.0",
      "_view_name": "LayoutView",
      "align_content": null,
      "align_items": null,
      "align_self": null,
      "border": null,
      "bottom": null,
      "display": null,
      "flex": null,
      "flex_flow": null,
      "grid_area": null,
      "grid_auto_columns": null,
      "grid_auto_flow": null,
      "grid_auto_rows": null,
      "grid_column": null,
      "grid_gap": null,
      "grid_row": null,
      "grid_template_areas": null,
      "grid_template_columns": null,
      "grid_template_rows": null,
      "height": null,
      "justify_content": null,
      "justify_items": null,
      "left": null,
      "margin": null,
      "max_height": null,
      "max_width": null,
      "min_height": null,
      "min_width": null,
      "object_fit": null,
      "object_position": null,
      "order": null,
      "overflow": null,
      "overflow_x": null,
      "overflow_y": null,
      "padding": null,
      "right": null,
      "top": null,
      "visibility": null,
      "width": null
     }
    },
    "b29f91f61da64c2199a8444be7a6b8e1": {
     "model_module": "@jupyter-widgets/controls",
     "model_module_version": "1.5.0",
     "model_name": "DropdownModel",
     "state": {
      "_dom_classes": [],
      "_model_module": "@jupyter-widgets/controls",
      "_model_module_version": "1.5.0",
      "_model_name": "DropdownModel",
      "_options_labels": [
       "Missing Person",
       "Fraud",
       "Traffic Violation Arrest",
       "Other",
       "Drug Offense",
       "Motor Vehicle Theft",
       "Drug Violation",
       "Burglary",
       "Non-Criminal",
       "Robbery",
       "Warrant",
       "Larceny Theft",
       "Recovered Vehicle",
       "Malicious Mischief",
       "Arson",
       "Stolen Property",
       "Assault",
       "Weapons Offense",
       "Disorderly Conduct",
       "Suspicious Occ",
       "Courtesy Report",
       "Case Closure",
       "Fire Report",
       "Weapons Carrying Etc",
       "Lost Property",
       "Miscellaneous Investigation",
       "nan",
       "Vandalism",
       "Forgery And Counterfeiting",
       "Offences Against The Family And Children",
       "Sex Offense",
       "Traffic Collision",
       "Vehicle Impounded",
       "Vehicle Misplaced",
       "Embezzlement",
       "Human Trafficking (A), Commercial Sex Acts",
       "Civil Sidewalks",
       "Homicide",
       "Prostitution",
       "Suicide",
       "Rape",
       "Liquor Laws",
       "Suspicious",
       "Gambling",
       "Human Trafficking, Commercial Sex Acts",
       "Human Trafficking (B), Involuntary Servitude"
      ],
      "_view_count": null,
      "_view_module": "@jupyter-widgets/controls",
      "_view_module_version": "1.5.0",
      "_view_name": "DropdownView",
      "description": "Type",
      "description_tooltip": null,
      "disabled": false,
      "index": 0,
      "layout": "IPY_MODEL_261f28caaf6f45d7aeb68000c96199b4",
      "style": "IPY_MODEL_cee6a2c7ed924eeda81d4ce44eba180c"
     }
    },
    "be706e548e094ad2840662681adaae16": {
     "model_module": "@jupyter-widgets/controls",
     "model_module_version": "1.5.0",
     "model_name": "DescriptionStyleModel",
     "state": {
      "_model_module": "@jupyter-widgets/controls",
      "_model_module_version": "1.5.0",
      "_model_name": "DescriptionStyleModel",
      "_view_count": null,
      "_view_module": "@jupyter-widgets/base",
      "_view_module_version": "1.2.0",
      "_view_name": "StyleView",
      "description_width": ""
     }
    },
    "c28f3bb75b954b2c907d6572ef3c6592": {
     "model_module": "@jupyter-widgets/base",
     "model_module_version": "1.2.0",
     "model_name": "LayoutModel",
     "state": {
      "_model_module": "@jupyter-widgets/base",
      "_model_module_version": "1.2.0",
      "_model_name": "LayoutModel",
      "_view_count": null,
      "_view_module": "@jupyter-widgets/base",
      "_view_module_version": "1.2.0",
      "_view_name": "LayoutView",
      "align_content": null,
      "align_items": null,
      "align_self": null,
      "border": null,
      "bottom": null,
      "display": null,
      "flex": null,
      "flex_flow": null,
      "grid_area": null,
      "grid_auto_columns": null,
      "grid_auto_flow": null,
      "grid_auto_rows": null,
      "grid_column": null,
      "grid_gap": null,
      "grid_row": null,
      "grid_template_areas": null,
      "grid_template_columns": null,
      "grid_template_rows": null,
      "height": null,
      "justify_content": null,
      "justify_items": null,
      "left": null,
      "margin": null,
      "max_height": null,
      "max_width": null,
      "min_height": null,
      "min_width": null,
      "object_fit": null,
      "object_position": null,
      "order": null,
      "overflow": null,
      "overflow_x": null,
      "overflow_y": null,
      "padding": null,
      "right": null,
      "top": null,
      "visibility": null,
      "width": null
     }
    },
    "cee6a2c7ed924eeda81d4ce44eba180c": {
     "model_module": "@jupyter-widgets/controls",
     "model_module_version": "1.5.0",
     "model_name": "DescriptionStyleModel",
     "state": {
      "_model_module": "@jupyter-widgets/controls",
      "_model_module_version": "1.5.0",
      "_model_name": "DescriptionStyleModel",
      "_view_count": null,
      "_view_module": "@jupyter-widgets/base",
      "_view_module_version": "1.2.0",
      "_view_name": "StyleView",
      "description_width": ""
     }
    },
    "cfba263b59f24bb4bcf70c15e3af9243": {
     "model_module": "@jupyter-widgets/base",
     "model_module_version": "1.2.0",
     "model_name": "LayoutModel",
     "state": {
      "_model_module": "@jupyter-widgets/base",
      "_model_module_version": "1.2.0",
      "_model_name": "LayoutModel",
      "_view_count": null,
      "_view_module": "@jupyter-widgets/base",
      "_view_module_version": "1.2.0",
      "_view_name": "LayoutView",
      "align_content": null,
      "align_items": null,
      "align_self": null,
      "border": null,
      "bottom": null,
      "display": null,
      "flex": null,
      "flex_flow": null,
      "grid_area": null,
      "grid_auto_columns": null,
      "grid_auto_flow": null,
      "grid_auto_rows": null,
      "grid_column": null,
      "grid_gap": null,
      "grid_row": null,
      "grid_template_areas": null,
      "grid_template_columns": null,
      "grid_template_rows": null,
      "height": null,
      "justify_content": null,
      "justify_items": null,
      "left": null,
      "margin": null,
      "max_height": null,
      "max_width": null,
      "min_height": null,
      "min_width": null,
      "object_fit": null,
      "object_position": null,
      "order": null,
      "overflow": null,
      "overflow_x": null,
      "overflow_y": null,
      "padding": null,
      "right": null,
      "top": null,
      "visibility": null,
      "width": null
     }
    },
    "e72a6cde1b3e4e7080b3c8b38b3d9d07": {
     "model_module": "@jupyter-widgets/base",
     "model_module_version": "1.2.0",
     "model_name": "LayoutModel",
     "state": {
      "_model_module": "@jupyter-widgets/base",
      "_model_module_version": "1.2.0",
      "_model_name": "LayoutModel",
      "_view_count": null,
      "_view_module": "@jupyter-widgets/base",
      "_view_module_version": "1.2.0",
      "_view_name": "LayoutView",
      "align_content": null,
      "align_items": null,
      "align_self": null,
      "border": null,
      "bottom": null,
      "display": null,
      "flex": null,
      "flex_flow": null,
      "grid_area": null,
      "grid_auto_columns": null,
      "grid_auto_flow": null,
      "grid_auto_rows": null,
      "grid_column": null,
      "grid_gap": null,
      "grid_row": null,
      "grid_template_areas": null,
      "grid_template_columns": null,
      "grid_template_rows": null,
      "height": null,
      "justify_content": null,
      "justify_items": null,
      "left": null,
      "margin": null,
      "max_height": null,
      "max_width": null,
      "min_height": null,
      "min_width": null,
      "object_fit": null,
      "object_position": null,
      "order": null,
      "overflow": null,
      "overflow_x": null,
      "overflow_y": null,
      "padding": null,
      "right": null,
      "top": null,
      "visibility": null,
      "width": null
     }
    },
    "fca88834e13d47ddbe339a9c55ceeeae": {
     "model_module": "@jupyter-widgets/controls",
     "model_module_version": "1.5.0",
     "model_name": "DescriptionStyleModel",
     "state": {
      "_model_module": "@jupyter-widgets/controls",
      "_model_module_version": "1.5.0",
      "_model_name": "DescriptionStyleModel",
      "_view_count": null,
      "_view_module": "@jupyter-widgets/base",
      "_view_module_version": "1.2.0",
      "_view_name": "StyleView",
      "description_width": ""
     }
    }
   }
  }
 },
 "nbformat": 4,
 "nbformat_minor": 5
}
